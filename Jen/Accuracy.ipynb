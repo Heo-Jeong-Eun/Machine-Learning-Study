{
 "cells": [
  {
   "cell_type": "markdown",
   "id": "e0c2cc2d",
   "metadata": {},
   "source": [
    "# chapter 3. Evaluation"
   ]
  },
  {
   "cell_type": "markdown",
   "id": "73adc19e",
   "metadata": {},
   "source": [
    "**머신러닝**은 **데이터 가공 / 변환, 모델 학습 / 예측, 그리고 평가의 프로세스로 구성**된다. <br>\n",
    "머신러닝 모델은 여러 가지 방법으로 예측 성능을 평가할 수 있다. <br>\n",
    "**성능 평가 지표(Evaluation Metric)는 일반적으로 모델이 분류나 회귀냐에 따라 여러 종류로 나뉜다.** <br>\n",
    "**회귀**의 경우 대부분실제 값과 예측값의 오차 평균에 기반한다. <br>\n",
    "**분류**의 평가방법도 일반적으로는 실제 결과 데이터와 예측 결과 데이터가 얼마나 정확하고 오류가 적게 발생하는가에 기반하지만, 정확도만 가지고 판단하는 것은 위험하다. <br>\n",
    "분류에 사용되는 성능 평가 지표 중 하나인 **이진 분류의 성능 평가 지표**는 0이냐 1이냐 혹은 긍정 / 부정을 판단하고, 정확도보다는 다른 성능 평가 지표가 더 중요시되는 경우가 많다. <br>\n",
    "\n",
    "**분류의 성능 평가 지표** <br>\n",
    "1. **정확도** / Accuracy <br>\n",
    "2. **오차 행렬** / Confusion Matrix <br>\n",
    "3. **정밀도** / Precision <br> \n",
    "4. **재현율** <br> \n",
    "5. **F1 스코어** <br> \n",
    "6. **ROC AUC** <br> \n",
    "\n",
    "분류는 **결정 클래스 값 종류의 유형에 따라** 긍정 / 부정과 같은 2개의 결과값만을 가지는 **이진 분류**와 여러 개의 결정 클래스 값을 가지는 **멀티 분류**로 나뉜다."
   ]
  },
  {
   "cell_type": "markdown",
   "id": "cf51f506",
   "metadata": {},
   "source": [
    "## Accuracy \n",
    "\n",
    "**정확도**는 **실제 데이터에서 예측 데이터가 얼마나 같은지**를 판단하는 지표이다. <br>\n",
    "**직관적**으로 **모델 예측 성능을 나타내는 평가 지표**이다. <br>\n",
    "**이진 분류**의 경우 **데이터의 구성에 따라 ML 모델의 성능을 왜곡할 수 있기 때문에** 정확도 수치 하나만 가지고 성능을 평가하지 않는다. <br>\n",
    "\n",
    "<img src = 'image/Accuracy.jpg' alt = 'Accruracy' width='500' height='500'>"
   ]
  },
  {
   "cell_type": "code",
   "execution_count": 17,
   "id": "74a20527",
   "metadata": {},
   "outputs": [],
   "source": [
    "# 사이킷런의 BaseEstimator를 상속 받으면 Customized 형태의 Estimator를 개발자가 생성할 수 있다. \n",
    "from sklearn.base import BaseEstimator\n",
    "\n",
    "class MyDummyClassifier(BaseEstimator):\n",
    "    # fit() 메서드는 아무것도 학습하지 않는다. \n",
    "    def fit(self, X, Y = None):\n",
    "        pass\n",
    "    \n",
    "    # predict() 메서드는 단순히 Sex 피처가 1이면 0, 그렇지 않으면 1로 예측한다. \n",
    "    def predict(self, X):\n",
    "        pred = np.zeros((X.shape[0], 1))\n",
    "        for i in range(X.shape[0]):\n",
    "            if X['Sex'].iloc[i] == 1:\n",
    "                pred[i] = 0\n",
    "            else:\n",
    "                pred[i] = 1\n",
    "        \n",
    "        return pred"
   ]
  },
  {
   "cell_type": "code",
   "execution_count": 20,
   "id": "b80ac431",
   "metadata": {},
   "outputs": [
    {
     "name": "stdout",
     "output_type": "stream",
     "text": [
      "Dummy Classifier의 정확도는 : 0.385475\n"
     ]
    }
   ],
   "source": [
    "import pandas as pd\n",
    "from sklearn.model_selection import train_test_split\n",
    "from sklearn.metrics import accuracy_score\n",
    "\n",
    "# 원본 데이터를 재로딩, 데이터 가공, 학습 데이터 / 테스트 데이터 분할\n",
    "titanic_df = pd.read_csv(r'/Users/1001l1000/Documents/AI-Tech/Jen/data/titanic_train.csv')\n",
    "Y_titanic_df = titanic_df['Survived']\n",
    "X_titanic_df = titanic_df.drop('Survived', axis = 1)\n",
    "# X_titanic_df = transform_features(X_titanic_df) # Error !!\n",
    "X_train, X_test, Y_train, Y_test = train_test_split(X_titanic_df, Y_titanic_df,\n",
    "                                                    test_size = 0.2, random_state = 0)\n",
    "\n",
    "# 위에 생성한 Dummy Classifier를 이용해 학습 / 예측 / 평가 수행\n",
    "myclf = MyDummyClassifier()\n",
    "myclf.fit(X_train, Y_train)\n",
    "\n",
    "mypredictions = myclf.predict(X_test)\n",
    "print('Dummy Classifier의 정확도는 : {0:4f}'.format(accuracy_score(Y_test, mypredictions)))"
   ]
  },
  {
   "cell_type": "markdown",
   "id": "e6fe41d4",
   "metadata": {},
   "source": [
    "정확도를 평가 지표로 사용할 때는 매우 신중해야 한다. <br>\n",
    "불균형한(Imbalanced) 레이블 값 분포에서 ML 모델의 성능을 판단할 경우, 적합한 평가 지표가 아니다. <br>\n",
    " \n",
    "사이킷런은 **load_digits() API를 통해 MNIST 데이터 세트를 제공**한다. "
   ]
  },
  {
   "cell_type": "code",
   "execution_count": 26,
   "id": "bf981e2e",
   "metadata": {},
   "outputs": [],
   "source": [
    "from sklearn.datasets import load_digits\n",
    "from sklearn.model_selection import train_test_split\n",
    "from sklearn.base import BaseEstimator\n",
    "from sklearn.metrics import accuracy_score\n",
    "import numpy as np\n",
    "import pandas as pd\n",
    "\n",
    "class MyFakeClassifier(BaseEstimator):\n",
    "    def fit(self, X, Y):\n",
    "        pass\n",
    "    \n",
    "    # 입력값으로 들어오는 X 데이터 세트의 크기만큼 모두 0 값으로 만들어서 반환\n",
    "    def predict(self, X):\n",
    "        return np.zeros((len(X), 1), dtype = bool)\n",
    "    \n",
    "# 사이킷런의 내장 데이터 세트인 load_digits()를 이용해 MNIST 데이터 로딩\n",
    "digits = load_digits()\n",
    "    \n",
    "# digits 번호가 7번이면 True이고, 이를 astype(int)로 1 변환, 7번이 아니면 False이고 0으로 변환\n",
    "Y = (digits.target == 7).astype(int)\n",
    "X_train, X_test, Y_train, Y_test = train_test_split(digits.data, Y, random_state = 11)"
   ]
  },
  {
   "cell_type": "code",
   "execution_count": 29,
   "id": "c340eae7",
   "metadata": {},
   "outputs": [
    {
     "name": "stdout",
     "output_type": "stream",
     "text": [
      "레이블 테스트 세트 크기 :  (450,)\n",
      "테스트 세트 레이블 0과 1의 분포도\n",
      "0    405\n",
      "1     45\n",
      "dtype: int64\n",
      "모든 예측을 0으로 하여도 정확도는 : 0.900\n"
     ]
    }
   ],
   "source": [
    "# 불균형한 레이블 데이터 분포도 확인 \n",
    "print('레이블 테스트 세트 크기 : ', Y_test.shape)\n",
    "print('테스트 세트 레이블 0과 1의 분포도')\n",
    "print(pd.Series(Y_test).value_counts())\n",
    "\n",
    "# Dummy Classifier로 학습 / 예측 / 정확도 평가\n",
    "fakeclf = MyFakeClassifier()\n",
    "fakeclf.fit(X_train, Y_train)\n",
    "fakepred = fakeclf.predict(X_test)\n",
    "print('모든 예측을 0으로 하여도 정확도는 : {:.3f}'.format(accuracy_score(Y_test, fakepred)))"
   ]
  },
  {
   "cell_type": "markdown",
   "id": "440bd189",
   "metadata": {},
   "source": [
    "정확도 평가 지표는 불균형한 레이블 데이터 세트에서는 성능 수치로 사용돼서는 안된다. <br>\n",
    "여러가지 분류 지표와 함께 적용하여 ML 모델 성능을 평가해야 한다. "
   ]
  }
 ],
 "metadata": {
  "kernelspec": {
   "display_name": "Python 3 (ipykernel)",
   "language": "python",
   "name": "python3"
  },
  "language_info": {
   "codemirror_mode": {
    "name": "ipython",
    "version": 3
   },
   "file_extension": ".py",
   "mimetype": "text/x-python",
   "name": "python",
   "nbconvert_exporter": "python",
   "pygments_lexer": "ipython3",
   "version": "3.9.6"
  }
 },
 "nbformat": 4,
 "nbformat_minor": 5
}
