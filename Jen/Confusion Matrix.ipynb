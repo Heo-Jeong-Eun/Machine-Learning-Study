{
 "cells": [
  {
   "cell_type": "markdown",
   "id": "f2f41538",
   "metadata": {},
   "source": [
    "# chapter 3. Evaluation¶"
   ]
  },
  {
   "cell_type": "markdown",
   "id": "212380aa",
   "metadata": {},
   "source": [
    "## Confusion Matrix\n",
    "\n",
    "이진 분류에서 성능 지표로 잘 활용되는 **오차 행렬(Confusion Matrix, 혼동 행렬)** 은 이진 분류의 예측 오류가 얼마인지와 더불어 어떤 유형의 예측 오류가 발생하고 있는지를 함께 나타내는 지표이다. <br>\n",
    "오차 행렬은 다음과 같은 4분면 행렬에서 실제 레이블 클래스 값과 예측 레이블 클래스 값이 어떠한 유형을 가지고 매핑되는지 나타낸다. <br>\n",
    "\n",
    "<img src = 'image/Predicted Class.jpg' alt = 'Predicted Class' width='500' height='500'>\n",
    "\n",
    "**TN, FP, FN, TP**는 **예측 클래스**와 **실제 클래스의 Positive 결정 값(값 1)** 과 **Negative 결정 값(값 1)** 의 결합에 따라 결정된다. <br>\n",
    "TN은 예측 값을 Negative 값 0으로 예측했고, 실제 값 역시 Negative 값 0 <br>\n",
    "FP는 예측 값을 Positive 값 1로 예측했는데, 실제 값은 Negative 값 0 <br>\n",
    "FN는 예측 값을 Negative 값 0으로 예측했는데, 실제 값은 Positive 값 1 <br>\n",
    "TP는 예측 값을 Positive 값 1로 예측했고, 실제 값은 Positive 값 1\n",
    "\n",
    "사이킷런은 **오차 행렬을 구하기 위해 confusion_matrix() API를 제공**한다. "
   ]
  },
  {
   "cell_type": "code",
   "execution_count": 3,
   "id": "97a37e20",
   "metadata": {},
   "outputs": [
    {
     "name": "stdout",
     "output_type": "stream",
     "text": [
      "레이블 테스트 세트 크기 :  (450,)\n",
      "테스트 세트 레이블 0과 1의 분포도\n",
      "0    405\n",
      "1     45\n",
      "dtype: int64\n",
      "모든 예측을 0으로 하여도 정확도는 : 0.900\n"
     ]
    }
   ],
   "source": [
    "# 이전 Accuracy Data\n",
    "\n",
    "from sklearn.datasets import load_digits\n",
    "from sklearn.model_selection import train_test_split\n",
    "from sklearn.base import BaseEstimator\n",
    "from sklearn.metrics import accuracy_score\n",
    "import numpy as np\n",
    "import pandas as pd\n",
    "\n",
    "class MyFakeClassifier(BaseEstimator):\n",
    "    def fit(self, X, Y):\n",
    "        pass\n",
    "    \n",
    "    # 입력값으로 들어오는 X 데이터 세트의 크기만큼 모두 0 값으로 만들어서 반환\n",
    "    def predict(self, X):\n",
    "        return np.zeros((len(X), 1), dtype = bool)\n",
    "    \n",
    "# 사이킷런의 내장 데이터 세트인 load_digits()를 이용해 MNIST 데이터 로딩\n",
    "digits = load_digits()\n",
    "    \n",
    "# digits 번호가 7번이면 True이고, 이를 astype(int)로 1 변환, 7번이 아니면 False이고 0으로 변환\n",
    "Y = (digits.target == 7).astype(int)\n",
    "X_train, X_test, Y_train, Y_test = train_test_split(digits.data, Y, random_state = 11)\n",
    "\n",
    "# 불균형한 레이블 데이터 분포도 확인 \n",
    "print('레이블 테스트 세트 크기 : ', Y_test.shape)\n",
    "print('테스트 세트 레이블 0과 1의 분포도')\n",
    "print(pd.Series(Y_test).value_counts())\n",
    "\n",
    "# Dummy Classifier로 학습 / 예측 / 정확도 평가\n",
    "fakeclf = MyFakeClassifier()\n",
    "fakeclf.fit(X_train, Y_train)\n",
    "fakepred = fakeclf.predict(X_test)\n",
    "print('모든 예측을 0으로 하여도 정확도는 : {:.3f}'.format(accuracy_score(Y_test, fakepred)))"
   ]
  },
  {
   "cell_type": "code",
   "execution_count": 4,
   "id": "8f1edcb5",
   "metadata": {},
   "outputs": [
    {
     "data": {
      "text/plain": [
       "array([[405,   0],\n",
       "       [ 45,   0]])"
      ]
     },
     "execution_count": 4,
     "metadata": {},
     "output_type": "execute_result"
    }
   ],
   "source": [
    "# MyFakeClassifier의 예측 결과인 fakepred와 실제 결과인 Y_test를 confusion_matrix()의 인자로 입력해 오차 행렬을 배열 형태로 출력\n",
    "from sklearn.metrics import confusion_matrix\n",
    "\n",
    "confusion_matrix(Y_test, fakepred)"
   ]
  },
  {
   "cell_type": "markdown",
   "id": "c2a33c46",
   "metadata": {},
   "source": [
    "출력된 오차 행렬은 ndarray 형태이다. <br> \n",
    "이진 분류의 TN, FP, FN, TP는 상단 도표와 동일한 위치를 가지고 array에서 가져올 수 있다. <br> \n",
    "TN, FP, FN, TP 값은 Classifier 성능의 여러 면모를 판단할 수 있는 기반 정보를 제공한다. <br> \n",
    "\n",
    "**정확도 = 예측 결과와 실제 값이 동일한 건수 / 전체 데이터 수 = (TN + FP) / (TN + FP + FN + TP)**"
   ]
  }
 ],
 "metadata": {
  "kernelspec": {
   "display_name": "Python 3 (ipykernel)",
   "language": "python",
   "name": "python3"
  },
  "language_info": {
   "codemirror_mode": {
    "name": "ipython",
    "version": 3
   },
   "file_extension": ".py",
   "mimetype": "text/x-python",
   "name": "python",
   "nbconvert_exporter": "python",
   "pygments_lexer": "ipython3",
   "version": "3.9.6"
  }
 },
 "nbformat": 4,
 "nbformat_minor": 5
}
