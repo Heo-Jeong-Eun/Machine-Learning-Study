{
 "cells": [
  {
   "cell_type": "markdown",
   "id": "2d407636-734b-4bf1-94ab-db7b6c836a20",
   "metadata": {},
   "source": [
    "# chapter 9. Recommendation System"
   ]
  },
  {
   "cell_type": "markdown",
   "id": "ff0d7994-98f9-49d2-8499-df34c543a52c",
   "metadata": {},
   "source": [
    "## Content Based Filtering Recommendation System\n",
    "\n",
    "콘텐츠 기반 필터링 방식은 **사용자가 특정한 아이템을 매우 선호하는 경우, 그 아이템과 비슷한 콘텐츠를 가진 다른 아이템을 추천하는 방식**이다. <br>"
   ]
  }
 ],
 "metadata": {
  "kernelspec": {
   "display_name": "Python 3 (ipykernel)",
   "language": "python",
   "name": "python3"
  },
  "language_info": {
   "codemirror_mode": {
    "name": "ipython",
    "version": 3
   },
   "file_extension": ".py",
   "mimetype": "text/x-python",
   "name": "python",
   "nbconvert_exporter": "python",
   "pygments_lexer": "ipython3",
   "version": "3.8.13"
  }
 },
 "nbformat": 4,
 "nbformat_minor": 5
}
