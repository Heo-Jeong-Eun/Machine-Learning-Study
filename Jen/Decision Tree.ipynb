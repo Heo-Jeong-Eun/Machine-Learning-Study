{
 "cells": [
  {
   "cell_type": "markdown",
   "id": "1a6b410a",
   "metadata": {},
   "source": [
    "# chapter 4. Classification"
   ]
  },
  {
   "cell_type": "markdown",
   "id": "34f598f7",
   "metadata": {},
   "source": [
    "## Decision Tree\n",
    "\n",
    "**결정 트리**는 **ML 알고리즘 중 직관적으로 이해하기 쉬운 알고리즘**이다. <br>\n",
    "**데이터에 있는 규칙을 학습을 통해 자동으로 찾아내 트리 기반의 분류 규칙을 만드는 것**이다. <br>\n",
    "\n",
    "**결정 트리의 구조** <br>\n",
    "**규칙 노드(Decision Node)** 로 표시된 **노드는 규칙 조건이 되는 것**이고 **리프 노드(Leaf Node)** 로 표시된 노드는 **결정된 클래스 값**이다. <br>\n",
    "**새로운 규칙 조건마다 서브 트리가 생성**된다. <br>\n",
    "데이터 세트에 피처가 있고 이러한 **피처가 결합해 규칙 조건을 만들 때마다 규칙 노드가 만들어진다.** <br>\n",
    "많은 규칙이 있다는 것은 더욱 복잡해진다는 이야기이고, 이는 곧 **과적합**으로 이어진다. <br>\n",
    "트리의 깊이가 깊어질수록 결정트리의 예측 성능이 저하될 가능성이 높다. <br>\n",
    "\n",
    "<img src = 'image/Decision Tree Structure.jpg' alt = 'Decision Tree Structure' width='700' height='700'>\n",
    "\n",
    "**가능한 적은 결정 노드로 높은 예측 정확도**를 가지려면 **데이터를 분류할 때 최대한 많은 데이터 세트가 해당 분류에 속할 수 있도록 결정 노드의 규칙**이 정해져야 한다. <br>\n",
    "**어떻게 트리를 분할할 것인가가 중요**한데 **최대한 균일한 데이터 세트를 구성할 수 있도록 분할하는 것**이 필요하다. <br>\n",
    "\n",
    "데이터 세트의 균일도는 데이터를 구분하는데 필요한 정보의 양에 영향을 미친다. <br>\n",
    "**결정 노드는 정보 균일도가 높은 데이터 세트를 먼저 선택할 수 있도록 규칙 조건을 만든다.** <br>\n",
    "정보 균일도가 데이터 세트로 쪼개질 수 있도록 조건을 찾아 서브 데이터 세트를 만들고 다시 이 서브 데이터 세트에서 균일도가 높은 자식 데이터 세트 쪼개는 방식을 자식 트리로 내려가면서 반복하는 방식으로 데이터 값을 예측하게 된다. <br>\n",
    "정보 균일도를 측정하는 대표적인 방법은 **엔트로피를 이용한 정보 이득(Information Gain)지수**와 **지니 계수**가 있다. <br>\n",
    "- 정보 이득은 엔트로피라는 개념을 기반으로 한다. <br>\n",
    "- 엔트로피는 주어진 데이터 집합의 혼잡도를 의미한다. <br>\n",
    "- 정보 이득 시수는 1에서 엔트로피 지수를 뺀 값으로 1 - 엔트로피 지수이다. <br>\n",
    "- 결정 트리는 이 정보 이득 지수로 분할 기준을 정한다. <br>\n",
    "- 즉 정보 이득이 높은 속성을 기준으로 분할한다. <br>\n",
    "- 지니 계수는 원래 경제학에서 불평등 지수를 나타낼 때 사용하는 계수이다. <br>\n",
    "- 0이 가장 평등하고 1로 갈수록 불평등하다. <br>\n",
    "- 머신러닝에 적용될 때는 지니 계수가 낮을수록 데이터 균일도가 높은 것으로 해석, 지니 계수가 낮은 속성을 기준으로 분할한다. <br>\n",
    "\n",
    "결정 트리 알고리즘을 사이킷런에서 구현한 DecisionTreeClassifier는 기본적으로 지니 계수를 이용해 데이터 세트를 분할한다. <br>\n",
    "정보 이득이 높거나 지니 계수가 낮은 조건을 찾아서 자식 트리 노드에 걸쳐 반복적으로 분할한 뒤 데이터가 모두 특정 분류에 속하게 되면 분할을 멈추고 분류를 결정한다. <br>\n",
    "\n",
    "<img src = 'image/Gini Coefficient, Data Set Segmentation Process.jpg' alt = 'Gini Coefficient, Data Set Segmentation Process' width='700' height='700'>"
   ]
  },
  {
   "cell_type": "markdown",
   "id": "fc830e13",
   "metadata": {},
   "source": [
    "### 결정 트리 모델의 특징\n",
    "\n",
    "**결정 트리의 가장 큰 장점은 정보의 '균일도'라는 룰을 기반**으로 하고 있어, **알고리즘이 쉽고 직관적**이라는 것이다. <br>\n",
    "결정 트리가 룰이 매우 명확하고, 어떻게 규칙 노드와 리프 노드가 만들어지는지 알 수 있고, 시각화 표현까지 가능하다. <br>\n",
    "**각 피처의 스케일링과 정규화 같은 전처리 작업이 필요 없다.** <br>\n",
    "가장 큰 단점은 과적합으로 인한 정확도 하락이다. <br>\n",
    "따라서 사전에 트리 크리를 제한하는 것이 오히려 성능 튜닝에 더 도움이 된다. <br>\n",
    "\n",
    "|결정 트리 장점|결정 트리 단점|\n",
    "|:------|:---|\n",
    "|쉽다. <br> 직관적이다. <br> 피처의 스케일링이나 정규화 등의 사전 가공 영향도가 크지 않다. |과적합으로 알고리즘 성능이 떨어진다.|"
   ]
  },
  {
   "cell_type": "markdown",
   "id": "702b4032",
   "metadata": {},
   "source": [
    "### 결정 트리 파라미터 \n",
    "\n",
    "사이킷런은 결정 트리 알고리즘을 구현한 DecisionTreeClassifier와 DecisionTreeRegressor 클래스를 제공한다. <br>\n",
    "**DecisionTreeClassifier는 분류를 위한 클래스**이며, **DecisionTreeRegressor는 회귀를 위한 클래스**이다. <br>\n",
    "사이킷런의 결정 트리 구현은 **CART(Classifiercation And Regression Trees) 알고리즘 기반**이다. <br>\n",
    "\n",
    "|파라미터 이름|설명|\n",
    "|:------|:---|\n",
    "|min_sample_split|노드를 분할하기 위한 최소한의 샘플 데이터 수로 과적합을 제어하는데 사용된다. <br> 디폴트는 2이고 작게 설정할수록 분할되는 노드가 많아져서 과적합 가능성이 증가한다.|\n",
    "|min_sample_leaf|분할이 될 경우 왼쪽과 오른쪽 브랜치 노드에서 가져야할 최소한의 샘플 데이터 수 <br> 큰 값으로 설정될수록, 분할될 경우 왼쪽과 오른쪽의 브랜치 노드에서 가져야 할 최소한의 샘플 데이터 수 조건을 만족시키기가 어려우므로 노드 분할을 상대적으로 덜 수행한다. <br> min_sample_split과 유사하게 과적합 제어 용도, 그러나 비대칭적 데이터의 경우 특정 클래스의 데이터가 극도로 작을 수 있으므로 이 경우는 작게 설정할 필요가 있다. |\n",
    "|max_features|최적의 분할을 위해 고려할 최대 피처 갯수, 디폴트는 None으로 데이터 세트의 모든 피처를 사용해 분할을 수행한다. <br> int형으로 지정하면 대상 피처의 갯수, float형으로 지정하면 전체 피처 중 대상 피처의 퍼센트이다. <br> sqrt는 전체 피처 중 sqrt, 즉 루트 전체 피처 갯수만큼 선정한다. <br> auto로 지정하면 sqrt와 동일하다. <br> log는 전체 피처 중 log2 선정 <br> None은 전체 피처 선정이다.|\n",
    "|max_depth|트리의 최대 깊이를 규정한다. <> 디폴트는 None, None으로 설정하면 완벽하게 클래스 결정 값이 될 때까지 깊이를 계속 키우며 분할하거나 노드가 가지는 데이터 갯수가 min_sample_split보다 작아질 때까지 계속 깊이를 증가시킨다. <> 깊이가 깊어지면 min_sample_split 설정대로 최대 분할하여 과적합 할 수 있으므로 적절한 값으로 제어가 필요하다.|\n",
    "|max_leaf_nodes|말단 노드(Leaf)의 최대 갯수|"
   ]
  },
  {
   "cell_type": "markdown",
   "id": "f80fbcb4",
   "metadata": {},
   "source": [
    "### 결정 트리 모델의 시각화\n",
    "\n",
    "**Graphviz 패키지**를 사용해 **결정 트리 알고리즘이 어떠한 규칙을 가지고 트리를 생성하는지 시각적으로 보여줄 수 있다.** <br>\n",
    "그래프 기반의 dot 파일로 기술된 다양한 이미지를 쉽게 시각화 할 수 있는 패키지이다. <br>\n",
    "사이킷런은 Graphviz 패키지를 쉽게 인터페이스 할 수 있도록 **export_graphviz() API를 제공**한다. <br>\n",
    "**export_graphviz()** 는 **함수 인자로 학습이 완료된 Estimator, 피처의 이름 리스트, 레이블 이름 리스트를 입력하면 학습된 결정 트리 규칙을 실제 트리 형태로 시각화**해 보여준다."
   ]
  },
  {
   "cell_type": "code",
   "execution_count": 6,
   "id": "b2230d12",
   "metadata": {},
   "outputs": [
    {
     "data": {
      "text/html": [
       "<style>#sk-container-id-2 {color: black;background-color: white;}#sk-container-id-2 pre{padding: 0;}#sk-container-id-2 div.sk-toggleable {background-color: white;}#sk-container-id-2 label.sk-toggleable__label {cursor: pointer;display: block;width: 100%;margin-bottom: 0;padding: 0.3em;box-sizing: border-box;text-align: center;}#sk-container-id-2 label.sk-toggleable__label-arrow:before {content: \"▸\";float: left;margin-right: 0.25em;color: #696969;}#sk-container-id-2 label.sk-toggleable__label-arrow:hover:before {color: black;}#sk-container-id-2 div.sk-estimator:hover label.sk-toggleable__label-arrow:before {color: black;}#sk-container-id-2 div.sk-toggleable__content {max-height: 0;max-width: 0;overflow: hidden;text-align: left;background-color: #f0f8ff;}#sk-container-id-2 div.sk-toggleable__content pre {margin: 0.2em;color: black;border-radius: 0.25em;background-color: #f0f8ff;}#sk-container-id-2 input.sk-toggleable__control:checked~div.sk-toggleable__content {max-height: 200px;max-width: 100%;overflow: auto;}#sk-container-id-2 input.sk-toggleable__control:checked~label.sk-toggleable__label-arrow:before {content: \"▾\";}#sk-container-id-2 div.sk-estimator input.sk-toggleable__control:checked~label.sk-toggleable__label {background-color: #d4ebff;}#sk-container-id-2 div.sk-label input.sk-toggleable__control:checked~label.sk-toggleable__label {background-color: #d4ebff;}#sk-container-id-2 input.sk-hidden--visually {border: 0;clip: rect(1px 1px 1px 1px);clip: rect(1px, 1px, 1px, 1px);height: 1px;margin: -1px;overflow: hidden;padding: 0;position: absolute;width: 1px;}#sk-container-id-2 div.sk-estimator {font-family: monospace;background-color: #f0f8ff;border: 1px dotted black;border-radius: 0.25em;box-sizing: border-box;margin-bottom: 0.5em;}#sk-container-id-2 div.sk-estimator:hover {background-color: #d4ebff;}#sk-container-id-2 div.sk-parallel-item::after {content: \"\";width: 100%;border-bottom: 1px solid gray;flex-grow: 1;}#sk-container-id-2 div.sk-label:hover label.sk-toggleable__label {background-color: #d4ebff;}#sk-container-id-2 div.sk-serial::before {content: \"\";position: absolute;border-left: 1px solid gray;box-sizing: border-box;top: 0;bottom: 0;left: 50%;z-index: 0;}#sk-container-id-2 div.sk-serial {display: flex;flex-direction: column;align-items: center;background-color: white;padding-right: 0.2em;padding-left: 0.2em;position: relative;}#sk-container-id-2 div.sk-item {position: relative;z-index: 1;}#sk-container-id-2 div.sk-parallel {display: flex;align-items: stretch;justify-content: center;background-color: white;position: relative;}#sk-container-id-2 div.sk-item::before, #sk-container-id-2 div.sk-parallel-item::before {content: \"\";position: absolute;border-left: 1px solid gray;box-sizing: border-box;top: 0;bottom: 0;left: 50%;z-index: -1;}#sk-container-id-2 div.sk-parallel-item {display: flex;flex-direction: column;z-index: 1;position: relative;background-color: white;}#sk-container-id-2 div.sk-parallel-item:first-child::after {align-self: flex-end;width: 50%;}#sk-container-id-2 div.sk-parallel-item:last-child::after {align-self: flex-start;width: 50%;}#sk-container-id-2 div.sk-parallel-item:only-child::after {width: 0;}#sk-container-id-2 div.sk-dashed-wrapped {border: 1px dashed gray;margin: 0 0.4em 0.5em 0.4em;box-sizing: border-box;padding-bottom: 0.4em;background-color: white;}#sk-container-id-2 div.sk-label label {font-family: monospace;font-weight: bold;display: inline-block;line-height: 1.2em;}#sk-container-id-2 div.sk-label-container {text-align: center;}#sk-container-id-2 div.sk-container {/* jupyter's `normalize.less` sets `[hidden] { display: none; }` but bootstrap.min.css set `[hidden] { display: none !important; }` so we also need the `!important` here to be able to override the default hidden behavior on the sphinx rendered scikit-learn.org. See: https://github.com/scikit-learn/scikit-learn/issues/21755 */display: inline-block !important;position: relative;}#sk-container-id-2 div.sk-text-repr-fallback {display: none;}</style><div id=\"sk-container-id-2\" class=\"sk-top-container\"><div class=\"sk-text-repr-fallback\"><pre>DecisionTreeClassifier(random_state=156)</pre><b>In a Jupyter environment, please rerun this cell to show the HTML representation or trust the notebook. <br />On GitHub, the HTML representation is unable to render, please try loading this page with nbviewer.org.</b></div><div class=\"sk-container\" hidden><div class=\"sk-item\"><div class=\"sk-estimator sk-toggleable\"><input class=\"sk-toggleable__control sk-hidden--visually\" id=\"sk-estimator-id-2\" type=\"checkbox\" checked><label for=\"sk-estimator-id-2\" class=\"sk-toggleable__label sk-toggleable__label-arrow\">DecisionTreeClassifier</label><div class=\"sk-toggleable__content\"><pre>DecisionTreeClassifier(random_state=156)</pre></div></div></div></div></div>"
      ],
      "text/plain": [
       "DecisionTreeClassifier(random_state=156)"
      ]
     },
     "execution_count": 6,
     "metadata": {},
     "output_type": "execute_result"
    }
   ],
   "source": [
    "from sklearn.tree import DecisionTreeClassifier\n",
    "from sklearn.datasets import load_iris\n",
    "from sklearn.model_selection import train_test_split\n",
    "\n",
    "import warnings\n",
    "warnings.filterwarnings('ignore')\n",
    "\n",
    "# DecisionTreeClassifier 생성\n",
    "dt_clf = DecisionTreeClassifier(random_state = 156)\n",
    "\n",
    "# 붓꽃 데이터를 로딩하고, 학습과 테스트 데이터 세트로 분리\n",
    "iris_data = load_iris()\n",
    "X_train, X_test, Y_train, Y_test = train_test_split(iris_data.data, iris_data.target,\n",
    "                                                    test_size = 0.20, random_state = 11)\n",
    "\n",
    "# DecisioTreeClassifier 학습\n",
    "dt_clf.fit(X_train, Y_train)"
   ]
  },
  {
   "cell_type": "code",
   "execution_count": 11,
   "id": "1779949d",
   "metadata": {},
   "outputs": [],
   "source": [
    "from sklearn.tree import export_graphviz\n",
    "\n",
    "# export_graphiz()의 호출 결과로 out_file로 지정된 tree.dot 파일을 생성한다.\n",
    "export_graphviz(dt_clf, out_file = 'tree.dot', class_names = iris_data.target_names, \\\n",
    "              feature_names = iris_data.feature_names, impurity = True, filled = True)"
   ]
  },
  {
   "cell_type": "markdown",
   "id": "3dda93b9",
   "metadata": {},
   "source": [
    "Graphviz의 파이썬 래퍼 모듈을 호출해 결정 트리의 규칙을 시각적으로 표현할 수 있다."
   ]
  },
  {
   "cell_type": "code",
   "execution_count": 12,
   "id": "35d547f6",
   "metadata": {},
   "outputs": [
    {
     "data": {
      "image/svg+xml": [
       "<?xml version=\"1.0\" encoding=\"UTF-8\" standalone=\"no\"?>\n",
       "<!DOCTYPE svg PUBLIC \"-//W3C//DTD SVG 1.1//EN\"\n",
       " \"http://www.w3.org/Graphics/SVG/1.1/DTD/svg11.dtd\">\n",
       "<!-- Generated by graphviz version 2.50.0 (0)\n",
       " -->\n",
       "<!-- Title: Tree Pages: 1 -->\n",
       "<svg width=\"784pt\" height=\"671pt\"\n",
       " viewBox=\"0.00 0.00 784.00 671.00\" xmlns=\"http://www.w3.org/2000/svg\" xmlns:xlink=\"http://www.w3.org/1999/xlink\">\n",
       "<g id=\"graph0\" class=\"graph\" transform=\"scale(1 1) rotate(0) translate(4 667)\">\n",
       "<title>Tree</title>\n",
       "<polygon fill=\"white\" stroke=\"transparent\" points=\"-4,4 -4,-667 780,-667 780,4 -4,4\"/>\n",
       "<!-- 0 -->\n",
       "<g id=\"node1\" class=\"node\">\n",
       "<title>0</title>\n",
       "<polygon fill=\"#fffdfd\" stroke=\"black\" points=\"286.5,-663 118.5,-663 118.5,-580 286.5,-580 286.5,-663\"/>\n",
       "<text text-anchor=\"middle\" x=\"202.5\" y=\"-647.8\" font-family=\"Helvetica,sans-Serif\" font-size=\"14.00\">petal length (cm) &lt;= 2.45</text>\n",
       "<text text-anchor=\"middle\" x=\"202.5\" y=\"-632.8\" font-family=\"Helvetica,sans-Serif\" font-size=\"14.00\">gini = 0.667</text>\n",
       "<text text-anchor=\"middle\" x=\"202.5\" y=\"-617.8\" font-family=\"Helvetica,sans-Serif\" font-size=\"14.00\">samples = 120</text>\n",
       "<text text-anchor=\"middle\" x=\"202.5\" y=\"-602.8\" font-family=\"Helvetica,sans-Serif\" font-size=\"14.00\">value = [41, 40, 39]</text>\n",
       "<text text-anchor=\"middle\" x=\"202.5\" y=\"-587.8\" font-family=\"Helvetica,sans-Serif\" font-size=\"14.00\">class = setosa</text>\n",
       "</g>\n",
       "<!-- 1 -->\n",
       "<g id=\"node2\" class=\"node\">\n",
       "<title>1</title>\n",
       "<polygon fill=\"#e58139\" stroke=\"black\" points=\"182,-536.5 65,-536.5 65,-468.5 182,-468.5 182,-536.5\"/>\n",
       "<text text-anchor=\"middle\" x=\"123.5\" y=\"-521.3\" font-family=\"Helvetica,sans-Serif\" font-size=\"14.00\">gini = 0.0</text>\n",
       "<text text-anchor=\"middle\" x=\"123.5\" y=\"-506.3\" font-family=\"Helvetica,sans-Serif\" font-size=\"14.00\">samples = 41</text>\n",
       "<text text-anchor=\"middle\" x=\"123.5\" y=\"-491.3\" font-family=\"Helvetica,sans-Serif\" font-size=\"14.00\">value = [41, 0, 0]</text>\n",
       "<text text-anchor=\"middle\" x=\"123.5\" y=\"-476.3\" font-family=\"Helvetica,sans-Serif\" font-size=\"14.00\">class = setosa</text>\n",
       "</g>\n",
       "<!-- 0&#45;&gt;1 -->\n",
       "<g id=\"edge1\" class=\"edge\">\n",
       "<title>0&#45;&gt;1</title>\n",
       "<path fill=\"none\" stroke=\"black\" d=\"M175.09,-579.91C167.49,-568.65 159.23,-556.42 151.59,-545.11\"/>\n",
       "<polygon fill=\"black\" stroke=\"black\" points=\"154.39,-543 145.89,-536.67 148.59,-546.91 154.39,-543\"/>\n",
       "<text text-anchor=\"middle\" x=\"141.14\" y=\"-557.51\" font-family=\"Helvetica,sans-Serif\" font-size=\"14.00\">True</text>\n",
       "</g>\n",
       "<!-- 2 -->\n",
       "<g id=\"node3\" class=\"node\">\n",
       "<title>2</title>\n",
       "<polygon fill=\"#fafefc\" stroke=\"black\" points=\"363,-544 200,-544 200,-461 363,-461 363,-544\"/>\n",
       "<text text-anchor=\"middle\" x=\"281.5\" y=\"-528.8\" font-family=\"Helvetica,sans-Serif\" font-size=\"14.00\">petal width (cm) &lt;= 1.55</text>\n",
       "<text text-anchor=\"middle\" x=\"281.5\" y=\"-513.8\" font-family=\"Helvetica,sans-Serif\" font-size=\"14.00\">gini = 0.5</text>\n",
       "<text text-anchor=\"middle\" x=\"281.5\" y=\"-498.8\" font-family=\"Helvetica,sans-Serif\" font-size=\"14.00\">samples = 79</text>\n",
       "<text text-anchor=\"middle\" x=\"281.5\" y=\"-483.8\" font-family=\"Helvetica,sans-Serif\" font-size=\"14.00\">value = [0, 40, 39]</text>\n",
       "<text text-anchor=\"middle\" x=\"281.5\" y=\"-468.8\" font-family=\"Helvetica,sans-Serif\" font-size=\"14.00\">class = versicolor</text>\n",
       "</g>\n",
       "<!-- 0&#45;&gt;2 -->\n",
       "<g id=\"edge2\" class=\"edge\">\n",
       "<title>0&#45;&gt;2</title>\n",
       "<path fill=\"none\" stroke=\"black\" d=\"M229.91,-579.91C235.91,-571.01 242.33,-561.51 248.53,-552.33\"/>\n",
       "<polygon fill=\"black\" stroke=\"black\" points=\"251.44,-554.27 254.14,-544.02 245.64,-550.35 251.44,-554.27\"/>\n",
       "<text text-anchor=\"middle\" x=\"258.9\" y=\"-564.86\" font-family=\"Helvetica,sans-Serif\" font-size=\"14.00\">False</text>\n",
       "</g>\n",
       "<!-- 3 -->\n",
       "<g id=\"node4\" class=\"node\">\n",
       "<title>3</title>\n",
       "<polygon fill=\"#3ee684\" stroke=\"black\" points=\"273.5,-425 105.5,-425 105.5,-342 273.5,-342 273.5,-425\"/>\n",
       "<text text-anchor=\"middle\" x=\"189.5\" y=\"-409.8\" font-family=\"Helvetica,sans-Serif\" font-size=\"14.00\">petal length (cm) &lt;= 5.25</text>\n",
       "<text text-anchor=\"middle\" x=\"189.5\" y=\"-394.8\" font-family=\"Helvetica,sans-Serif\" font-size=\"14.00\">gini = 0.051</text>\n",
       "<text text-anchor=\"middle\" x=\"189.5\" y=\"-379.8\" font-family=\"Helvetica,sans-Serif\" font-size=\"14.00\">samples = 38</text>\n",
       "<text text-anchor=\"middle\" x=\"189.5\" y=\"-364.8\" font-family=\"Helvetica,sans-Serif\" font-size=\"14.00\">value = [0, 37, 1]</text>\n",
       "<text text-anchor=\"middle\" x=\"189.5\" y=\"-349.8\" font-family=\"Helvetica,sans-Serif\" font-size=\"14.00\">class = versicolor</text>\n",
       "</g>\n",
       "<!-- 2&#45;&gt;3 -->\n",
       "<g id=\"edge3\" class=\"edge\">\n",
       "<title>2&#45;&gt;3</title>\n",
       "<path fill=\"none\" stroke=\"black\" d=\"M249.58,-460.91C242.52,-451.92 234.96,-442.32 227.68,-433.05\"/>\n",
       "<polygon fill=\"black\" stroke=\"black\" points=\"230.3,-430.72 221.36,-425.02 224.79,-435.05 230.3,-430.72\"/>\n",
       "</g>\n",
       "<!-- 6 -->\n",
       "<g id=\"node7\" class=\"node\">\n",
       "<title>6</title>\n",
       "<polygon fill=\"#8b49e7\" stroke=\"black\" points=\"455,-425 292,-425 292,-342 455,-342 455,-425\"/>\n",
       "<text text-anchor=\"middle\" x=\"373.5\" y=\"-409.8\" font-family=\"Helvetica,sans-Serif\" font-size=\"14.00\">petal width (cm) &lt;= 1.75</text>\n",
       "<text text-anchor=\"middle\" x=\"373.5\" y=\"-394.8\" font-family=\"Helvetica,sans-Serif\" font-size=\"14.00\">gini = 0.136</text>\n",
       "<text text-anchor=\"middle\" x=\"373.5\" y=\"-379.8\" font-family=\"Helvetica,sans-Serif\" font-size=\"14.00\">samples = 41</text>\n",
       "<text text-anchor=\"middle\" x=\"373.5\" y=\"-364.8\" font-family=\"Helvetica,sans-Serif\" font-size=\"14.00\">value = [0, 3, 38]</text>\n",
       "<text text-anchor=\"middle\" x=\"373.5\" y=\"-349.8\" font-family=\"Helvetica,sans-Serif\" font-size=\"14.00\">class = virginica</text>\n",
       "</g>\n",
       "<!-- 2&#45;&gt;6 -->\n",
       "<g id=\"edge6\" class=\"edge\">\n",
       "<title>2&#45;&gt;6</title>\n",
       "<path fill=\"none\" stroke=\"black\" d=\"M313.42,-460.91C320.48,-451.92 328.04,-442.32 335.32,-433.05\"/>\n",
       "<polygon fill=\"black\" stroke=\"black\" points=\"338.21,-435.05 341.64,-425.02 332.7,-430.72 338.21,-435.05\"/>\n",
       "</g>\n",
       "<!-- 4 -->\n",
       "<g id=\"node5\" class=\"node\">\n",
       "<title>4</title>\n",
       "<polygon fill=\"#39e581\" stroke=\"black\" points=\"121,-298.5 0,-298.5 0,-230.5 121,-230.5 121,-298.5\"/>\n",
       "<text text-anchor=\"middle\" x=\"60.5\" y=\"-283.3\" font-family=\"Helvetica,sans-Serif\" font-size=\"14.00\">gini = 0.0</text>\n",
       "<text text-anchor=\"middle\" x=\"60.5\" y=\"-268.3\" font-family=\"Helvetica,sans-Serif\" font-size=\"14.00\">samples = 37</text>\n",
       "<text text-anchor=\"middle\" x=\"60.5\" y=\"-253.3\" font-family=\"Helvetica,sans-Serif\" font-size=\"14.00\">value = [0, 37, 0]</text>\n",
       "<text text-anchor=\"middle\" x=\"60.5\" y=\"-238.3\" font-family=\"Helvetica,sans-Serif\" font-size=\"14.00\">class = versicolor</text>\n",
       "</g>\n",
       "<!-- 3&#45;&gt;4 -->\n",
       "<g id=\"edge4\" class=\"edge\">\n",
       "<title>3&#45;&gt;4</title>\n",
       "<path fill=\"none\" stroke=\"black\" d=\"M144.74,-341.91C131.73,-330.1 117.52,-317.22 104.55,-305.45\"/>\n",
       "<polygon fill=\"black\" stroke=\"black\" points=\"106.83,-302.79 97.07,-298.67 102.12,-307.98 106.83,-302.79\"/>\n",
       "</g>\n",
       "<!-- 5 -->\n",
       "<g id=\"node6\" class=\"node\">\n",
       "<title>5</title>\n",
       "<polygon fill=\"#8139e5\" stroke=\"black\" points=\"252,-298.5 139,-298.5 139,-230.5 252,-230.5 252,-298.5\"/>\n",
       "<text text-anchor=\"middle\" x=\"195.5\" y=\"-283.3\" font-family=\"Helvetica,sans-Serif\" font-size=\"14.00\">gini = 0.0</text>\n",
       "<text text-anchor=\"middle\" x=\"195.5\" y=\"-268.3\" font-family=\"Helvetica,sans-Serif\" font-size=\"14.00\">samples = 1</text>\n",
       "<text text-anchor=\"middle\" x=\"195.5\" y=\"-253.3\" font-family=\"Helvetica,sans-Serif\" font-size=\"14.00\">value = [0, 0, 1]</text>\n",
       "<text text-anchor=\"middle\" x=\"195.5\" y=\"-238.3\" font-family=\"Helvetica,sans-Serif\" font-size=\"14.00\">class = virginica</text>\n",
       "</g>\n",
       "<!-- 3&#45;&gt;5 -->\n",
       "<g id=\"edge5\" class=\"edge\">\n",
       "<title>3&#45;&gt;5</title>\n",
       "<path fill=\"none\" stroke=\"black\" d=\"M191.58,-341.91C192.13,-331.2 192.72,-319.62 193.28,-308.78\"/>\n",
       "<polygon fill=\"black\" stroke=\"black\" points=\"196.78,-308.83 193.8,-298.67 189.79,-308.47 196.78,-308.83\"/>\n",
       "</g>\n",
       "<!-- 7 -->\n",
       "<g id=\"node8\" class=\"node\">\n",
       "<title>7</title>\n",
       "<polygon fill=\"#ffffff\" stroke=\"black\" points=\"453,-306 282,-306 282,-223 453,-223 453,-306\"/>\n",
       "<text text-anchor=\"middle\" x=\"367.5\" y=\"-290.8\" font-family=\"Helvetica,sans-Serif\" font-size=\"14.00\">sepal length (cm) &lt;= 5.45</text>\n",
       "<text text-anchor=\"middle\" x=\"367.5\" y=\"-275.8\" font-family=\"Helvetica,sans-Serif\" font-size=\"14.00\">gini = 0.5</text>\n",
       "<text text-anchor=\"middle\" x=\"367.5\" y=\"-260.8\" font-family=\"Helvetica,sans-Serif\" font-size=\"14.00\">samples = 4</text>\n",
       "<text text-anchor=\"middle\" x=\"367.5\" y=\"-245.8\" font-family=\"Helvetica,sans-Serif\" font-size=\"14.00\">value = [0, 2, 2]</text>\n",
       "<text text-anchor=\"middle\" x=\"367.5\" y=\"-230.8\" font-family=\"Helvetica,sans-Serif\" font-size=\"14.00\">class = versicolor</text>\n",
       "</g>\n",
       "<!-- 6&#45;&gt;7 -->\n",
       "<g id=\"edge7\" class=\"edge\">\n",
       "<title>6&#45;&gt;7</title>\n",
       "<path fill=\"none\" stroke=\"black\" d=\"M371.42,-341.91C370.99,-333.56 370.53,-324.67 370.09,-316.02\"/>\n",
       "<polygon fill=\"black\" stroke=\"black\" points=\"373.59,-315.83 369.58,-306.02 366.59,-316.19 373.59,-315.83\"/>\n",
       "</g>\n",
       "<!-- 12 -->\n",
       "<g id=\"node13\" class=\"node\">\n",
       "<title>12</title>\n",
       "<polygon fill=\"#843ee6\" stroke=\"black\" points=\"639.5,-306 471.5,-306 471.5,-223 639.5,-223 639.5,-306\"/>\n",
       "<text text-anchor=\"middle\" x=\"555.5\" y=\"-290.8\" font-family=\"Helvetica,sans-Serif\" font-size=\"14.00\">petal length (cm) &lt;= 4.85</text>\n",
       "<text text-anchor=\"middle\" x=\"555.5\" y=\"-275.8\" font-family=\"Helvetica,sans-Serif\" font-size=\"14.00\">gini = 0.053</text>\n",
       "<text text-anchor=\"middle\" x=\"555.5\" y=\"-260.8\" font-family=\"Helvetica,sans-Serif\" font-size=\"14.00\">samples = 37</text>\n",
       "<text text-anchor=\"middle\" x=\"555.5\" y=\"-245.8\" font-family=\"Helvetica,sans-Serif\" font-size=\"14.00\">value = [0, 1, 36]</text>\n",
       "<text text-anchor=\"middle\" x=\"555.5\" y=\"-230.8\" font-family=\"Helvetica,sans-Serif\" font-size=\"14.00\">class = virginica</text>\n",
       "</g>\n",
       "<!-- 6&#45;&gt;12 -->\n",
       "<g id=\"edge12\" class=\"edge\">\n",
       "<title>6&#45;&gt;12</title>\n",
       "<path fill=\"none\" stroke=\"black\" d=\"M436.64,-341.91C451.89,-332.11 468.29,-321.56 483.89,-311.53\"/>\n",
       "<polygon fill=\"black\" stroke=\"black\" points=\"485.95,-314.37 492.47,-306.02 482.16,-308.48 485.95,-314.37\"/>\n",
       "</g>\n",
       "<!-- 8 -->\n",
       "<g id=\"node9\" class=\"node\">\n",
       "<title>8</title>\n",
       "<polygon fill=\"#8139e5\" stroke=\"black\" points=\"265,-179.5 152,-179.5 152,-111.5 265,-111.5 265,-179.5\"/>\n",
       "<text text-anchor=\"middle\" x=\"208.5\" y=\"-164.3\" font-family=\"Helvetica,sans-Serif\" font-size=\"14.00\">gini = 0.0</text>\n",
       "<text text-anchor=\"middle\" x=\"208.5\" y=\"-149.3\" font-family=\"Helvetica,sans-Serif\" font-size=\"14.00\">samples = 1</text>\n",
       "<text text-anchor=\"middle\" x=\"208.5\" y=\"-134.3\" font-family=\"Helvetica,sans-Serif\" font-size=\"14.00\">value = [0, 0, 1]</text>\n",
       "<text text-anchor=\"middle\" x=\"208.5\" y=\"-119.3\" font-family=\"Helvetica,sans-Serif\" font-size=\"14.00\">class = virginica</text>\n",
       "</g>\n",
       "<!-- 7&#45;&gt;8 -->\n",
       "<g id=\"edge8\" class=\"edge\">\n",
       "<title>7&#45;&gt;8</title>\n",
       "<path fill=\"none\" stroke=\"black\" d=\"M312.34,-222.91C295.99,-210.88 278.13,-197.73 261.9,-185.79\"/>\n",
       "<polygon fill=\"black\" stroke=\"black\" points=\"263.7,-182.77 253.57,-179.67 259.55,-188.41 263.7,-182.77\"/>\n",
       "</g>\n",
       "<!-- 9 -->\n",
       "<g id=\"node10\" class=\"node\">\n",
       "<title>9</title>\n",
       "<polygon fill=\"#9cf2c0\" stroke=\"black\" points=\"451.5,-187 283.5,-187 283.5,-104 451.5,-104 451.5,-187\"/>\n",
       "<text text-anchor=\"middle\" x=\"367.5\" y=\"-171.8\" font-family=\"Helvetica,sans-Serif\" font-size=\"14.00\">petal length (cm) &lt;= 5.45</text>\n",
       "<text text-anchor=\"middle\" x=\"367.5\" y=\"-156.8\" font-family=\"Helvetica,sans-Serif\" font-size=\"14.00\">gini = 0.444</text>\n",
       "<text text-anchor=\"middle\" x=\"367.5\" y=\"-141.8\" font-family=\"Helvetica,sans-Serif\" font-size=\"14.00\">samples = 3</text>\n",
       "<text text-anchor=\"middle\" x=\"367.5\" y=\"-126.8\" font-family=\"Helvetica,sans-Serif\" font-size=\"14.00\">value = [0, 2, 1]</text>\n",
       "<text text-anchor=\"middle\" x=\"367.5\" y=\"-111.8\" font-family=\"Helvetica,sans-Serif\" font-size=\"14.00\">class = versicolor</text>\n",
       "</g>\n",
       "<!-- 7&#45;&gt;9 -->\n",
       "<g id=\"edge9\" class=\"edge\">\n",
       "<title>7&#45;&gt;9</title>\n",
       "<path fill=\"none\" stroke=\"black\" d=\"M367.5,-222.91C367.5,-214.65 367.5,-205.86 367.5,-197.3\"/>\n",
       "<polygon fill=\"black\" stroke=\"black\" points=\"371,-197.02 367.5,-187.02 364,-197.02 371,-197.02\"/>\n",
       "</g>\n",
       "<!-- 10 -->\n",
       "<g id=\"node11\" class=\"node\">\n",
       "<title>10</title>\n",
       "<polygon fill=\"#39e581\" stroke=\"black\" points=\"306,-68 185,-68 185,0 306,0 306,-68\"/>\n",
       "<text text-anchor=\"middle\" x=\"245.5\" y=\"-52.8\" font-family=\"Helvetica,sans-Serif\" font-size=\"14.00\">gini = 0.0</text>\n",
       "<text text-anchor=\"middle\" x=\"245.5\" y=\"-37.8\" font-family=\"Helvetica,sans-Serif\" font-size=\"14.00\">samples = 2</text>\n",
       "<text text-anchor=\"middle\" x=\"245.5\" y=\"-22.8\" font-family=\"Helvetica,sans-Serif\" font-size=\"14.00\">value = [0, 2, 0]</text>\n",
       "<text text-anchor=\"middle\" x=\"245.5\" y=\"-7.8\" font-family=\"Helvetica,sans-Serif\" font-size=\"14.00\">class = versicolor</text>\n",
       "</g>\n",
       "<!-- 9&#45;&gt;10 -->\n",
       "<g id=\"edge10\" class=\"edge\">\n",
       "<title>9&#45;&gt;10</title>\n",
       "<path fill=\"none\" stroke=\"black\" d=\"M322.07,-103.73C311.6,-94.33 300.48,-84.35 290.05,-74.99\"/>\n",
       "<polygon fill=\"black\" stroke=\"black\" points=\"292.38,-72.37 282.6,-68.3 287.71,-77.58 292.38,-72.37\"/>\n",
       "</g>\n",
       "<!-- 11 -->\n",
       "<g id=\"node12\" class=\"node\">\n",
       "<title>11</title>\n",
       "<polygon fill=\"#8139e5\" stroke=\"black\" points=\"437,-68 324,-68 324,0 437,0 437,-68\"/>\n",
       "<text text-anchor=\"middle\" x=\"380.5\" y=\"-52.8\" font-family=\"Helvetica,sans-Serif\" font-size=\"14.00\">gini = 0.0</text>\n",
       "<text text-anchor=\"middle\" x=\"380.5\" y=\"-37.8\" font-family=\"Helvetica,sans-Serif\" font-size=\"14.00\">samples = 1</text>\n",
       "<text text-anchor=\"middle\" x=\"380.5\" y=\"-22.8\" font-family=\"Helvetica,sans-Serif\" font-size=\"14.00\">value = [0, 0, 1]</text>\n",
       "<text text-anchor=\"middle\" x=\"380.5\" y=\"-7.8\" font-family=\"Helvetica,sans-Serif\" font-size=\"14.00\">class = virginica</text>\n",
       "</g>\n",
       "<!-- 9&#45;&gt;11 -->\n",
       "<g id=\"edge11\" class=\"edge\">\n",
       "<title>9&#45;&gt;11</title>\n",
       "<path fill=\"none\" stroke=\"black\" d=\"M372.34,-103.73C373.33,-95.43 374.37,-86.67 375.36,-78.28\"/>\n",
       "<polygon fill=\"black\" stroke=\"black\" points=\"378.84,-78.64 376.55,-68.3 371.89,-77.82 378.84,-78.64\"/>\n",
       "</g>\n",
       "<!-- 13 -->\n",
       "<g id=\"node14\" class=\"node\">\n",
       "<title>13</title>\n",
       "<polygon fill=\"#c09cf2\" stroke=\"black\" points=\"641,-187 470,-187 470,-104 641,-104 641,-187\"/>\n",
       "<text text-anchor=\"middle\" x=\"555.5\" y=\"-171.8\" font-family=\"Helvetica,sans-Serif\" font-size=\"14.00\">sepal length (cm) &lt;= 5.95</text>\n",
       "<text text-anchor=\"middle\" x=\"555.5\" y=\"-156.8\" font-family=\"Helvetica,sans-Serif\" font-size=\"14.00\">gini = 0.444</text>\n",
       "<text text-anchor=\"middle\" x=\"555.5\" y=\"-141.8\" font-family=\"Helvetica,sans-Serif\" font-size=\"14.00\">samples = 3</text>\n",
       "<text text-anchor=\"middle\" x=\"555.5\" y=\"-126.8\" font-family=\"Helvetica,sans-Serif\" font-size=\"14.00\">value = [0, 1, 2]</text>\n",
       "<text text-anchor=\"middle\" x=\"555.5\" y=\"-111.8\" font-family=\"Helvetica,sans-Serif\" font-size=\"14.00\">class = virginica</text>\n",
       "</g>\n",
       "<!-- 12&#45;&gt;13 -->\n",
       "<g id=\"edge13\" class=\"edge\">\n",
       "<title>12&#45;&gt;13</title>\n",
       "<path fill=\"none\" stroke=\"black\" d=\"M555.5,-222.91C555.5,-214.65 555.5,-205.86 555.5,-197.3\"/>\n",
       "<polygon fill=\"black\" stroke=\"black\" points=\"559,-197.02 555.5,-187.02 552,-197.02 559,-197.02\"/>\n",
       "</g>\n",
       "<!-- 16 -->\n",
       "<g id=\"node17\" class=\"node\">\n",
       "<title>16</title>\n",
       "<polygon fill=\"#8139e5\" stroke=\"black\" points=\"776,-179.5 659,-179.5 659,-111.5 776,-111.5 776,-179.5\"/>\n",
       "<text text-anchor=\"middle\" x=\"717.5\" y=\"-164.3\" font-family=\"Helvetica,sans-Serif\" font-size=\"14.00\">gini = 0.0</text>\n",
       "<text text-anchor=\"middle\" x=\"717.5\" y=\"-149.3\" font-family=\"Helvetica,sans-Serif\" font-size=\"14.00\">samples = 34</text>\n",
       "<text text-anchor=\"middle\" x=\"717.5\" y=\"-134.3\" font-family=\"Helvetica,sans-Serif\" font-size=\"14.00\">value = [0, 0, 34]</text>\n",
       "<text text-anchor=\"middle\" x=\"717.5\" y=\"-119.3\" font-family=\"Helvetica,sans-Serif\" font-size=\"14.00\">class = virginica</text>\n",
       "</g>\n",
       "<!-- 12&#45;&gt;16 -->\n",
       "<g id=\"edge16\" class=\"edge\">\n",
       "<title>12&#45;&gt;16</title>\n",
       "<path fill=\"none\" stroke=\"black\" d=\"M611.71,-222.91C628.36,-210.88 646.56,-197.73 663.1,-185.79\"/>\n",
       "<polygon fill=\"black\" stroke=\"black\" points=\"665.52,-188.36 671.58,-179.67 661.42,-182.68 665.52,-188.36\"/>\n",
       "</g>\n",
       "<!-- 14 -->\n",
       "<g id=\"node15\" class=\"node\">\n",
       "<title>14</title>\n",
       "<polygon fill=\"#39e581\" stroke=\"black\" points=\"602,-68 481,-68 481,0 602,0 602,-68\"/>\n",
       "<text text-anchor=\"middle\" x=\"541.5\" y=\"-52.8\" font-family=\"Helvetica,sans-Serif\" font-size=\"14.00\">gini = 0.0</text>\n",
       "<text text-anchor=\"middle\" x=\"541.5\" y=\"-37.8\" font-family=\"Helvetica,sans-Serif\" font-size=\"14.00\">samples = 1</text>\n",
       "<text text-anchor=\"middle\" x=\"541.5\" y=\"-22.8\" font-family=\"Helvetica,sans-Serif\" font-size=\"14.00\">value = [0, 1, 0]</text>\n",
       "<text text-anchor=\"middle\" x=\"541.5\" y=\"-7.8\" font-family=\"Helvetica,sans-Serif\" font-size=\"14.00\">class = versicolor</text>\n",
       "</g>\n",
       "<!-- 13&#45;&gt;14 -->\n",
       "<g id=\"edge14\" class=\"edge\">\n",
       "<title>13&#45;&gt;14</title>\n",
       "<path fill=\"none\" stroke=\"black\" d=\"M550.29,-103.73C549.23,-95.43 548.11,-86.67 547.03,-78.28\"/>\n",
       "<polygon fill=\"black\" stroke=\"black\" points=\"550.5,-77.77 545.76,-68.3 543.55,-78.66 550.5,-77.77\"/>\n",
       "</g>\n",
       "<!-- 15 -->\n",
       "<g id=\"node16\" class=\"node\">\n",
       "<title>15</title>\n",
       "<polygon fill=\"#8139e5\" stroke=\"black\" points=\"733,-68 620,-68 620,0 733,0 733,-68\"/>\n",
       "<text text-anchor=\"middle\" x=\"676.5\" y=\"-52.8\" font-family=\"Helvetica,sans-Serif\" font-size=\"14.00\">gini = 0.0</text>\n",
       "<text text-anchor=\"middle\" x=\"676.5\" y=\"-37.8\" font-family=\"Helvetica,sans-Serif\" font-size=\"14.00\">samples = 2</text>\n",
       "<text text-anchor=\"middle\" x=\"676.5\" y=\"-22.8\" font-family=\"Helvetica,sans-Serif\" font-size=\"14.00\">value = [0, 0, 2]</text>\n",
       "<text text-anchor=\"middle\" x=\"676.5\" y=\"-7.8\" font-family=\"Helvetica,sans-Serif\" font-size=\"14.00\">class = virginica</text>\n",
       "</g>\n",
       "<!-- 13&#45;&gt;15 -->\n",
       "<g id=\"edge15\" class=\"edge\">\n",
       "<title>13&#45;&gt;15</title>\n",
       "<path fill=\"none\" stroke=\"black\" d=\"M600.56,-103.73C610.84,-94.42 621.75,-84.54 632.01,-75.26\"/>\n",
       "<polygon fill=\"black\" stroke=\"black\" points=\"634.64,-77.6 639.7,-68.3 629.94,-72.41 634.64,-77.6\"/>\n",
       "</g>\n",
       "</g>\n",
       "</svg>\n"
      ],
      "text/plain": [
       "<graphviz.sources.Source at 0x7fe419b16910>"
      ]
     },
     "execution_count": 12,
     "metadata": {},
     "output_type": "execute_result"
    }
   ],
   "source": [
    "import graphviz\n",
    "\n",
    "# tree.dot 파일을 graphiz가 읽어 jupyter notebook상에서 시각화\n",
    "with open('tree.dot') as f:\n",
    "    dot_graph = f.read()\n",
    "graphviz.Source(dot_graph)"
   ]
  },
  {
   "cell_type": "markdown",
   "id": "b5e16933",
   "metadata": {},
   "source": [
    "각 규칙에 따라 트리의 브랜치 노드와 말단 리프 노드가 어떻게 구성되는지 한눈에 알 수 있도록 시각화 되어 있다. <br>\n",
    "**더 이상 자식이 없는 노드**는 **리프 노드**이다. <br>\n",
    "리프 노드는 **최종 클래스(레이블) 값이 결정 되는 노드**이다. <br> \n",
    "\n",
    "**오직 하나의 클래스 값으로 최종 데이터가 구성**되거나 **리프 노드가 될 수 있는 하이퍼 파라미터 조건을 충족**하면 된다. <br>\n",
    "**자식 노드가 있는 노드**는 **브랜치 노드**이며 **자식 노드를 만들 기 위한 조건**을 가지고 있다. <br>\n",
    "- petal length(cm) <= 2.45와 같이 피처 조건이 있는 것은 자식 노드를 만들기 위한 규칙 조건이다. 이 조건이 없으면 리프 노드이다. \n",
    "- gini는 다음 value = []로 주어진 데이터 분포에서의 지니 계수이다. \n",
    "- samples는 현 규칙에 해당하는 데이터 건수이다. \n",
    "- value = []는 클래스 값 기반의 데이터 건수이다. 붓꽃 데이터 세트는 클래스 값으로 0, 1, 2를 가지고 있으며, 0 : Setosa, 1 : Versicolor, 2 : Virginica 품종을 가리킨다. 만일 value = [41, 40, 39]라면 클래스 값의 순서로 Setosa 41개 Vesicolor 40개 Virginica 39개로 데이터가 구성 되었다는 의미이다. \n",
    "\n",
    "결정 트리는 **규칙 생성 로직을 미리 제어하지 않으면 완벽하게 클래스 값을 구별해내기 위해 트리 노드를 계속해서 만들어간다.** <br> \n",
    "**매우 복잡한 규칙 트리**가 만들어져 모델이 쉽게 **과적합**되는 문제점을 가지게 된다. 이러한 이유로 결정트리는 과적합이 상당히 높은 ML 알고리즘이다. <br> \n",
    "**결정 트리 알고리즘을 제어하는 대부분 하이퍼 파라미터는 복잡한 트리가 생성되는 것을 막기 위한 용도**이다. "
   ]
  },
  {
   "cell_type": "markdown",
   "id": "1c0e3d26",
   "metadata": {},
   "source": [
    "**결정 트리는 균일도에 기반해 어떠한 속성을 규칙 조건으로 선택하느냐가 중요한 요건**이다. <br>\n",
    "명확한 규칙 트리를 만드는데 크게 기여하며, 모델을 좀 더 간결하고 이상치(Outlier)에 강한 모델을 만들 수 있기 때문이다. <br>\n",
    "사이킷런은 결정 트리 알고리즘이 학습을 통해 규칙을 정하는데 있어 **피처의 중요한 역할 지표**를 **DecisionTreeClassifier 객체의 feature_importances_속성으로 제공**한다. <br>\n",
    "**feature_importances_는 ndarray 형태로 값을 반환하며 피처의 순서대로 값이 할당**된다. <br>\n",
    "feature_importances_는 피처가 트리 분할 시 **정보 이득이나 지니 계수를 얼마나 효율적으로 잘 개선시켰는지 정규화된 값으로 표현한 것**이다. <br>\n",
    "예외사항이 있지만 **일반적으로 값이 높을수록 해당 피처의 중요도가 높다는 의미**이다."
   ]
  },
  {
   "cell_type": "code",
   "execution_count": 13,
   "id": "565fe8e3",
   "metadata": {},
   "outputs": [
    {
     "name": "stdout",
     "output_type": "stream",
     "text": [
      "Feature importances : \n",
      " [0.025 0.    0.555 0.42 ]\n",
      "sepal length (cm) : 0.025\n",
      "sepal width (cm) : 0.000\n",
      "petal length (cm) : 0.555\n",
      "petal width (cm) : 0.420\n"
     ]
    },
    {
     "data": {
      "text/plain": [
       "<Axes: >"
      ]
     },
     "execution_count": 13,
     "metadata": {},
     "output_type": "execute_result"
    },
    {
     "data": {
      "image/png": "[encoded data removed]",
      "text/plain": [
       "<Figure size 640x480 with 1 Axes>"
      ]
     },
     "metadata": {},
     "output_type": "display_data"
    }
   ],
   "source": [
    "import seaborn as sns\n",
    "import numpy as np\n",
    "%matplotlib inline\n",
    "\n",
    "# feature importance 추출\n",
    "print('Feature importances : \\n {0}'.format(np.round(dt_clf.feature_importances_, 3)))\n",
    "\n",
    "# feature별로 importance mapping\n",
    "for name, value in zip(iris_data.feature_names, dt_clf.feature_importances_):\n",
    "    print('{0} : {1:.3f}'.format(name, value))\n",
    "    \n",
    "# featrue importance를 column별로 시각화하기\n",
    "sns.barplot(x = dt_clf.feature_importances_, y = iris_data.feature_names)"
   ]
  },
  {
   "cell_type": "markdown",
   "id": "904ccdd7",
   "metadata": {},
   "source": [
    "여러 피처들 중 petal_length가 가장 피처 중요도가 높음을 알 수 있다. "
   ]
  },
  {
   "cell_type": "markdown",
   "id": "1ab5f77f",
   "metadata": {},
   "source": [
    "### 결정 트리 과적합 (Overfitting)\n",
    "\n",
    "사이킷런은 **분류를 위한 테스트용 데이터를 쉽게 만들 수 있도록 make_classification() 함수를 제공**한다. "
   ]
  },
  {
   "cell_type": "code",
   "execution_count": 14,
   "id": "26086cd1",
   "metadata": {},
   "outputs": [
    {
     "data": {
      "text/plain": [
       "<matplotlib.collections.PathCollection at 0x7fe41500a6a0>"
      ]
     },
     "execution_count": 14,
     "metadata": {},
     "output_type": "execute_result"
    },
    {
     "data": {
      "image/png": "[encoded data removed]",
      "text/plain": [
       "<Figure size 640x480 with 1 Axes>"
      ]
     },
     "metadata": {},
     "output_type": "display_data"
    }
   ],
   "source": [
    "from sklearn.datasets import make_classification\n",
    "import matplotlib.pyplot as plt\n",
    "%matplotlib inline\n",
    "\n",
    "plt.title('3 Class Value with 2 Feature Sample Data Creation')\n",
    "\n",
    "# 2차원 시각화를 위해서 피처는 3개, 클레스는 3가지 유형의 분류 샘플 데이터 생성\n",
    "X_features, Y_labels = make_classification(n_features = 2, n_redundant = 0, n_informative = 2, \n",
    "                                          n_classes = 3, n_clusters_per_class = 1, random_state = 0)\n",
    "\n",
    "# 그래프 형태로 2개의 피처로 2차원 좌표 시각화, 각 클래스 값은 다른 색깔로 표시 된다.\n",
    "plt.scatter(X_features[:, 0], X_features[:, 1], marker = 'o', c = Y_labels, s = 25, edgecolor = 'k')"
   ]
  },
  {
   "cell_type": "code",
   "execution_count": 19,
   "id": "e032e59d",
   "metadata": {},
   "outputs": [],
   "source": [
    "from sklearn.tree import DecisionTreeClassifier\n",
    "\n",
    "# 특정한 트리 생성 제약 없는 결정 트리의 학습과 결정 경계 시각화\n",
    "dt_clf = DecisionTreeClassifier(random_state = 156).fit(X_features, Y_labels)\n",
    "# visualize_boundary(dt_clf, X_features, Y_labels) \n",
    "# visualize_boundary()는 유틸리티 함수로 부록에 제공되는 소스 코드에만 수록"
   ]
  },
  {
   "cell_type": "code",
   "execution_count": 21,
   "id": "894365e2",
   "metadata": {},
   "outputs": [],
   "source": [
    "# min_samples_leaf = 6으로 트리 생성 조건을 제약한 결정 경계 시각화\n",
    "dt_clf = DecisionTreeClassifier(min_samples_leaf = 6, random_state = 156).fit(X_features, Y_labels)\n",
    "# visualize_boundary(dt_clf, X_features, Y_labels) "
   ]
  },
  {
   "cell_type": "markdown",
   "id": "4907c312",
   "metadata": {},
   "source": [
    "### 결정 트리 실습 - 사용자 행동 인식 데이터 세트\n",
    "\n",
    "결정 트리를 이용해 UCI Machine Learning Repository에서 제공하는 사용자 행동 인식(Human Activity Recognition) 데이터 세트에 대한 예측 분류를 수행, **피처 세트를 기반으로 결정 트리를 이용해 어떠한 동작인지 예측**한다. "
   ]
  },
  {
   "cell_type": "code",
   "execution_count": 22,
   "id": "ab2fbfa2",
   "metadata": {},
   "outputs": [
    {
     "name": "stdout",
     "output_type": "stream",
     "text": [
      "전체 피처명에서 10개만 추출 :  ['tBodyAcc-mean()-X', 'tBodyAcc-mean()-Y', 'tBodyAcc-mean()-Z', 'tBodyAcc-std()-X', 'tBodyAcc-std()-Y', 'tBodyAcc-std()-Z', 'tBodyAcc-mad()-X', 'tBodyAcc-mad()-Y', 'tBodyAcc-mad()-Z', 'tBodyAcc-max()-X']\n"
     ]
    }
   ],
   "source": [
    "import pandas as pd\n",
    "import matplotlib.pyplot as plt\n",
    "%matplotlib inline\n",
    "\n",
    "# feature.txt 파일에는 피처 이름 index와 피처명이 공백으로 분리되어 있다. -> DataFrame으로 Load\n",
    "feature_name_df = pd.read_csv('/Users/1001l1000/Documents/AI/Jen/data/human_activity/features.txt', sep = '\\s+',\n",
    "                             header = None, names = ['column_index', 'column_name'])\n",
    "\n",
    "# 피처명 index를 제거하고, 피처명만 리스트 객체로 생성한 뒤 샘플로 10개만 추출\n",
    "feature_name = feature_name_df.iloc[:, 1].values.tolist()\n",
    "print('전체 피처명에서 10개만 추출 : ', feature_name[:10])"
   ]
  },
  {
   "cell_type": "markdown",
   "id": "1a8e9fc5",
   "metadata": {},
   "source": [
    "피처명을 가지고 있는 features.txt 파일은 중복된 피처명을 가지고 있다. <br>\n",
    "중복된 피처명들을 이용해 데이터 파일을 데이터 세트 DataFrame에 로드하면 오류가 발생한다. "
   ]
  },
  {
   "cell_type": "code",
   "execution_count": 23,
   "id": "c6b30d30",
   "metadata": {},
   "outputs": [
    {
     "name": "stdout",
     "output_type": "stream",
     "text": [
      "column_index    42\n",
      "dtype: int64\n"
     ]
    },
    {
     "data": {
      "text/html": [
       "<div>\n",
       "<style scoped>\n",
       "    .dataframe tbody tr th:only-of-type {\n",
       "        vertical-align: middle;\n",
       "    }\n",
       "\n",
       "    .dataframe tbody tr th {\n",
       "        vertical-align: top;\n",
       "    }\n",
       "\n",
       "    .dataframe thead th {\n",
       "        text-align: right;\n",
       "    }\n",
       "</style>\n",
       "<table border=\"1\" class=\"dataframe\">\n",
       "  <thead>\n",
       "    <tr style=\"text-align: right;\">\n",
       "      <th></th>\n",
       "      <th>column_index</th>\n",
       "    </tr>\n",
       "    <tr>\n",
       "      <th>column_name</th>\n",
       "      <th></th>\n",
       "    </tr>\n",
       "  </thead>\n",
       "  <tbody>\n",
       "    <tr>\n",
       "      <th>fBodyAcc-bandsEnergy()-1,16</th>\n",
       "      <td>3</td>\n",
       "    </tr>\n",
       "    <tr>\n",
       "      <th>fBodyAcc-bandsEnergy()-1,24</th>\n",
       "      <td>3</td>\n",
       "    </tr>\n",
       "    <tr>\n",
       "      <th>fBodyAcc-bandsEnergy()-1,8</th>\n",
       "      <td>3</td>\n",
       "    </tr>\n",
       "    <tr>\n",
       "      <th>fBodyAcc-bandsEnergy()-17,24</th>\n",
       "      <td>3</td>\n",
       "    </tr>\n",
       "    <tr>\n",
       "      <th>fBodyAcc-bandsEnergy()-17,32</th>\n",
       "      <td>3</td>\n",
       "    </tr>\n",
       "  </tbody>\n",
       "</table>\n",
       "</div>"
      ],
      "text/plain": [
       "                              column_index\n",
       "column_name                               \n",
       "fBodyAcc-bandsEnergy()-1,16              3\n",
       "fBodyAcc-bandsEnergy()-1,24              3\n",
       "fBodyAcc-bandsEnergy()-1,8               3\n",
       "fBodyAcc-bandsEnergy()-17,24             3\n",
       "fBodyAcc-bandsEnergy()-17,32             3"
      ]
     },
     "execution_count": 23,
     "metadata": {},
     "output_type": "execute_result"
    }
   ],
   "source": [
    "feature_dup_df = feature_name_df.groupby('column_name').count()\n",
    "print(feature_dup_df[feature_dup_df['column_index'] > 1].count())\n",
    "feature_dup_df[feature_dup_df['column_index'] > 1].head()"
   ]
  },
  {
   "cell_type": "markdown",
   "id": "a20cd7f4",
   "metadata": {},
   "source": [
    "총 42개의 피처명이 중복되어 있다. <br>\n",
    "이 중복된 피처명에 _1 또는 _2를 추가로 부여해 새로운 피처명을 가지는 DataFrame을 반환하는 함수인 get_new_feature_name_df()를 생성한다. "
   ]
  },
  {
   "cell_type": "code",
   "execution_count": 24,
   "id": "930d0d13",
   "metadata": {},
   "outputs": [],
   "source": [
    "def get_new_feature_name_df(old_feature_name_df):\n",
    "    feature_dup_df = pd.DataFrame(data = old_feature_name_df.groupby('column_name').cumcount(),\n",
    "                                 columns = ['dup_cnt'])\n",
    "    feature_dup_df = feature_dup_df.reset_index()\n",
    "    new_feature_name_df = pd.merge(old_feature_name_df.reset_index(), feature_dup_df, how = 'outer')\n",
    "    new_feature_name_df['column_name'] = new_feature_name_df[['column_name', \n",
    "                                                              'dup_cnt']].apply(lambda x : x[0]+'_'+str(x[1])\n",
    "                                                                               if x[1] > 0 else x[0], axis = 1)\n",
    "    new_feature_name_df = new_feature_name_df.drop(['index'], axis = 1)\n",
    "    return new_feature_name_df"
   ]
  },
  {
   "cell_type": "code",
   "execution_count": 41,
   "id": "44da652d",
   "metadata": {},
   "outputs": [
    {
     "ename": "ValueError",
     "evalue": "Duplicate names are not allowed.",
     "output_type": "error",
     "traceback": [
      "\u001b[0;31m---------------------------------------------------------------------------\u001b[0m",
      "\u001b[0;31mValueError\u001b[0m                                Traceback (most recent call last)",
      "Cell \u001b[0;32mIn[41], line 29\u001b[0m\n\u001b[1;32m     26\u001b[0m     \u001b[38;5;66;03m# Load 된 학습 / 테스트용 DataFrame을 모두 반환\u001b[39;00m\n\u001b[1;32m     27\u001b[0m     \u001b[38;5;28;01mreturn\u001b[39;00m X_train, X_test, Y_train, Y_test\n\u001b[0;32m---> 29\u001b[0m X_train, X_test, Y_train, Y_test \u001b[38;5;241m=\u001b[39m \u001b[43mget_human_dataset\u001b[49m\u001b[43m(\u001b[49m\u001b[43m)\u001b[49m\n",
      "Cell \u001b[0;32mIn[41], line 15\u001b[0m, in \u001b[0;36mget_human_dataset\u001b[0;34m()\u001b[0m\n\u001b[1;32m     12\u001b[0m featrue_name \u001b[38;5;241m=\u001b[39m new_feature_name_df\u001b[38;5;241m.\u001b[39miloc[:, \u001b[38;5;241m1\u001b[39m]\u001b[38;5;241m.\u001b[39mvalues\u001b[38;5;241m.\u001b[39mtolist()\n\u001b[1;32m     14\u001b[0m \u001b[38;5;66;03m# 학습 피처 데이터세트와 테스트 피처 데이터를 DataFrame으로 Loading, column 이름은 featrue_name 적용\u001b[39;00m\n\u001b[0;32m---> 15\u001b[0m X_train \u001b[38;5;241m=\u001b[39m \u001b[43mpd\u001b[49m\u001b[38;5;241;43m.\u001b[39;49m\u001b[43mread_csv\u001b[49m\u001b[43m(\u001b[49m\u001b[38;5;124;43m'\u001b[39;49m\u001b[38;5;124;43m/Users/1001l1000/Documents/AI/Jen/data/human_activity/train/X_train.txt\u001b[39;49m\u001b[38;5;124;43m'\u001b[39;49m\u001b[43m,\u001b[49m\u001b[43m \u001b[49m\u001b[43msep\u001b[49m\u001b[43m \u001b[49m\u001b[38;5;241;43m=\u001b[39;49m\u001b[43m \u001b[49m\u001b[38;5;124;43m'\u001b[39;49m\u001b[38;5;124;43m\\\u001b[39;49m\u001b[38;5;124;43ms+\u001b[39;49m\u001b[38;5;124;43m'\u001b[39;49m\u001b[43m,\u001b[49m\n\u001b[1;32m     16\u001b[0m \u001b[43m                         \u001b[49m\u001b[43mnames\u001b[49m\u001b[43m \u001b[49m\u001b[38;5;241;43m=\u001b[39;49m\u001b[43m \u001b[49m\u001b[43mfeature_name\u001b[49m\u001b[43m)\u001b[49m\n\u001b[1;32m     17\u001b[0m X_test \u001b[38;5;241m=\u001b[39m pd\u001b[38;5;241m.\u001b[39mread_csv(\u001b[38;5;124m'\u001b[39m\u001b[38;5;124m/Users/1001l1000/Documents/AI/Jen/data/human_activity/test/X_test.txt\u001b[39m\u001b[38;5;124m'\u001b[39m, sep \u001b[38;5;241m=\u001b[39m \u001b[38;5;124m'\u001b[39m\u001b[38;5;124m\\\u001b[39m\u001b[38;5;124ms+\u001b[39m\u001b[38;5;124m'\u001b[39m,\n\u001b[1;32m     18\u001b[0m                          names \u001b[38;5;241m=\u001b[39m feature_name)\n\u001b[1;32m     20\u001b[0m \u001b[38;5;66;03m# 학습 피처 데이터세트와 테스트 피처 데이터를 DataFrame으로 Loading, column 이름은 featrue_name 적용\u001b[39;00m\n",
      "File \u001b[0;32m~/opt/anaconda3/envs/J/lib/python3.9/site-packages/pandas/util/_decorators.py:211\u001b[0m, in \u001b[0;36mdeprecate_kwarg.<locals>._deprecate_kwarg.<locals>.wrapper\u001b[0;34m(*args, **kwargs)\u001b[0m\n\u001b[1;32m    209\u001b[0m     \u001b[38;5;28;01melse\u001b[39;00m:\n\u001b[1;32m    210\u001b[0m         kwargs[new_arg_name] \u001b[38;5;241m=\u001b[39m new_arg_value\n\u001b[0;32m--> 211\u001b[0m \u001b[38;5;28;01mreturn\u001b[39;00m \u001b[43mfunc\u001b[49m\u001b[43m(\u001b[49m\u001b[38;5;241;43m*\u001b[39;49m\u001b[43margs\u001b[49m\u001b[43m,\u001b[49m\u001b[43m \u001b[49m\u001b[38;5;241;43m*\u001b[39;49m\u001b[38;5;241;43m*\u001b[39;49m\u001b[43mkwargs\u001b[49m\u001b[43m)\u001b[49m\n",
      "File \u001b[0;32m~/opt/anaconda3/envs/J/lib/python3.9/site-packages/pandas/util/_decorators.py:331\u001b[0m, in \u001b[0;36mdeprecate_nonkeyword_arguments.<locals>.decorate.<locals>.wrapper\u001b[0;34m(*args, **kwargs)\u001b[0m\n\u001b[1;32m    325\u001b[0m \u001b[38;5;28;01mif\u001b[39;00m \u001b[38;5;28mlen\u001b[39m(args) \u001b[38;5;241m>\u001b[39m num_allow_args:\n\u001b[1;32m    326\u001b[0m     warnings\u001b[38;5;241m.\u001b[39mwarn(\n\u001b[1;32m    327\u001b[0m         msg\u001b[38;5;241m.\u001b[39mformat(arguments\u001b[38;5;241m=\u001b[39m_format_argument_list(allow_args)),\n\u001b[1;32m    328\u001b[0m         \u001b[38;5;167;01mFutureWarning\u001b[39;00m,\n\u001b[1;32m    329\u001b[0m         stacklevel\u001b[38;5;241m=\u001b[39mfind_stack_level(),\n\u001b[1;32m    330\u001b[0m     )\n\u001b[0;32m--> 331\u001b[0m \u001b[38;5;28;01mreturn\u001b[39;00m \u001b[43mfunc\u001b[49m\u001b[43m(\u001b[49m\u001b[38;5;241;43m*\u001b[39;49m\u001b[43margs\u001b[49m\u001b[43m,\u001b[49m\u001b[43m \u001b[49m\u001b[38;5;241;43m*\u001b[39;49m\u001b[38;5;241;43m*\u001b[39;49m\u001b[43mkwargs\u001b[49m\u001b[43m)\u001b[49m\n",
      "File \u001b[0;32m~/opt/anaconda3/envs/J/lib/python3.9/site-packages/pandas/io/parsers/readers.py:950\u001b[0m, in \u001b[0;36mread_csv\u001b[0;34m(filepath_or_buffer, sep, delimiter, header, names, index_col, usecols, squeeze, prefix, mangle_dupe_cols, dtype, engine, converters, true_values, false_values, skipinitialspace, skiprows, skipfooter, nrows, na_values, keep_default_na, na_filter, verbose, skip_blank_lines, parse_dates, infer_datetime_format, keep_date_col, date_parser, dayfirst, cache_dates, iterator, chunksize, compression, thousands, decimal, lineterminator, quotechar, quoting, doublequote, escapechar, comment, encoding, encoding_errors, dialect, error_bad_lines, warn_bad_lines, on_bad_lines, delim_whitespace, low_memory, memory_map, float_precision, storage_options)\u001b[0m\n\u001b[1;32m    935\u001b[0m kwds_defaults \u001b[38;5;241m=\u001b[39m _refine_defaults_read(\n\u001b[1;32m    936\u001b[0m     dialect,\n\u001b[1;32m    937\u001b[0m     delimiter,\n\u001b[0;32m   (...)\u001b[0m\n\u001b[1;32m    946\u001b[0m     defaults\u001b[38;5;241m=\u001b[39m{\u001b[38;5;124m\"\u001b[39m\u001b[38;5;124mdelimiter\u001b[39m\u001b[38;5;124m\"\u001b[39m: \u001b[38;5;124m\"\u001b[39m\u001b[38;5;124m,\u001b[39m\u001b[38;5;124m\"\u001b[39m},\n\u001b[1;32m    947\u001b[0m )\n\u001b[1;32m    948\u001b[0m kwds\u001b[38;5;241m.\u001b[39mupdate(kwds_defaults)\n\u001b[0;32m--> 950\u001b[0m \u001b[38;5;28;01mreturn\u001b[39;00m \u001b[43m_read\u001b[49m\u001b[43m(\u001b[49m\u001b[43mfilepath_or_buffer\u001b[49m\u001b[43m,\u001b[49m\u001b[43m \u001b[49m\u001b[43mkwds\u001b[49m\u001b[43m)\u001b[49m\n",
      "File \u001b[0;32m~/opt/anaconda3/envs/J/lib/python3.9/site-packages/pandas/io/parsers/readers.py:602\u001b[0m, in \u001b[0;36m_read\u001b[0;34m(filepath_or_buffer, kwds)\u001b[0m\n\u001b[1;32m    599\u001b[0m nrows \u001b[38;5;241m=\u001b[39m kwds\u001b[38;5;241m.\u001b[39mget(\u001b[38;5;124m\"\u001b[39m\u001b[38;5;124mnrows\u001b[39m\u001b[38;5;124m\"\u001b[39m, \u001b[38;5;28;01mNone\u001b[39;00m)\n\u001b[1;32m    601\u001b[0m \u001b[38;5;66;03m# Check for duplicates in names.\u001b[39;00m\n\u001b[0;32m--> 602\u001b[0m \u001b[43m_validate_names\u001b[49m\u001b[43m(\u001b[49m\u001b[43mkwds\u001b[49m\u001b[38;5;241;43m.\u001b[39;49m\u001b[43mget\u001b[49m\u001b[43m(\u001b[49m\u001b[38;5;124;43m\"\u001b[39;49m\u001b[38;5;124;43mnames\u001b[39;49m\u001b[38;5;124;43m\"\u001b[39;49m\u001b[43m,\u001b[49m\u001b[43m \u001b[49m\u001b[38;5;28;43;01mNone\u001b[39;49;00m\u001b[43m)\u001b[49m\u001b[43m)\u001b[49m\n\u001b[1;32m    604\u001b[0m \u001b[38;5;66;03m# Create the parser.\u001b[39;00m\n\u001b[1;32m    605\u001b[0m parser \u001b[38;5;241m=\u001b[39m TextFileReader(filepath_or_buffer, \u001b[38;5;241m*\u001b[39m\u001b[38;5;241m*\u001b[39mkwds)\n",
      "File \u001b[0;32m~/opt/anaconda3/envs/J/lib/python3.9/site-packages/pandas/io/parsers/readers.py:564\u001b[0m, in \u001b[0;36m_validate_names\u001b[0;34m(names)\u001b[0m\n\u001b[1;32m    562\u001b[0m \u001b[38;5;28;01mif\u001b[39;00m names \u001b[38;5;129;01mis\u001b[39;00m \u001b[38;5;129;01mnot\u001b[39;00m \u001b[38;5;28;01mNone\u001b[39;00m:\n\u001b[1;32m    563\u001b[0m     \u001b[38;5;28;01mif\u001b[39;00m \u001b[38;5;28mlen\u001b[39m(names) \u001b[38;5;241m!=\u001b[39m \u001b[38;5;28mlen\u001b[39m(\u001b[38;5;28mset\u001b[39m(names)):\n\u001b[0;32m--> 564\u001b[0m         \u001b[38;5;28;01mraise\u001b[39;00m \u001b[38;5;167;01mValueError\u001b[39;00m(\u001b[38;5;124m\"\u001b[39m\u001b[38;5;124mDuplicate names are not allowed.\u001b[39m\u001b[38;5;124m\"\u001b[39m)\n\u001b[1;32m    565\u001b[0m     \u001b[38;5;28;01mif\u001b[39;00m \u001b[38;5;129;01mnot\u001b[39;00m (\n\u001b[1;32m    566\u001b[0m         is_list_like(names, allow_sets\u001b[38;5;241m=\u001b[39m\u001b[38;5;28;01mFalse\u001b[39;00m) \u001b[38;5;129;01mor\u001b[39;00m \u001b[38;5;28misinstance\u001b[39m(names, abc\u001b[38;5;241m.\u001b[39mKeysView)\n\u001b[1;32m    567\u001b[0m     ):\n\u001b[1;32m    568\u001b[0m         \u001b[38;5;28;01mraise\u001b[39;00m \u001b[38;5;167;01mValueError\u001b[39;00m(\u001b[38;5;124m\"\u001b[39m\u001b[38;5;124mNames should be an ordered collection.\u001b[39m\u001b[38;5;124m\"\u001b[39m)\n",
      "\u001b[0;31mValueError\u001b[0m: Duplicate names are not allowed."
     ]
    }
   ],
   "source": [
    "# pip3 install pandas==0.20.0 -> pandas version down\n",
    "\n",
    "import pandas as pd\n",
    "\n",
    "def get_human_dataset():\n",
    "    # 각 데이터 파일은 공백으로 분리되어 있으므로 read_csv에서 공백 문자를 sep으로 할당\n",
    "    feature_name_df = pd.read_csv('/Users/1001l1000/Documents/AI/Jen/data/human_activity/features.txt', sep = '\\s+',\n",
    "                             header = None, names = ['column_index', 'column_name'])\n",
    "    \n",
    "    # 중복된 피처명을 수정하는 get_new_feature_name_df()를 이용, 신규 피처명 DataFrame 생성\n",
    "    new_feature_name_df = get_new_feature_name_df(feature_name_df)\n",
    "    \n",
    "    # DataFrame에 피처명을 column으로 부여하기 위해 리스트 객체로 다시 변환\n",
    "    featrue_name = new_feature_name_df.iloc[:, 1].values.tolist()\n",
    "    \n",
    "    # 학습 피처 데이터세트와 테스트 피처 데이터를 DataFrame으로 Loading, column 이름은 featrue_name 적용\n",
    "    X_train = pd.read_csv('/Users/1001l1000/Documents/AI/Jen/data/human_activity/train/X_train.txt', sep = '\\s+',\n",
    "                             names = feature_name)\n",
    "    X_test = pd.read_csv('/Users/1001l1000/Documents/AI/Jen/data/human_activity/test/X_test.txt', sep = '\\s+',\n",
    "                             names = feature_name)\n",
    "    \n",
    "    # 학습 피처 데이터세트와 테스트 피처 데이터를 DataFrame으로 Loading, column 이름은 featrue_name 적용\n",
    "    Y_train = pd.read_csv('/Users/1001l1000/Documents/AI/Jen/data/human_activity/train/y_train.txt', sep = '\\s+',\n",
    "                             header = None, names = ['action'])\n",
    "    Y_test = pd.read_csv('/Users/1001l1000/Documents/AI/Jen/data/human_activity/test/y_test.txt', sep = '\\s+',\n",
    "                             header = None, names = ['action'])\n",
    "    \n",
    "    # Load 된 학습 / 테스트용 DataFrame을 모두 반환\n",
    "    return X_train, X_test, Y_train, Y_test\n",
    "\n",
    "X_train, X_test, Y_train, Y_test = get_human_dataset()"
   ]
  },
  {
   "cell_type": "code",
   "execution_count": 42,
   "id": "8c26045b",
   "metadata": {},
   "outputs": [
    {
     "name": "stdout",
     "output_type": "stream",
     "text": [
      "학습 피처 데이터셋 info()\n",
      "<class 'pandas.core.frame.DataFrame'>\n",
      "MultiIndex: 7352 entries, (0.28858451, -0.020294171, -0.13290514, -0.9952786, -0.98311061, -0.91352645, -0.99511208, -0.98318457, -0.92352702, -0.93472378, -0.56737807, -0.74441253, 0.85294738, 0.68584458, 0.81426278, -0.96552279, -0.99994465, -0.99986303, -0.99461218, -0.99423081, -0.98761392, -0.94321999, -0.40774707, -0.67933751, -0.60212187, 0.92929351, -0.85301114, 0.35990976, -0.058526382, 0.25689154, -0.22484763, 0.26410572, -0.09524563, 0.27885143, -0.46508457, 0.49193596, -0.19088356, 0.37631389, 0.43512919, 0.66079033, 0.96339614, -0.14083968, 0.11537494, -0.98524969, -0.98170843, -0.87762497, -0.98500137, -0.98441622, -0.89467735, 0.89205451, -0.16126549, 0.12465977, 0.97743631, -0.12321341, 0.056482734, -0.37542596, 0.89946864, -0.97090521, -0.97551037, -0.98432539, -0.98884915, -0.91774264, -1.0, -1.0, 0.11380614, -0.590425, 0.5911463, -0.59177346, 0.59246928, -0.74544878, 0.72086167, -0.71237239, 0.71130003, -0.99511159, 0.99567491, -0.99566759, 0.99165268, 0.57022164, 0.43902735, 0.98691312, 0.077996345, 0.0050008031, -0.067830808, -0.99351906, -0.98835999, -0.99357497, -0.99448763, -0.98620664, -0.99281835, -0.9851801, -0.99199423, -0.99311887, 0.98983471, 0.99195686, 0.9905192, -0.99352201, -0.99993487, -0.99982045, -0.99987846, -0.99436404, -0.98602487, -0.98923361, -0.81994925, -0.79304645, -0.88885295, 1.0, -0.22074703, 0.63683075, 0.38764356, 0.24140146, -0.052252848, 0.2641772, 0.37343945, 0.34177752, -0.56979119, 0.26539882, -0.47787489, -0.3853005, 0.033643943, -0.12651082, -0.0061008489, -0.031364791, 0.1077254, -0.98531027, -0.97662344, -0.99220528, -0.98458626, -0.97635262, -0.99236164, -0.86704374, -0.93378602, -0.74756618, 0.84730796, 0.91489534, 0.83084054, -0.96718428, -0.99957831, -0.99935432, -0.99976339, -0.98343808, -0.97861401, -0.99296558, 0.082631682, 0.20226765, -0.16875669, 0.096323236, -0.27498511, 0.49864419, -0.22031685, 1.0, -0.97297139, 0.31665451, 0.37572641, 0.72339919, -0.77111201, 0.69021323, -0.33183104, 0.70958377, 0.13487336, 0.30109948, -0.0991674, -0.055517369, -0.061985797, -0.99211067, -0.99251927, -0.99205528, -0.99216475, -0.99494156, -0.99261905, -0.99015585, -0.98674277, -0.99204155, 0.99442876, 0.99175581, 0.98935195, -0.99445335, -0.99993755, -0.9999535, -0.99992294, -0.99229974, -0.99693892, -0.99224298, -0.58985096, -0.68845905, -0.57210686, 0.29237634, -0.36199802, 0.40554269, -0.039006951, 0.98928381, -0.41456048, 0.39160251, 0.28225087, 0.92726984, -0.57237001, 0.6916192, 0.46828982, -0.13107697, -0.087159695, 0.33624748, -0.95943388, -0.9505515, -0.95799295, -0.94630524, -0.99255572, -0.95943388, -0.99849285, -0.9576374, -0.23258164, -0.17317874, -0.02289666, 0.094831568, 0.19181715, -0.95943388, -0.9505515, -0.95799295, -0.94630524, -0.99255572, -0.95943388, -0.99849285, -0.9576374, -0.23258164, -0.17317874, -0.02289666, 0.094831568, 0.19181715, -0.99330586, -0.99433641, -0.99450037, -0.99278399, -0.99120847, -0.99330586, -0.99989188, -0.9929337, -0.86341476, 0.28308522, -0.23730869, -0.10543219, -0.038212313, -0.96895908, -0.96433518, -0.95724477, -0.97505986, -0.99155366, -0.96895908, -0.99928646, -0.94976582, 0.072579035, 0.57251142, -0.73860219, 0.21257776, 0.43340495, -0.99424782, -0.99136761, -0.99314298, -0.98893563, -0.99348603, -0.99424782, -0.99994898, -0.99454718, -0.61976763, 0.29284049, -0.1768892, -0.14577921, -0.12407233, -0.99478319, -0.9829841, -0.93926865, -0.99542175, -0.98313297, -0.90616498, -0.99688864, -0.98451927, -0.932082, -0.99375634, -0.98316285, -0.88505422, -0.99396185, -0.99344611, -0.92342772, -0.97473271, -0.99996838, -0.99968911, -0.99489148, -0.99592602, -0.98970889, -0.98799115, -0.94635692, -0.90474776, -0.59130248, -1.0, -1.0, -1.0, 0.2524829, 0.13183575, -0.052050251, 0.14205056, -0.1506825, -0.22054694, -0.55873853, 0.24676868, -0.0074155206, -0.99996279, -0.9999865, -0.99997907, -0.99996244, -0.99993222, -0.99972512, -0.99967039, -0.99998582, -0.99996867, -0.99997686, -0.99986966, -0.99977613, -0.99997115, -0.99991925, -0.9996568, -0.99986046, -0.99986695, -0.99986301, -0.99973783, -0.9997322, -0.99949261, -0.99981364, -0.99968182, -0.9998394, -0.99973823, -0.99961197, -0.99968721, -0.99983863, -0.99359234, -0.99947584, -0.99966204, -0.9996423, -0.99929341, -0.99789222, -0.99593249, -0.99514642, -0.9947399, -0.99968826, -0.99892456, -0.99567134, -0.99487731, -0.99945439, -0.99233245, -0.98716991, -0.98969609, -0.99582068, -0.99093631, -0.99705167, -0.99380547, -0.99051869, -0.99699279, -0.99673689, -0.99197516, -0.99324167, -0.99834907, -0.99110842, -0.95988537, -0.99051499, -0.99993475, -0.99982048, -0.99988449, -0.99302626, -0.99137339, -0.99623962, -1.0, -1.0, -1.0, 1.0, -0.24, -1.0, 0.87038451, 0.210697, 0.26370789, -0.70368577, -0.90374251, -0.58257362, -0.93631005, -0.50734474, -0.80553591, -0.99998649, -0.9999796, -0.99997478, -0.99995513, -0.99991861, -0.99964011, -0.9994833, -0.99996087, -0.99998227, -0.99997072, -0.99981098, -0.99948472, -0.99998083, -0.99985189, -0.99993261, -0.99989993, -0.99982444, -0.99985982, -0.99972751, -0.99972876, -0.99956707, -0.99976524, -0.99990021, -0.9998149, -0.9997098, -0.99959608, -0.99985216, -0.9998221, -0.99939988, -0.99976559, -0.99995846, -0.99994951, -0.9998385, -0.99981351, -0.99878054, -0.99857783, -0.99961968, -0.99998359, -0.99982812, -0.99868068, -0.99984416, -0.99992792, -0.98657442, -0.98176153, -0.98951478, -0.98503264, -0.97388607, -0.99403493, -0.98653085, -0.98361636, -0.99235201, -0.98049843, -0.97227092, -0.99494426, -0.99756862, -0.9840851, -0.99433541, -0.98527621, -0.99986371, -0.99966608, -0.99993462, -0.99034389, -0.99483569, -0.99441158, -0.71240225, -0.64484236, -0.83899298, -1.0, -1.0, -1.0, -0.25754888, 0.097947109, 0.54715105, 0.37731121, 0.13409154, 0.27337197, -0.091261831, -0.4843465, -0.7828507, -0.99986502, -0.99993178, -0.99997295, -0.99997018, -0.99993012, -0.99995862, -0.99992899, -0.99998465, -0.99986326, -0.99996815, -0.9999361, -0.99995363, -0.99986442, -0.99996098, -0.99945373, -0.99997811, -0.99999153, -0.9999901, -0.99996857, -0.99980657, -0.998346, -0.99896122, -0.99961874, -0.99998934, -0.9999354, -0.99838752, -0.99964264, -0.99997266, -0.99995535, -0.9999763, -0.99990583, -0.9999855, -0.99993717, -0.99975115, -0.99907227, -0.99992754, -0.99995158, -0.99990585, -0.99989269, -0.99944433, -0.99994099, -0.99995861, -0.95215466, -0.95613397, -0.94887014, -0.97432057, -0.92572179, -0.95215466, -0.9982852, -0.9732732, -0.64637645, -0.79310345, -0.08843612, -0.43647104, -0.79684048, -0.99372565, -0.99375495, -0.9919757, -0.99336472, -0.98817543, -0.99372565, -0.99991844, -0.99136366, -1.0, -0.93650794, 0.34698853, -0.51608015, -0.80276003, -0.98013485, -0.96130944, -0.97365344, -0.95226383, -0.98949813, -0.98013485, -0.99924035, -0.99265553, -0.70129141, -1.0, -0.1289889, 0.58615643, 0.37460462, -0.99199044, -0.99069746, -0.98994084, -0.99244784, -0.99104773, -0.99199044, -0.99993676, -0.99045792, -0.8713058, -1.0, -0.074323027, -0.29867637, -0.71030407, -0.11275434, 0.030400372, -0.46476139, -0.018445884, -0.84124676, 0.17994061) to (0.35150347, -0.012423118, -0.20386717, -0.26927044, -0.087211541, 0.17740393, -0.37740405, -0.038678063, 0.22942952, 0.26901269, -0.1470278, -0.13374871, 0.2348499, 0.23778394, 0.3015789, -0.027958077, -0.7306243, -0.83847787, -0.36830914, -0.62712778, -0.11228842, 0.26249594, 0.3121799, 0.33353601, -0.099100516, -0.44290503, 0.38649681, -0.23056195, 0.1392823, -0.4464456, 0.39156919, -0.1564351, 0.097870063, -0.40569113, 0.18334026, -0.056555518, 0.054368326, -0.26644248, -0.29111306, -0.20029339, 0.91870668, -0.23329162, -0.020953992, -0.95241541, -0.96784962, -0.89846529, -0.95575789, -0.96976582, -0.90330046, 0.85598843, -0.240956, 0.0030309646, 0.91672866, -0.21214853, -0.047490586, -0.43200267, 0.78334222, -0.91057851, -0.99814398, -0.96406782, -0.97054826, -0.91998291, -0.23298019, -1.0, -0.94404576, -0.61297469, 0.65253501, -0.69101158, 0.72845467, -0.49966631, 0.48170082, -0.49632064, 0.52399178, -0.84200337, 0.86151249, -0.88048359, 0.89563045, 0.25282271, -0.12311749, 0.29521957, 0.075051765, 0.011401085, -0.28568111, -0.32054417, -0.4693679, -0.71267104, -0.41347559, -0.44773094, -0.68043196, -0.12838813, -0.59933497, -0.76889772, 0.029112169, 0.46254979, 0.72752712, -0.48454568, -0.76653896, -0.85545441, -0.9549716, -0.46057176, -0.53895009, -0.61515792, 0.52448447, 0.50543787, 0.32231721, -0.39367215, 0.29544702, -0.04136589, -0.003617272, -0.47208006, 0.32210024, -0.077490429, 0.15648144, -0.34262497, -0.11232897, -0.050668405, -0.34872429, -0.42053201, -0.16630489, 0.16639428, -0.041810187, -0.32250584, 0.038251548, -0.45123272, 0.022216339, -0.22010664, -0.48281923, -0.073681092, -0.23612893, -0.41355341, -0.22107639, -0.26226608, 0.39038847, 0.45259892, 0.2774421, -0.084958275, -0.86232139, -0.47433075, -0.7172003, -0.51529108, -0.37096423, -0.34791918, 0.08656272, -0.42717477, 0.38787884, -0.31168671, 0.11574376, 0.28513374, -0.24624421, -0.7149915, 0.67261926, -0.69484157, 0.56273229, -0.72093259, 0.64424993, -0.49696732, 0.41293378, -0.34792296, -0.32513082, 0.18892241, 0.26304757, 0.095666408, -0.21579029, -0.69545487, -0.69234856, -0.61192257, -0.68884025, -0.70283799, -0.59834056, -0.7502873, -0.7785002, -0.69781729, 0.80063526, 0.7808362, 0.69166303, -0.67441277, -0.95189454, -0.95201812, -0.92282688, -0.66990523, -0.71169482, -0.61690903, 0.66045405, 0.44985555, 0.63383599, -0.10520406, -0.090816259, 0.23693456, 0.089443648, -0.6269784, 0.44260956, -0.19216481, -0.35034098, -0.72601157, 0.44626571, -0.2916004, -0.074666632, 0.0528775, -0.23067098, -0.22599838, -0.049089815, -0.22915736, -0.34573176, -0.051913505, -0.62553891, -0.049089815, -0.54287412, -0.51773817, 0.75346382, -0.39287338, 0.38982431, -0.57427665, 0.49956831, -0.049089815, -0.22915736, -0.34573176, -0.051913505, -0.62553891, -0.049089815, -0.54287412, -0.51773817, 0.75346382, -0.39287338, 0.38982431, -0.57427665, 0.49956831, -0.47577824, -0.31327197, -0.43761822, -0.27614846, -0.65160899, -0.47577824, -0.82555764, -0.60180767, 0.58945763, -0.44796917, 0.48213744, -0.40144286, 0.37805924, -0.10037282, -0.09570471, -0.023754732, -0.18684747, -0.72056389, -0.10037282, -0.54955191, -0.10485857, 0.44840992, -0.7044711, 0.73682466, -0.7386236, 0.5414372, -0.67162453, -0.71987129, -0.74004716, -0.7652279, -0.70479534, -0.67162453, -0.94785117, -0.78638809, 0.75629771, 0.035307929, -0.021884889, -0.024399412, -0.17538554, -0.26526204, -0.22038885, -0.27280087, -0.27079423, -0.080105414, 0.28940963, -0.11447512, -0.088146015, -0.015189515, -0.4176125, -0.27624186, 0.44968708, -0.91677441, -0.97177262, -0.83644442, -0.14255444, -0.73103678, -0.57842382, -0.29883023, -0.25146514, -0.40973202, -0.71172483, 0.5889259, 0.45306585, 0.22771842, -0.80645161, -0.93333333, -0.92307692, -0.56613208, -0.42240709, -0.58640923, -0.24358879, -0.63303943, -0.24685061, -0.60644886, 0.2282583, -0.040951511, -0.70949532, -0.86573205, -0.71333003, -0.82958526, -0.91291123, -0.90515655, -0.96854639, -0.99897285, -0.72851916, -0.70315042, -0.91001874, -0.97874456, -0.72744107, -0.83507679, -0.4738071, -0.91109142, -0.914215, -0.91783619, -0.91984671, -0.96229799, -0.96206223, -0.99970306, -0.55108468, -0.89336494, -0.92697558, -0.97671615, -0.57461319, -0.91651677, -0.10676613, -0.93968396, -0.974275, -0.9791701, -0.99339499, -0.94510113, -0.90532171, -0.86365947, -0.26652146, -0.97608125, -0.98040971, -0.8920332, -0.28738502, -0.97954017, -0.35676803, -0.482739, -0.68493786, -0.34247075, -0.49121073, -0.73858502, -0.18475579, -0.46093992, -0.71944407, -0.47810419, -0.64057973, -0.77190041, -0.80643079, -0.91000562, -0.94156654, -0.40910603, -0.76610352, -0.85546188, -0.95508227, -0.23495881, -0.51871619, -0.74024761, 0.5518069, 0.34093433, 0.075314662, -0.32, -0.4, -0.96, -0.31556552, -0.63381988, -0.6638012, -0.27612681, -0.73958396, -0.50925941, -0.91354792, -0.43805129, -0.80367259, -0.83421487, -0.84388169, -0.73560219, -0.8154911, -0.89986923, -0.86380615, -0.9450226, -0.99461974, -0.82584791, -0.70904321, -0.87670618, -0.94493464, -0.75909765, -0.78094008, -0.70075054, -0.90589784, -0.89754506, -0.91498966, -0.92394597, -0.95099291, -0.95535064, -0.99800989, -0.84420075, -0.88516648, -0.91724527, -0.96073617, -0.84156371, -0.91473976, -0.77260968, -0.94957736, -0.97602972, -0.978895, -0.99348894, -0.95260817, -0.97260839, -0.99822392, -0.87615094, -0.97745981, -0.98070463, -0.97380618, -0.9287027, -0.97963179, -0.34721968, -0.28751198, -0.30887737, -0.48477702, 0.16638311, -0.26432958, -0.42569785, -0.12024581, -0.2124516, -0.39914509, 0.075957841, -0.45798186, -0.89293346, -0.64738577, -0.84212236, -0.26821424, -0.84862262, -0.47623382, -0.6937296, -0.7046154, -0.62996875, -0.59907401, 0.47881149, 0.46668265, 0.35826798, -1.0, -0.93548387, -0.79310345, 0.0021077106, -0.73812475, -0.34720005, 0.10247904, -0.20237468, 0.037459489, -0.37161644, -0.069538547, -0.48325332, -0.85679334, -0.92004355, -0.92047532, -0.95433407, -0.8697653, -0.86200123, -0.81369644, -0.79024774, -0.85352636, -0.91740485, -0.85350812, -0.80332077, -0.85169813, -0.924731, -0.12927696, -0.95538059, -0.97893337, -0.98020443, -0.98898765, -0.98245878, -0.97147543, -0.97601158, -0.38469295, -0.9742994, -0.98753469, -0.9695589, -0.41866874, -0.98096888, -0.70991409, -0.93138234, -0.95378273, -0.97569481, -0.97689166, -0.95860316, -0.9369713, -0.93711619, -0.70103068, -0.94416494, -0.97188601, -0.9370345, -0.69622859, -0.97451491, -0.24003809, -0.34267039, -0.14664921, -0.62001413, -0.92859379, -0.24003809, -0.69808748, -0.21598382, 0.5740783, -0.93103448, -0.21497823, -0.57275746, -0.86162034, -0.33798951, -0.28722743, -0.19107833, -0.54992907, -0.83767654, -0.33798951, -0.7590967, -0.43467931, 0.29869357, -0.9047619, -0.24244757, -0.32194996, -0.76854197, -0.33078029, -0.10600212, -0.10645004, -0.090538189, -0.77915315, -0.33078029, -0.58942863, -0.29064517, 0.43645319, -0.84615385, -0.38908444, -0.057580977, -0.3879559, -0.71558821, -0.74512041, -0.69740361, -0.78357095, -0.75868548, -0.71558821, -0.95998766, -0.67718463, 0.2020258, -0.9047619, -0.058401607, -0.387052, -0.7407382, -0.28008805, -0.0077392783, -0.056087594, -0.61695645, -0.78326693, 0.24680852)\n",
      "Data columns (total 1 columns):\n",
      " #   Column  Non-Null Count  Dtype  \n",
      "---  ------  --------------  -----  \n",
      " 0   action  7352 non-null   float64\n",
      "dtypes: float64(1)\n",
      "memory usage: 165.1 MB\n",
      "None\n"
     ]
    }
   ],
   "source": [
    "print('학습 피처 데이터셋 info()')\n",
    "print(X_train.info())"
   ]
  },
  {
   "cell_type": "code",
   "execution_count": 43,
   "id": "61ff3507",
   "metadata": {},
   "outputs": [
    {
     "name": "stdout",
     "output_type": "stream",
     "text": [
      "6    1407\n",
      "5    1374\n",
      "4    1286\n",
      "1    1226\n",
      "2    1073\n",
      "3     986\n",
      "Name: action, dtype: int64\n"
     ]
    }
   ],
   "source": [
    "print(Y_train['action'].value_counts())"
   ]
  },
  {
   "cell_type": "code",
   "execution_count": 44,
   "id": "7b2da511",
   "metadata": {},
   "outputs": [
    {
     "name": "stdout",
     "output_type": "stream",
     "text": [
      "결정 트리 예측 정확도 : 0.3254\n",
      "DecisionTreeClassifier 기본 하이퍼 파라미터 : \n",
      " {'ccp_alpha': 0.0, 'class_weight': None, 'criterion': 'gini', 'max_depth': None, 'max_features': None, 'max_leaf_nodes': None, 'min_impurity_decrease': 0.0, 'min_samples_leaf': 1, 'min_samples_split': 2, 'min_weight_fraction_leaf': 0.0, 'random_state': 156, 'splitter': 'best'}\n"
     ]
    }
   ],
   "source": [
    "# 정확도 이상 !\n",
    "\n",
    "from sklearn.tree import DecisionTreeClassifier\n",
    "from sklearn.metrics import accuracy_score\n",
    "\n",
    "# 예제 반복 시마다 동일한 예측 결과 도출을 위해 random_state 설정\n",
    "dt_clf = DecisionTreeClassifier(random_state = 156)\n",
    "dt_clf.fit(X_train, Y_train)\n",
    "pred = dt_clf.predict(X_test)\n",
    "accuracy = accuracy_score(Y_test, pred)\n",
    "print('결정 트리 예측 정확도 : {0:.4f}'.format(accuracy))\n",
    "\n",
    "# DecisionTreeClassifier의 하이퍼 파라미터 추출\n",
    "print('DecisionTreeClassifier 기본 하이퍼 파라미터 : \\n', dt_clf.get_params())"
   ]
  },
  {
   "cell_type": "markdown",
   "id": "3f2cb78e",
   "metadata": {},
   "source": [
    "**결정 트리의 트리 깊이(Tree Depth)가 예측 정확도에 주는 영향**"
   ]
  },
  {
   "cell_type": "code",
   "execution_count": 45,
   "id": "75bc2012",
   "metadata": {},
   "outputs": [
    {
     "name": "stdout",
     "output_type": "stream",
     "text": [
      "Fitting 5 folds for each of 7 candidates, totalling 35 fits\n",
      "GridSearchCV 최고 평균 정확도 수치 : 0.3859\n",
      "GridSearchCV 최적 하이퍼 파라미터 :  {'max_depth': 6, 'min_samples_split': 16}\n"
     ]
    }
   ],
   "source": [
    "from sklearn.model_selection import GridSearchCV\n",
    "\n",
    "params = {\n",
    "    'max_depth' : [6, 8, 10, 12, 16, 20, 24],\n",
    "    'min_samples_split' : [16]\n",
    "}\n",
    "\n",
    "grid_cv = GridSearchCV(dt_clf, param_grid = params, scoring = 'accuracy', cv = 5, verbose = 1)\n",
    "grid_cv.fit(X_train, Y_train)\n",
    "print('GridSearchCV 최고 평균 정확도 수치 : {0:.4f}'.format(grid_cv.best_score_))\n",
    "print('GridSearchCV 최적 하이퍼 파라미터 : ', grid_cv.best_params_)"
   ]
  },
  {
   "cell_type": "code",
   "execution_count": 46,
   "id": "d6f57ae7",
   "metadata": {},
   "outputs": [
    {
     "data": {
      "text/html": [
       "<div>\n",
       "<style scoped>\n",
       "    .dataframe tbody tr th:only-of-type {\n",
       "        vertical-align: middle;\n",
       "    }\n",
       "\n",
       "    .dataframe tbody tr th {\n",
       "        vertical-align: top;\n",
       "    }\n",
       "\n",
       "    .dataframe thead th {\n",
       "        text-align: right;\n",
       "    }\n",
       "</style>\n",
       "<table border=\"1\" class=\"dataframe\">\n",
       "  <thead>\n",
       "    <tr style=\"text-align: right;\">\n",
       "      <th></th>\n",
       "      <th>param_max_depth</th>\n",
       "      <th>mean_test_score</th>\n",
       "    </tr>\n",
       "  </thead>\n",
       "  <tbody>\n",
       "    <tr>\n",
       "      <th>0</th>\n",
       "      <td>6</td>\n",
       "      <td>0.385897</td>\n",
       "    </tr>\n",
       "    <tr>\n",
       "      <th>1</th>\n",
       "      <td>8</td>\n",
       "      <td>0.373935</td>\n",
       "    </tr>\n",
       "    <tr>\n",
       "      <th>2</th>\n",
       "      <td>10</td>\n",
       "      <td>0.362780</td>\n",
       "    </tr>\n",
       "    <tr>\n",
       "      <th>3</th>\n",
       "      <td>12</td>\n",
       "      <td>0.359375</td>\n",
       "    </tr>\n",
       "    <tr>\n",
       "      <th>4</th>\n",
       "      <td>16</td>\n",
       "      <td>0.357740</td>\n",
       "    </tr>\n",
       "    <tr>\n",
       "      <th>5</th>\n",
       "      <td>20</td>\n",
       "      <td>0.360054</td>\n",
       "    </tr>\n",
       "    <tr>\n",
       "      <th>6</th>\n",
       "      <td>24</td>\n",
       "      <td>0.357605</td>\n",
       "    </tr>\n",
       "  </tbody>\n",
       "</table>\n",
       "</div>"
      ],
      "text/plain": [
       "  param_max_depth  mean_test_score\n",
       "0               6         0.385897\n",
       "1               8         0.373935\n",
       "2              10         0.362780\n",
       "3              12         0.359375\n",
       "4              16         0.357740\n",
       "5              20         0.360054\n",
       "6              24         0.357605"
      ]
     },
     "execution_count": 46,
     "metadata": {},
     "output_type": "execute_result"
    }
   ],
   "source": [
    "# GridSearchCV 객체의 cv_results_ 속성을 DataFrame으로 생성\n",
    "cv_results_df = pd.DataFrame(grid_cv.cv_results_)\n",
    "\n",
    "# max_depth 파라미터 값과 테스트 세트, 학습 데이터 세트의 정확도 수치 추출\n",
    "cv_results_df[['param_max_depth', 'mean_test_score']]"
   ]
  },
  {
   "cell_type": "code",
   "execution_count": null,
   "id": "50e86d3f",
   "metadata": {},
   "outputs": [],
   "source": []
  },
  {
   "cell_type": "code",
   "execution_count": null,
   "id": "67b50558",
   "metadata": {},
   "outputs": [],
   "source": []
  },
  {
   "cell_type": "code",
   "execution_count": null,
   "id": "4e308a46",
   "metadata": {},
   "outputs": [],
   "source": []
  },
  {
   "cell_type": "code",
   "execution_count": 47,
   "id": "f342b7c9",
   "metadata": {},
   "outputs": [
    {
     "ename": "NameError",
     "evalue": "name 'best_df_clf' is not defined",
     "output_type": "error",
     "traceback": [
      "\u001b[0;31m---------------------------------------------------------------------------\u001b[0m",
      "\u001b[0;31mNameError\u001b[0m                                 Traceback (most recent call last)",
      "Cell \u001b[0;32mIn[47], line 3\u001b[0m\n\u001b[1;32m      1\u001b[0m \u001b[38;5;28;01mimport\u001b[39;00m \u001b[38;5;21;01mseaborn\u001b[39;00m \u001b[38;5;28;01mas\u001b[39;00m \u001b[38;5;21;01msns\u001b[39;00m\n\u001b[0;32m----> 3\u001b[0m ftr_importances_values \u001b[38;5;241m=\u001b[39m \u001b[43mbest_df_clf\u001b[49m\u001b[38;5;241m.\u001b[39mfeatrue_importance_\n\u001b[1;32m      5\u001b[0m \u001b[38;5;66;03m# Top 중요도로 정렬을 쉽게 하고, Seaborn의 막대 그래프로 쉽게 표현하기 위해 Series 변환\u001b[39;00m\n\u001b[1;32m      6\u001b[0m ftr_importances \u001b[38;5;241m=\u001b[39m pd\u001b[38;5;241m.\u001b[39mSeries(ftr_importances_values, index \u001b[38;5;241m=\u001b[39m X_train\u001b[38;5;241m.\u001b[39mcolumns)\n",
      "\u001b[0;31mNameError\u001b[0m: name 'best_df_clf' is not defined"
     ]
    }
   ],
   "source": [
    "import seaborn as sns\n",
    "\n",
    "ftr_importances_values = best_df_clf.featrue_importance_\n",
    "\n",
    "# Top 중요도로 정렬을 쉽게 하고, Seaborn의 막대 그래프로 쉽게 표현하기 위해 Series 변환\n",
    "ftr_importances = pd.Series(ftr_importances_values, index = X_train.columns)\n",
    "\n",
    "# 중요도 값 순으로 Series 정렬\n",
    "ftr_top20 = ftr_importaces.sort_value(ascending = False)[:20]\n",
    "plt.figure(figsize = (8, 6))\n",
    "plt.title('Feature Importances Top 20')\n",
    "sns.barplot(x = ftr_top20, y = ftr_top20.index)\n",
    "plt.show()"
   ]
  }
 ],
 "metadata": {
  "kernelspec": {
   "display_name": "Python 3 (ipykernel)",
   "language": "python",
   "name": "python3"
  },
  "language_info": {
   "codemirror_mode": {
    "name": "ipython",
    "version": 3
   },
   "file_extension": ".py",
   "mimetype": "text/x-python",
   "name": "python",
   "nbconvert_exporter": "python",
   "pygments_lexer": "ipython3",
   "version": "3.9.6"
  }
 },
 "nbformat": 4,
 "nbformat_minor": 5
}
