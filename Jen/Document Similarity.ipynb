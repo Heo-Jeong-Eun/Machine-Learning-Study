{
 "cells": [
  {
   "cell_type": "markdown",
   "id": "24f278bc-d6a8-42dc-bb40-bf4849f4281c",
   "metadata": {},
   "source": [
    "# chapter 8. Text Analysis"
   ]
  },
  {
   "cell_type": "markdown",
   "id": "0409f1a7-6ed2-4b9e-94be-ecf43ca4e422",
   "metadata": {},
   "source": [
    "## Document Similarity"
   ]
  },
  {
   "cell_type": "markdown",
   "id": "bddc8961-6bad-4822-aade-8b70654a5e88",
   "metadata": {},
   "source": [
    "### 문서 유사도 측정 방법 - 코사인 유사도 "
   ]
  },
  {
   "cell_type": "code",
   "execution_count": 1,
   "id": "7533297f-93e3-4b10-bad3-ab2a58b48549",
   "metadata": {},
   "outputs": [
    {
     "name": "stdout",
     "output_type": "stream",
     "text": [
      "1.3.0\n"
     ]
    }
   ],
   "source": [
    "import sklearn\n",
    "print(sklearn.__version__)"
   ]
  },
  {
   "cell_type": "code",
   "execution_count": 2,
   "id": "013258bd-38a6-4d49-b1d8-ccae5a45a0f7",
   "metadata": {},
   "outputs": [],
   "source": [
    "import numpy as np\n",
    "\n",
    "def cos_similarity(v1, v2):\n",
    "    dot_product = np.dot(v1, v2)\n",
    "    l2_norm = (np.sqrt(sum(np.square(v1))) * np.sqrt(sum(np.square(v2))))\n",
    "    similarity = dot_product / l2_norm     \n",
    "    \n",
    "    return similarity"
   ]
  },
  {
   "cell_type": "code",
   "execution_count": 3,
   "id": "54868d4d-3ad5-4c5d-8ae8-e4def356ad7b",
   "metadata": {},
   "outputs": [
    {
     "name": "stdout",
     "output_type": "stream",
     "text": [
      "(3, 18)\n"
     ]
    }
   ],
   "source": [
    "from sklearn.feature_extraction.text import TfidfVectorizer\n",
    "\n",
    "doc_list = ['if you take the blue pill, the story ends' ,\n",
    "            'if you take the red pill, you stay in Wonderland',\n",
    "            'if you take the red pill, I show you how deep the rabbit hole goes']\n",
    "\n",
    "tfidf_vect_simple = TfidfVectorizer()\n",
    "feature_vect_simple = tfidf_vect_simple.fit_transform(doc_list)\n",
    "print(feature_vect_simple.shape)"
   ]
  },
  {
   "cell_type": "code",
   "execution_count": 4,
   "id": "bd05cca7-33c6-4faa-8a14-f3c01285b51a",
   "metadata": {},
   "outputs": [
    {
     "data": {
      "text/plain": [
       "matrix([[0.4155636 , 0.        , 0.4155636 , 0.        , 0.        ,\n",
       "         0.        , 0.24543856, 0.        , 0.24543856, 0.        ,\n",
       "         0.        , 0.        , 0.        , 0.4155636 , 0.24543856,\n",
       "         0.49087711, 0.        , 0.24543856],\n",
       "        [0.        , 0.        , 0.        , 0.        , 0.        ,\n",
       "         0.        , 0.23402865, 0.39624495, 0.23402865, 0.        ,\n",
       "         0.3013545 , 0.        , 0.39624495, 0.        , 0.23402865,\n",
       "         0.23402865, 0.39624495, 0.4680573 ],\n",
       "        [0.        , 0.30985601, 0.        , 0.30985601, 0.30985601,\n",
       "         0.30985601, 0.18300595, 0.        , 0.18300595, 0.30985601,\n",
       "         0.23565348, 0.30985601, 0.        , 0.        , 0.18300595,\n",
       "         0.3660119 , 0.        , 0.3660119 ]])"
      ]
     },
     "execution_count": 4,
     "metadata": {},
     "output_type": "execute_result"
    }
   ],
   "source": [
    "feature_vect_dense = feature_vect_simple.todense()\n",
    "feature_vect_dense"
   ]
  },
  {
   "cell_type": "code",
   "execution_count": 6,
   "id": "37d6d27c-f0c0-44f9-9463-718e9c11a7cc",
   "metadata": {},
   "outputs": [
    {
     "data": {
      "text/plain": [
       "array([0.4155636 , 0.        , 0.4155636 , 0.        , 0.        ,\n",
       "       0.        , 0.24543856, 0.        , 0.24543856, 0.        ,\n",
       "       0.        , 0.        , 0.        , 0.4155636 , 0.24543856,\n",
       "       0.49087711, 0.        , 0.24543856])"
      ]
     },
     "execution_count": 6,
     "metadata": {},
     "output_type": "execute_result"
    }
   ],
   "source": [
    "np.array(feature_vect_dense[0]).reshape(-1, )"
   ]
  },
  {
   "cell_type": "code",
   "execution_count": 7,
   "id": "40ebb6b0-e833-406d-9a86-e87b3e196ef5",
   "metadata": {},
   "outputs": [
    {
     "name": "stdout",
     "output_type": "stream",
     "text": [
      "문장 1, 문장 2 Cosine 유사도: 0.402\n"
     ]
    }
   ],
   "source": [
    "# TFidfVectorizer로 transform()한 결과는 Sparse Matrix이므로 Dense Matrix로 변환 \n",
    "feature_vect_dense = feature_vect_simple.todense()\n",
    "\n",
    "#첫번째 문장과 두번째 문장의 feature vector 추출\n",
    "vect1 = np.array(feature_vect_dense[0]).reshape(-1, )\n",
    "vect2 = np.array(feature_vect_dense[1]).reshape(-1, )\n",
    "\n",
    "#첫번째 문장과 두번째 문장의 feature vector로 두개 문장의 Cosine 유사도 추출\n",
    "similarity_simple = cos_similarity(vect1, vect2 )\n",
    "print('문장 1, 문장 2 Cosine 유사도: {0:.3f}'.format(similarity_simple))"
   ]
  },
  {
   "cell_type": "code",
   "execution_count": 8,
   "id": "45e9b9ed-c3a7-4f1a-b7f9-d9927cef43e3",
   "metadata": {},
   "outputs": [
    {
     "name": "stdout",
     "output_type": "stream",
     "text": [
      "문장 1, 문장 3 Cosine 유사도: 0.404\n",
      "문장 2, 문장 3 Cosine 유사도: 0.456\n"
     ]
    }
   ],
   "source": [
    "vect1 = np.array(feature_vect_dense[0]).reshape(-1, )\n",
    "vect3 = np.array(feature_vect_dense[2]).reshape(-1, )\n",
    "similarity_simple = cos_similarity(vect1, vect3 )\n",
    "print('문장 1, 문장 3 Cosine 유사도: {0:.3f}'.format(similarity_simple))\n",
    "\n",
    "vect2 = np.array(feature_vect_dense[1]).reshape(-1, )\n",
    "vect3 = np.array(feature_vect_dense[2]).reshape(-1, )\n",
    "similarity_simple = cos_similarity(vect2, vect3 )\n",
    "print('문장 2, 문장 3 Cosine 유사도: {0:.3f}'.format(similarity_simple))"
   ]
  },
  {
   "cell_type": "code",
   "execution_count": 9,
   "id": "c453c446-cb53-4af3-8a04-e4ae16b69668",
   "metadata": {},
   "outputs": [
    {
     "name": "stdout",
     "output_type": "stream",
     "text": [
      "[[1.         0.40207758 0.40425045]]\n"
     ]
    }
   ],
   "source": [
    "from sklearn.metrics.pairwise import cosine_similarity\n",
    "\n",
    "similarity_simple_pair = cosine_similarity(feature_vect_simple[0], feature_vect_simple)\n",
    "print(similarity_simple_pair)"
   ]
  },
  {
   "cell_type": "code",
   "execution_count": 10,
   "id": "82e7cdf1-db66-4e55-ac45-347ad6025ebf",
   "metadata": {},
   "outputs": [
    {
     "name": "stdout",
     "output_type": "stream",
     "text": [
      "[[0.40207758 0.40425045]]\n"
     ]
    }
   ],
   "source": [
    "from sklearn.metrics.pairwise import cosine_similarity\n",
    "\n",
    "similarity_simple_pair = cosine_similarity(feature_vect_simple[0], feature_vect_simple[1:])\n",
    "print(similarity_simple_pair)"
   ]
  },
  {
   "cell_type": "code",
   "execution_count": 11,
   "id": "3e8b1a78-f25a-448a-aea0-47b83540a30a",
   "metadata": {},
   "outputs": [
    {
     "name": "stdout",
     "output_type": "stream",
     "text": [
      "[[1.         0.40207758 0.40425045]\n",
      " [0.40207758 1.         0.45647296]\n",
      " [0.40425045 0.45647296 1.        ]]\n",
      "shape: (3, 3)\n"
     ]
    }
   ],
   "source": [
    "similarity_simple_pair = cosine_similarity(feature_vect_simple, feature_vect_simple)\n",
    "print(similarity_simple_pair)\n",
    "print('shape:', similarity_simple_pair.shape)"
   ]
  },
  {
   "cell_type": "markdown",
   "id": "91c67dd3-f11a-41c7-aa81-8c7ac2d6ae1a",
   "metadata": {},
   "source": [
    "### Opinion Review 데이터 셋을 이용한 문서 유사도 측정"
   ]
  },
  {
   "cell_type": "code",
   "execution_count": 12,
   "id": "70a97db4-cd71-4f76-8d75-d566b0209838",
   "metadata": {},
   "outputs": [],
   "source": [
    "from nltk.stem import WordNetLemmatizer\n",
    "import nltk\n",
    "import string\n",
    "\n",
    "remove_punct_dict = dict((ord(punct), None) for punct in string.punctuation)\n",
    "lemmar = WordNetLemmatizer()\n",
    "\n",
    "# 입력으로 들어온 token단어들에 대해서 lemmatization 어근 변환\n",
    "def LemTokens(tokens):\n",
    "    return [lemmar.lemmatize(token) for token in tokens]\n",
    "\n",
    "# TfidfVectorizer 객체 생성 시 tokenizer인자로 해당 함수를 설정하여 lemmatization 적용\n",
    "# 입력으로 문장을 받아서 stop words 제거 -> 소문자 변환 -> 단어 토큰화 -> lemmatization 어근 변환 \n",
    "def LemNormalize(text):\n",
    "    return LemTokens(nltk.word_tokenize(text.lower().translate(remove_punct_dict)))"
   ]
  },
  {
   "cell_type": "code",
   "execution_count": 13,
   "id": "c56b3444-67b5-4738-9aea-9f2c85549e84",
   "metadata": {},
   "outputs": [],
   "source": [
    "import pandas as pd\n",
    "import glob ,os\n",
    "from sklearn.feature_extraction.text import TfidfVectorizer\n",
    "from sklearn.cluster import KMeans\n",
    "import warnings\n",
    "warnings.filterwarnings('ignore')\n",
    "\n",
    "path = r'data/opinosis dataset/topics'\n",
    "all_files = glob.glob(os.path.join(path, \"*.data\"))     \n",
    "filename_list = []\n",
    "opinion_text = []\n",
    "\n",
    "for file_ in all_files:\n",
    "    df = pd.read_table(file_,index_col = None, header = 0, encoding = 'latin1')\n",
    "    filename_ = file_.split('\\\\')[-1]\n",
    "    filename = filename_.split('.')[0]\n",
    "    filename_list.append(filename)\n",
    "    opinion_text.append(df.to_string())\n",
    "\n",
    "document_df = pd.DataFrame({'filename':filename_list, 'opinion_text':opinion_text})\n",
    "\n",
    "tfidf_vect = TfidfVectorizer(tokenizer = LemNormalize, stop_words = 'english', \\\n",
    "                             ngram_range = (1,2), min_df = 0.05, max_df = 0.85)\n",
    "feature_vect = tfidf_vect.fit_transform(document_df['opinion_text'])\n",
    "\n",
    "km_cluster = KMeans(n_clusters = 3, max_iter = 10000, random_state = 0)\n",
    "km_cluster.fit(feature_vect)\n",
    "cluster_label = km_cluster.labels_\n",
    "cluster_centers = km_cluster.cluster_centers_\n",
    "document_df['cluster_label'] = cluster_label"
   ]
  },
  {
   "cell_type": "code",
   "execution_count": 14,
   "id": "a7290c0c-373d-4738-a89b-5d1c6782dfae",
   "metadata": {},
   "outputs": [
    {
     "data": {
      "text/html": [
       "<div>\n",
       "<style scoped>\n",
       "    .dataframe tbody tr th:only-of-type {\n",
       "        vertical-align: middle;\n",
       "    }\n",
       "\n",
       "    .dataframe tbody tr th {\n",
       "        vertical-align: top;\n",
       "    }\n",
       "\n",
       "    .dataframe thead th {\n",
       "        text-align: right;\n",
       "    }\n",
       "</style>\n",
       "<table border=\"1\" class=\"dataframe\">\n",
       "  <thead>\n",
       "    <tr style=\"text-align: right;\">\n",
       "      <th></th>\n",
       "      <th>filename</th>\n",
       "      <th>opinion_text</th>\n",
       "      <th>cluster_label</th>\n",
       "    </tr>\n",
       "  </thead>\n",
       "  <tbody>\n",
       "    <tr>\n",
       "      <th>0</th>\n",
       "      <td>data/opinosis dataset/topics/battery-life_ipod...</td>\n",
       "      <td>...</td>\n",
       "      <td>1</td>\n",
       "    </tr>\n",
       "    <tr>\n",
       "      <th>1</th>\n",
       "      <td>data/opinosis dataset/topics/gas_mileage_toyot...</td>\n",
       "      <td>...</td>\n",
       "      <td>2</td>\n",
       "    </tr>\n",
       "    <tr>\n",
       "      <th>2</th>\n",
       "      <td>data/opinosis dataset/topics/room_holiday_inn_...</td>\n",
       "      <td>...</td>\n",
       "      <td>0</td>\n",
       "    </tr>\n",
       "    <tr>\n",
       "      <th>3</th>\n",
       "      <td>data/opinosis dataset/topics/location_holiday_...</td>\n",
       "      <td>...</td>\n",
       "      <td>0</td>\n",
       "    </tr>\n",
       "    <tr>\n",
       "      <th>4</th>\n",
       "      <td>data/opinosis dataset/topics/staff_bestwestern...</td>\n",
       "      <td>...</td>\n",
       "      <td>0</td>\n",
       "    </tr>\n",
       "    <tr>\n",
       "      <th>5</th>\n",
       "      <td>data/opinosis dataset/topics/voice_garmin_nuvi...</td>\n",
       "      <td>...</td>\n",
       "      <td>1</td>\n",
       "    </tr>\n",
       "    <tr>\n",
       "      <th>6</th>\n",
       "      <td>data/opinosis dataset/topics/speed_garmin_nuvi...</td>\n",
       "      <td>...</td>\n",
       "      <td>1</td>\n",
       "    </tr>\n",
       "    <tr>\n",
       "      <th>7</th>\n",
       "      <td>data/opinosis dataset/topics/size_asus_netbook...</td>\n",
       "      <td>...</td>\n",
       "      <td>1</td>\n",
       "    </tr>\n",
       "    <tr>\n",
       "      <th>8</th>\n",
       "      <td>data/opinosis dataset/topics/screen_garmin_nuv...</td>\n",
       "      <td>...</td>\n",
       "      <td>1</td>\n",
       "    </tr>\n",
       "    <tr>\n",
       "      <th>9</th>\n",
       "      <td>data/opinosis dataset/topics/battery-life_amaz...</td>\n",
       "      <td>...</td>\n",
       "      <td>1</td>\n",
       "    </tr>\n",
       "    <tr>\n",
       "      <th>10</th>\n",
       "      <td>data/opinosis dataset/topics/satellite_garmin_...</td>\n",
       "      <td>...</td>\n",
       "      <td>1</td>\n",
       "    </tr>\n",
       "    <tr>\n",
       "      <th>11</th>\n",
       "      <td>data/opinosis dataset/topics/battery-life_netb...</td>\n",
       "      <td>...</td>\n",
       "      <td>1</td>\n",
       "    </tr>\n",
       "    <tr>\n",
       "      <th>12</th>\n",
       "      <td>data/opinosis dataset/topics/keyboard_netbook_...</td>\n",
       "      <td>...</td>\n",
       "      <td>1</td>\n",
       "    </tr>\n",
       "    <tr>\n",
       "      <th>13</th>\n",
       "      <td>data/opinosis dataset/topics/service_swissotel...</td>\n",
       "      <td>...</td>\n",
       "      <td>0</td>\n",
       "    </tr>\n",
       "    <tr>\n",
       "      <th>14</th>\n",
       "      <td>data/opinosis dataset/topics/video_ipod_nano_8gb</td>\n",
       "      <td>...</td>\n",
       "      <td>1</td>\n",
       "    </tr>\n",
       "    <tr>\n",
       "      <th>15</th>\n",
       "      <td>data/opinosis dataset/topics/performance_netbo...</td>\n",
       "      <td>...</td>\n",
       "      <td>1</td>\n",
       "    </tr>\n",
       "    <tr>\n",
       "      <th>16</th>\n",
       "      <td>data/opinosis dataset/topics/service_bestweste...</td>\n",
       "      <td>...</td>\n",
       "      <td>0</td>\n",
       "    </tr>\n",
       "    <tr>\n",
       "      <th>17</th>\n",
       "      <td>data/opinosis dataset/topics/food_holiday_inn_...</td>\n",
       "      <td>...</td>\n",
       "      <td>0</td>\n",
       "    </tr>\n",
       "    <tr>\n",
       "      <th>18</th>\n",
       "      <td>data/opinosis dataset/topics/comfort_honda_acc...</td>\n",
       "      <td>...</td>\n",
       "      <td>2</td>\n",
       "    </tr>\n",
       "    <tr>\n",
       "      <th>19</th>\n",
       "      <td>data/opinosis dataset/topics/updates_garmin_nu...</td>\n",
       "      <td>...</td>\n",
       "      <td>1</td>\n",
       "    </tr>\n",
       "    <tr>\n",
       "      <th>20</th>\n",
       "      <td>data/opinosis dataset/topics/staff_swissotel_c...</td>\n",
       "      <td>...</td>\n",
       "      <td>0</td>\n",
       "    </tr>\n",
       "    <tr>\n",
       "      <th>21</th>\n",
       "      <td>data/opinosis dataset/topics/features_windows7</td>\n",
       "      <td>...</td>\n",
       "      <td>1</td>\n",
       "    </tr>\n",
       "    <tr>\n",
       "      <th>22</th>\n",
       "      <td>data/opinosis dataset/topics/interior_toyota_c...</td>\n",
       "      <td>...</td>\n",
       "      <td>2</td>\n",
       "    </tr>\n",
       "    <tr>\n",
       "      <th>23</th>\n",
       "      <td>data/opinosis dataset/topics/transmission_toyo...</td>\n",
       "      <td>...</td>\n",
       "      <td>2</td>\n",
       "    </tr>\n",
       "    <tr>\n",
       "      <th>24</th>\n",
       "      <td>data/opinosis dataset/topics/sound_ipod_nano_8gb</td>\n",
       "      <td>headphone jack i got a clear case for it a...</td>\n",
       "      <td>1</td>\n",
       "    </tr>\n",
       "    <tr>\n",
       "      <th>25</th>\n",
       "      <td>data/opinosis dataset/topics/screen_ipod_nano_8gb</td>\n",
       "      <td>...</td>\n",
       "      <td>1</td>\n",
       "    </tr>\n",
       "    <tr>\n",
       "      <th>26</th>\n",
       "      <td>data/opinosis dataset/topics/buttons_amazon_ki...</td>\n",
       "      <td>...</td>\n",
       "      <td>1</td>\n",
       "    </tr>\n",
       "    <tr>\n",
       "      <th>27</th>\n",
       "      <td>data/opinosis dataset/topics/service_holiday_i...</td>\n",
       "      <td>...</td>\n",
       "      <td>0</td>\n",
       "    </tr>\n",
       "    <tr>\n",
       "      <th>28</th>\n",
       "      <td>data/opinosis dataset/topics/price_holiday_inn...</td>\n",
       "      <td>...</td>\n",
       "      <td>0</td>\n",
       "    </tr>\n",
       "    <tr>\n",
       "      <th>29</th>\n",
       "      <td>data/opinosis dataset/topics/seats_honda_accor...</td>\n",
       "      <td>...</td>\n",
       "      <td>2</td>\n",
       "    </tr>\n",
       "    <tr>\n",
       "      <th>30</th>\n",
       "      <td>data/opinosis dataset/topics/rooms_swissotel_c...</td>\n",
       "      <td>...</td>\n",
       "      <td>0</td>\n",
       "    </tr>\n",
       "    <tr>\n",
       "      <th>31</th>\n",
       "      <td>data/opinosis dataset/topics/bathroom_bestwest...</td>\n",
       "      <td>...</td>\n",
       "      <td>0</td>\n",
       "    </tr>\n",
       "    <tr>\n",
       "      <th>32</th>\n",
       "      <td>data/opinosis dataset/topics/food_swissotel_ch...</td>\n",
       "      <td>...</td>\n",
       "      <td>0</td>\n",
       "    </tr>\n",
       "    <tr>\n",
       "      <th>33</th>\n",
       "      <td>data/opinosis dataset/topics/accuracy_garmin_n...</td>\n",
       "      <td>...</td>\n",
       "      <td>1</td>\n",
       "    </tr>\n",
       "    <tr>\n",
       "      <th>34</th>\n",
       "      <td>data/opinosis dataset/topics/directions_garmin...</td>\n",
       "      <td>...</td>\n",
       "      <td>1</td>\n",
       "    </tr>\n",
       "    <tr>\n",
       "      <th>35</th>\n",
       "      <td>data/opinosis dataset/topics/mileage_honda_acc...</td>\n",
       "      <td>...</td>\n",
       "      <td>2</td>\n",
       "    </tr>\n",
       "    <tr>\n",
       "      <th>36</th>\n",
       "      <td>data/opinosis dataset/topics/eyesight-issues_a...</td>\n",
       "      <td>...</td>\n",
       "      <td>1</td>\n",
       "    </tr>\n",
       "    <tr>\n",
       "      <th>37</th>\n",
       "      <td>data/opinosis dataset/topics/screen_netbook_10...</td>\n",
       "      <td>...</td>\n",
       "      <td>1</td>\n",
       "    </tr>\n",
       "    <tr>\n",
       "      <th>38</th>\n",
       "      <td>data/opinosis dataset/topics/navigation_amazon...</td>\n",
       "      <td>...</td>\n",
       "      <td>1</td>\n",
       "    </tr>\n",
       "    <tr>\n",
       "      <th>39</th>\n",
       "      <td>data/opinosis dataset/topics/location_bestwest...</td>\n",
       "      <td>...</td>\n",
       "      <td>0</td>\n",
       "    </tr>\n",
       "    <tr>\n",
       "      <th>40</th>\n",
       "      <td>data/opinosis dataset/topics/speed_windows7</td>\n",
       "      <td>...</td>\n",
       "      <td>1</td>\n",
       "    </tr>\n",
       "    <tr>\n",
       "      <th>41</th>\n",
       "      <td>data/opinosis dataset/topics/price_amazon_kindle</td>\n",
       "      <td>...</td>\n",
       "      <td>1</td>\n",
       "    </tr>\n",
       "    <tr>\n",
       "      <th>42</th>\n",
       "      <td>data/opinosis dataset/topics/quality_toyota_ca...</td>\n",
       "      <td>...</td>\n",
       "      <td>2</td>\n",
       "    </tr>\n",
       "    <tr>\n",
       "      <th>43</th>\n",
       "      <td>data/opinosis dataset/topics/comfort_toyota_ca...</td>\n",
       "      <td>...</td>\n",
       "      <td>2</td>\n",
       "    </tr>\n",
       "    <tr>\n",
       "      <th>44</th>\n",
       "      <td>data/opinosis dataset/topics/fonts_amazon_kindle</td>\n",
       "      <td>...</td>\n",
       "      <td>1</td>\n",
       "    </tr>\n",
       "    <tr>\n",
       "      <th>45</th>\n",
       "      <td>data/opinosis dataset/topics/interior_honda_ac...</td>\n",
       "      <td>...</td>\n",
       "      <td>2</td>\n",
       "    </tr>\n",
       "    <tr>\n",
       "      <th>46</th>\n",
       "      <td>data/opinosis dataset/topics/rooms_bestwestern...</td>\n",
       "      <td>...</td>\n",
       "      <td>0</td>\n",
       "    </tr>\n",
       "    <tr>\n",
       "      <th>47</th>\n",
       "      <td>data/opinosis dataset/topics/performance_honda...</td>\n",
       "      <td>...</td>\n",
       "      <td>2</td>\n",
       "    </tr>\n",
       "    <tr>\n",
       "      <th>48</th>\n",
       "      <td>data/opinosis dataset/topics/display_garmin_nu...</td>\n",
       "      <td>...</td>\n",
       "      <td>1</td>\n",
       "    </tr>\n",
       "    <tr>\n",
       "      <th>49</th>\n",
       "      <td>data/opinosis dataset/topics/free_bestwestern_...</td>\n",
       "      <td>...</td>\n",
       "      <td>0</td>\n",
       "    </tr>\n",
       "    <tr>\n",
       "      <th>50</th>\n",
       "      <td>data/opinosis dataset/topics/parking_bestweste...</td>\n",
       "      <td>...</td>\n",
       "      <td>0</td>\n",
       "    </tr>\n",
       "  </tbody>\n",
       "</table>\n",
       "</div>"
      ],
      "text/plain": [
       "                                             filename  \\\n",
       "0   data/opinosis dataset/topics/battery-life_ipod...   \n",
       "1   data/opinosis dataset/topics/gas_mileage_toyot...   \n",
       "2   data/opinosis dataset/topics/room_holiday_inn_...   \n",
       "3   data/opinosis dataset/topics/location_holiday_...   \n",
       "4   data/opinosis dataset/topics/staff_bestwestern...   \n",
       "5   data/opinosis dataset/topics/voice_garmin_nuvi...   \n",
       "6   data/opinosis dataset/topics/speed_garmin_nuvi...   \n",
       "7   data/opinosis dataset/topics/size_asus_netbook...   \n",
       "8   data/opinosis dataset/topics/screen_garmin_nuv...   \n",
       "9   data/opinosis dataset/topics/battery-life_amaz...   \n",
       "10  data/opinosis dataset/topics/satellite_garmin_...   \n",
       "11  data/opinosis dataset/topics/battery-life_netb...   \n",
       "12  data/opinosis dataset/topics/keyboard_netbook_...   \n",
       "13  data/opinosis dataset/topics/service_swissotel...   \n",
       "14   data/opinosis dataset/topics/video_ipod_nano_8gb   \n",
       "15  data/opinosis dataset/topics/performance_netbo...   \n",
       "16  data/opinosis dataset/topics/service_bestweste...   \n",
       "17  data/opinosis dataset/topics/food_holiday_inn_...   \n",
       "18  data/opinosis dataset/topics/comfort_honda_acc...   \n",
       "19  data/opinosis dataset/topics/updates_garmin_nu...   \n",
       "20  data/opinosis dataset/topics/staff_swissotel_c...   \n",
       "21     data/opinosis dataset/topics/features_windows7   \n",
       "22  data/opinosis dataset/topics/interior_toyota_c...   \n",
       "23  data/opinosis dataset/topics/transmission_toyo...   \n",
       "24   data/opinosis dataset/topics/sound_ipod_nano_8gb   \n",
       "25  data/opinosis dataset/topics/screen_ipod_nano_8gb   \n",
       "26  data/opinosis dataset/topics/buttons_amazon_ki...   \n",
       "27  data/opinosis dataset/topics/service_holiday_i...   \n",
       "28  data/opinosis dataset/topics/price_holiday_inn...   \n",
       "29  data/opinosis dataset/topics/seats_honda_accor...   \n",
       "30  data/opinosis dataset/topics/rooms_swissotel_c...   \n",
       "31  data/opinosis dataset/topics/bathroom_bestwest...   \n",
       "32  data/opinosis dataset/topics/food_swissotel_ch...   \n",
       "33  data/opinosis dataset/topics/accuracy_garmin_n...   \n",
       "34  data/opinosis dataset/topics/directions_garmin...   \n",
       "35  data/opinosis dataset/topics/mileage_honda_acc...   \n",
       "36  data/opinosis dataset/topics/eyesight-issues_a...   \n",
       "37  data/opinosis dataset/topics/screen_netbook_10...   \n",
       "38  data/opinosis dataset/topics/navigation_amazon...   \n",
       "39  data/opinosis dataset/topics/location_bestwest...   \n",
       "40        data/opinosis dataset/topics/speed_windows7   \n",
       "41   data/opinosis dataset/topics/price_amazon_kindle   \n",
       "42  data/opinosis dataset/topics/quality_toyota_ca...   \n",
       "43  data/opinosis dataset/topics/comfort_toyota_ca...   \n",
       "44   data/opinosis dataset/topics/fonts_amazon_kindle   \n",
       "45  data/opinosis dataset/topics/interior_honda_ac...   \n",
       "46  data/opinosis dataset/topics/rooms_bestwestern...   \n",
       "47  data/opinosis dataset/topics/performance_honda...   \n",
       "48  data/opinosis dataset/topics/display_garmin_nu...   \n",
       "49  data/opinosis dataset/topics/free_bestwestern_...   \n",
       "50  data/opinosis dataset/topics/parking_bestweste...   \n",
       "\n",
       "                                         opinion_text  cluster_label  \n",
       "0                                                 ...              1  \n",
       "1                                                 ...              2  \n",
       "2                                                 ...              0  \n",
       "3                                                 ...              0  \n",
       "4                                                 ...              0  \n",
       "5                                                 ...              1  \n",
       "6                                                 ...              1  \n",
       "7                                                 ...              1  \n",
       "8                                                 ...              1  \n",
       "9                                                 ...              1  \n",
       "10                                                ...              1  \n",
       "11                                                ...              1  \n",
       "12                                                ...              1  \n",
       "13                                                ...              0  \n",
       "14                                                ...              1  \n",
       "15                                                ...              1  \n",
       "16                                                ...              0  \n",
       "17                                                ...              0  \n",
       "18                                                ...              2  \n",
       "19                                                ...              1  \n",
       "20                                                ...              0  \n",
       "21                                                ...              1  \n",
       "22                                                ...              2  \n",
       "23                                                ...              2  \n",
       "24      headphone jack i got a clear case for it a...              1  \n",
       "25                                                ...              1  \n",
       "26                                                ...              1  \n",
       "27                                                ...              0  \n",
       "28                                                ...              0  \n",
       "29                                                ...              2  \n",
       "30                                                ...              0  \n",
       "31                                                ...              0  \n",
       "32                                                ...              0  \n",
       "33                                                ...              1  \n",
       "34                                                ...              1  \n",
       "35                                                ...              2  \n",
       "36                                                ...              1  \n",
       "37                                                ...              1  \n",
       "38                                                ...              1  \n",
       "39                                                ...              0  \n",
       "40                                                ...              1  \n",
       "41                                                ...              1  \n",
       "42                                                ...              2  \n",
       "43                                                ...              2  \n",
       "44                                                ...              1  \n",
       "45                                                ...              2  \n",
       "46                                                ...              0  \n",
       "47                                                ...              2  \n",
       "48                                                ...              1  \n",
       "49                                                ...              0  \n",
       "50                                                ...              0  "
      ]
     },
     "execution_count": 14,
     "metadata": {},
     "output_type": "execute_result"
    }
   ],
   "source": [
    "document_df.head(51)"
   ]
  },
  {
   "cell_type": "code",
   "execution_count": 15,
   "id": "3badc55d-84d1-4994-979f-ad7979f5e231",
   "metadata": {},
   "outputs": [
    {
     "data": {
      "text/plain": [
       "Index([1, 18, 22, 23, 29, 35, 42, 43, 45, 47], dtype='int64')"
      ]
     },
     "execution_count": 15,
     "metadata": {},
     "output_type": "execute_result"
    }
   ],
   "source": [
    "hotel_indexes = document_df[document_df['cluster_label'] == 2].index\n",
    "hotel_indexes"
   ]
  },
  {
   "cell_type": "code",
   "execution_count": 16,
   "id": "2d3e43e9-b03c-4337-b162-d9d17b467b5c",
   "metadata": {},
   "outputs": [
    {
     "name": "stdout",
     "output_type": "stream",
     "text": [
      "호텔로 클러스터링 된 문서들의 DataFrame Index : Index([1, 18, 22, 23, 29, 35, 42, 43, 45, 47], dtype='int64')\n",
      "비교 기준 문서명 data/opinosis dataset/topics/gas_mileage_toyota_camry_2007  와 타문서 유사도\n",
      "[[1.         0.15655631 0.0879083  0.08217817 0.06276647 0.96608144\n",
      "  0.14398794 0.27273923 0.05452321 0.20206332]]\n"
     ]
    }
   ],
   "source": [
    "from sklearn.metrics.pairwise import cosine_similarity\n",
    "\n",
    "# cluster_label=2인 데이터는 호텔로 클러스터링된 데이터임. DataFrame에서 해당 Index를 추출\n",
    "hotel_indexes = document_df[document_df['cluster_label'] == 2].index\n",
    "print('호텔로 클러스터링 된 문서들의 DataFrame Index :', hotel_indexes)\n",
    "\n",
    "# 호텔로 클러스터링된 데이터 중 첫번째 문서를 추출하여 파일명 표시.  \n",
    "comparison_docname = document_df.iloc[hotel_indexes[0]]['filename']\n",
    "print('비교 기준 문서명',comparison_docname,' 와 타 문서 유사도')\n",
    "\n",
    "''' document_df에서 추출한 Index 객체를 feature_vect로 입력하여 호텔 클러스터링된 feature_vect 추출 \n",
    "이를 이용하여 호텔로 클러스터링된 문서 중 첫번째 문서와 다른 문서간의 코사인 유사도 측정.'''\n",
    "similarity_pair = cosine_similarity(feature_vect[hotel_indexes[0]], feature_vect[hotel_indexes])\n",
    "print(similarity_pair)"
   ]
  },
  {
   "cell_type": "code",
   "execution_count": 17,
   "id": "0d887e97-095a-45d8-b382-3af53209ebd3",
   "metadata": {},
   "outputs": [
    {
     "name": "stdout",
     "output_type": "stream",
     "text": [
      "가장 유사도가 큰 파일명 및 유사도:\n",
      " filename      data/opinosis dataset/topics/mileage_honda_acc...\n",
      "similarity                                             0.966081\n",
      "Name: 35, dtype: object\n"
     ]
    },
    {
     "data": {
      "text/plain": [
       "Text(0.5, 1.0, 'data/opinosis dataset/topics/gas_mileage_toyota_camry_2007')"
      ]
     },
     "execution_count": 17,
     "metadata": {},
     "output_type": "execute_result"
    },
    {
     "data": {
      "image/png": "[encoded data removed]",
      "text/plain": [
       "<Figure size 640x480 with 1 Axes>"
      ]
     },
     "metadata": {},
     "output_type": "display_data"
    }
   ],
   "source": [
    "import seaborn as sns\n",
    "import numpy as np\n",
    "import matplotlib.pyplot as plt\n",
    "%matplotlib inline\n",
    "\n",
    "# argsort()를 이용하여 앞 예제의 첫번째 문서와 타 문서간 유사도가 큰 순으로 정렬한 인덱스 추출하되 자기 자신은 제외한다.\n",
    "sorted_index = similarity_pair.argsort()[:,::-1]\n",
    "sorted_index = sorted_index[:, 1:]\n",
    "\n",
    "# 유사도가 큰 순으로 hotel_indexes를 추출하여 재정렬\n",
    "hotel_sorted_indexes = hotel_indexes[sorted_index.reshape(-1)]\n",
    "\n",
    "# 유사도가 큰 순으로 유사도 값을 재정렬하되 자기 자신은 제외한다.\n",
    "hotel_1_sim_value = np.sort(similarity_pair.reshape(-1))[::-1]\n",
    "hotel_1_sim_value = hotel_1_sim_value[1:]\n",
    "\n",
    "# 유사도가 큰 순으로 정렬된 인덱스와 유사도 값을 이용해 파일명과 유사도값을 막대 그래프로 시각화\n",
    "hotel_1_sim_df = pd.DataFrame()\n",
    "hotel_1_sim_df['filename'] = document_df.iloc[hotel_sorted_indexes]['filename']\n",
    "hotel_1_sim_df['similarity'] = hotel_1_sim_value\n",
    "print('가장 유사도가 큰 파일명 및 유사도:\\n', hotel_1_sim_df.iloc[0, :])\n",
    "\n",
    "sns.barplot(x = 'similarity', y = 'filename', data = hotel_1_sim_df)\n",
    "plt.title(comparison_docname)"
   ]
  }
 ],
 "metadata": {
  "kernelspec": {
   "display_name": "Python 3 (ipykernel)",
   "language": "python",
   "name": "python3"
  },
  "language_info": {
   "codemirror_mode": {
    "name": "ipython",
    "version": 3
   },
   "file_extension": ".py",
   "mimetype": "text/x-python",
   "name": "python",
   "nbconvert_exporter": "python",
   "pygments_lexer": "ipython3",
   "version": "3.8.13"
  }
 },
 "nbformat": 4,
 "nbformat_minor": 5
}
