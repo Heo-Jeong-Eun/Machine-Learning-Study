{
 "cells": [
  {
   "cell_type": "markdown",
   "id": "10f5773f",
   "metadata": {},
   "source": [
    "# chapter 3. Evaluation"
   ]
  },
  {
   "cell_type": "markdown",
   "id": "66a2a019",
   "metadata": {},
   "source": [
    "## F1 Score / ROC Curve and AUC\n",
    "\n",
    "### F1 스코어 \n",
    "\n",
    "**F1 스코어**는 **정밀도와 재현율을 결합한 지표**이다. <br>\n",
    "F1 스코어는 **정밀도와 재현율이 어느 한 쪽으로 치우치지 않는 수치를 나타낼 때 상대적으로 높은 값을 가진다.** <br>\n",
    "\n",
    "<img src = 'image/F1 Score.jpg' alt = 'F1 Score' width='700' height='700'>\n",
    "\n",
    "사이킷런은 **F1 스코어를 구하기 위해 f1_score() API를 제공**한다. "
   ]
  },
  {
   "cell_type": "code",
   "execution_count": 32,
   "id": "0da0a1c1",
   "metadata": {},
   "outputs": [
    {
     "name": "stdout",
     "output_type": "stream",
     "text": [
      "오차 행렬\n",
      "[[108  10]\n",
      " [ 14  47]]\n",
      "정확도 : 0.8659, 정밀도 : 0.8246, 재현율 : 0.7705\n",
      "오차 행렬\n",
      "[[108  10]\n",
      " [ 14  47]]\n",
      "정확도 : 0.8659, 정밀도 : 0.8246, 재현율 : 0.7705\n",
      "임계값 :  0.4\n",
      "오차 행렬\n",
      "[[97 21]\n",
      " [11 50]]\n",
      "정확도 : 0.8212, 정밀도 : 0.7042, 재현율 : 0.8197\n",
      "임계값 :  0.45\n",
      "오차 행렬\n",
      "[[105  13]\n",
      " [ 13  48]]\n",
      "정확도 : 0.8547, 정밀도 : 0.7869, 재현율 : 0.7869\n",
      "임계값 :  0.5\n",
      "오차 행렬\n",
      "[[108  10]\n",
      " [ 14  47]]\n",
      "정확도 : 0.8659, 정밀도 : 0.8246, 재현율 : 0.7705\n",
      "임계값 :  0.55\n",
      "오차 행렬\n",
      "[[111   7]\n",
      " [ 16  45]]\n",
      "정확도 : 0.8715, 정밀도 : 0.8654, 재현율 : 0.7377\n",
      "임계값 :  0.6\n",
      "오차 행렬\n",
      "[[113   5]\n",
      " [ 17  44]]\n",
      "정확도 : 0.8771, 정밀도 : 0.8980, 재현율 : 0.7213\n"
     ]
    }
   ],
   "source": [
    "# 이전 Precision and Recall Data\n",
    "\n",
    "import pandas as pd\n",
    "from sklearn.model_selection import train_test_split\n",
    "from sklearn.linear_model import LogisticRegression\n",
    "from sklearn.preprocessing import LabelEncoder\n",
    "from sklearn.metrics import accuracy_score, precision_score, recall_score, confusion_matrix\n",
    "from sklearn.preprocessing import Binarizer\n",
    "\n",
    "def get_clf_eval(Y_test, pred):\n",
    "    confusion = confusion_matrix(Y_test, pred)\n",
    "    accuracy = accuracy_score(Y_test, pred)\n",
    "    precision = precision_score(Y_test, pred)\n",
    "    recall = recall_score(Y_test, pred)\n",
    "    print('오차 행렬')\n",
    "    print(confusion)\n",
    "    print('정확도 : {0:.4f}, 정밀도 : {1:.4f}, 재현율 : {2:.4f}'.format(accuracy, precision, recall))\n",
    "\n",
    "def encode_features(dataDF):\n",
    "    features = ['Cabin', 'Sex', 'Embarked']\n",
    "    for feature in features:\n",
    "        le = LabelEncoder()\n",
    "        le = le.fit(dataDF[feature])\n",
    "        dataDF[feature] = le.transform(dataDF[feature])\n",
    "        \n",
    "    return dataDF\n",
    "\n",
    "titanic_df = encode_features(titanic_df)\n",
    "titanic_df.head()\n",
    "\n",
    "# Null 처리 함수 \n",
    "def fillna(df):\n",
    "    df['Age'].fillna(df['Age'].mean(), inplace = True)\n",
    "    df['Cabin'].fillna('N', inplace = True)\n",
    "    df['Embarked'].fillna('N', inplace = True)\n",
    "    df['Fare'].fillna(0, inplace = True)\n",
    "    \n",
    "    return df\n",
    "\n",
    "# 머신러닝 알고리즘에 불필요한 피처 제거\n",
    "def drop_features(df):\n",
    "    df.drop(['PassengerId', 'Name', 'Ticket'], axis = 1, inplace = True)\n",
    "    \n",
    "    return df\n",
    "\n",
    "# 레이블 인코딩 수행\n",
    "def format_features(df):\n",
    "    df['Cabin'] = df['Cabin'].str[:1]\n",
    "    features = ['Cabin', 'Sex', 'Embarked']\n",
    "    for feature in features:\n",
    "        le = LabelEncoder()\n",
    "        le = le.fit(df[feature])\n",
    "        df[feature] = le.transform(df[feature])\n",
    "    \n",
    "    return df\n",
    "\n",
    "# 앞에서 설정한 데이터 전처리 함수 호출\n",
    "def transform_features(df):\n",
    "    df = fillna(df)\n",
    "    df = drop_features(df)\n",
    "    df = format_features(df)\n",
    "    \n",
    "    return df\n",
    "\n",
    "# 원본 데이터를 재로딩, 데이터 가공, 학습 데이터 / 테스트 데이터 분할\n",
    "titanic_df = pd.read_csv(r'/Users/1001l1000/Documents/AI-Tech/Jen/data/titanic_train.csv')\n",
    "Y_titanic_df = titanic_df['Survived']\n",
    "X_titanic_df = titanic_df.drop('Survived', axis = 1)\n",
    "X_titanic_df = transform_features(X_titanic_df)\n",
    "\n",
    "X_train, X_test, Y_train, Y_test = train_test_split(X_titanic_df, Y_titanic_df,\n",
    "                                                    test_size = 0.20, random_state = 11)\n",
    "\n",
    "lr_clf = LogisticRegression(solver = 'liblinear')\n",
    "lr_clf.fit(X_train, Y_train)\n",
    "pred = lr_clf.predict(X_test)\n",
    "get_clf_eval(Y_test, pred)\n",
    "\n",
    "# Binarizer의 threshold 설정값, 분류 결정 임계값\n",
    "custom_threshold = 0.5\n",
    "\n",
    "# predict_proba() 반환값의 두 번쨰 column, 즉 Positive 클래스 column 하나만 추출해 Binarizer를 적용\n",
    "pred_proba_1 = pred_proba[:, 1].reshape(-1, 1)\n",
    "\n",
    "binarizer = Binarizer(threshold = custom_threshold).fit(pred_proba_1)\n",
    "custom_predict = binarizer.transform(pred_proba_1)\n",
    "\n",
    "get_clf_eval(Y_test, custom_predict)\n",
    "\n",
    "# 테스트를 수행할 모든 임계값을 리스트 객체로 저장\n",
    "thresholds = [0.4, 0.45, 0.50, 0.55, 0.60]\n",
    "\n",
    "def get_eval_by_threshold(Y_test, pred_proba_c1, thresholds):\n",
    "    # thresholds list 객체 내의 값을 차례로 iteration하면서 Evaluation 수행\n",
    "    for custom_threshold in thresholds:\n",
    "        binarizer = Binarizer(threshold = custom_threshold).fit(pred_proba_c1)\n",
    "        custom_predict = binarizer.transform(pred_proba_c1)\n",
    "        print('임계값 : ', custom_threshold)\n",
    "        get_clf_eval(Y_test, custom_predict)\n",
    "        \n",
    "get_eval_by_threshold(Y_test, pred_proba[:, 1].reshape(-1, 1), thresholds)"
   ]
  },
  {
   "cell_type": "code",
   "execution_count": 33,
   "id": "3d102c38",
   "metadata": {},
   "outputs": [
    {
     "name": "stdout",
     "output_type": "stream",
     "text": [
      "F1 스코어 : 0.7966\n"
     ]
    }
   ],
   "source": [
    "from sklearn.metrics import f1_score\n",
    "f1 = f1_score(Y_test, pred)\n",
    "print('F1 스코어 : {0:.4f}'.format(f1))"
   ]
  },
  {
   "cell_type": "code",
   "execution_count": 34,
   "id": "71d151eb",
   "metadata": {},
   "outputs": [
    {
     "name": "stdout",
     "output_type": "stream",
     "text": [
      "임계값 :  0.4\n",
      "오차 행렬\n",
      "[[97 21]\n",
      " [11 50]]\n",
      "정확도 : 0.8212, 정밀도 : 0.7042, 재현율 : 0.8197, F1 : 0.7576\n",
      "임계값 :  0.45\n",
      "오차 행렬\n",
      "[[105  13]\n",
      " [ 13  48]]\n",
      "정확도 : 0.8547, 정밀도 : 0.7869, 재현율 : 0.7869, F1 : 0.7869\n",
      "임계값 :  0.5\n",
      "오차 행렬\n",
      "[[108  10]\n",
      " [ 14  47]]\n",
      "정확도 : 0.8659, 정밀도 : 0.8246, 재현율 : 0.7705, F1 : 0.7966\n",
      "임계값 :  0.55\n",
      "오차 행렬\n",
      "[[111   7]\n",
      " [ 16  45]]\n",
      "정확도 : 0.8715, 정밀도 : 0.8654, 재현율 : 0.7377, F1 : 0.7965\n",
      "임계값 :  0.6\n",
      "오차 행렬\n",
      "[[113   5]\n",
      " [ 17  44]]\n",
      "정확도 : 0.8771, 정밀도 : 0.8980, 재현율 : 0.7213, F1 : 0.8000\n"
     ]
    }
   ],
   "source": [
    "def get_clf_eval(Y_test, pred):\n",
    "    confusion = confusion_matrix(Y_test, pred)\n",
    "    accuracy = accuracy_score(Y_test, pred)\n",
    "    precision = precision_score(Y_test, pred)\n",
    "    recall = recall_score(Y_test, pred)\n",
    "    \n",
    "    # F1 스코어 추가\n",
    "    f1 = f1_score(Y_test, pred)\n",
    "    print('오차 행렬')\n",
    "    print(confusion)\n",
    "    \n",
    "    # f1 score print 추가\n",
    "    print('정확도 : {0:.4f}, 정밀도 : {1:.4f}, 재현율 : {2:.4f}, F1 : {3:.4f}'.format(accuracy, precision, recall, f1))\n",
    "    \n",
    "thresholds = [0.4, 0.45, 0.50, 0.55, 0.60]\n",
    "pred_proba = lr_clf.predict_proba(X_test)\n",
    "get_eval_by_threshold(Y_test, pred_proba[:, 1].reshape(-1, 1), thresholds)"
   ]
  },
  {
   "cell_type": "markdown",
   "id": "5aa68d62",
   "metadata": {},
   "source": [
    "### ROC 곡선과 AUC\n",
    "\n",
    "**ROC 곡선(Receiver Operation Characteristic Curve)과 이에 기반한 AUC 스코어**는 **이진 분류의 예측 성능 측정에서 중요하게 사용되는 지표**이다. <br>\n",
    "머신러닝의 이진 분류 모델의 예측 성능을 판단하는 중요한 평가 지표이기도 하다. <br>\n",
    "**ROC 곡선**은 **FPR이 변할 떄 TPR이 어떻게 변하는지를 나타내는 곡선**이다. <br>\n",
    "**FPR을 X축**으로, **TPR을 Y축**으로 잡으면 **FPR의 변화에 따라 TPR의 변화가 곡선 형태**로 나타난다. <br>\n",
    "\n",
    "**TPR은 True Positive Rate**의 약자이고, **재현율**을 나타낸다. **TPR은 TP / (FN + TP)** 이다. <br>\n",
    "**재현율은 민감도**로도 불린다. **민감도에 대응하는 지표로 TNR(True Negative Rate)이라고 불리는 특이성(Specificity)** 이 있다. <br>\n",
    "민감도는 실제값 Positive(양성)가 정확히 예측돼야 하는 수준을 나타낸다. <br>\n",
    "특이성은 실제값 Negative(음성)가 정확히 예측돼야 하는 수준을 나타낸다. <br>\n",
    "\n",
    "TNR인 **특이성**은 **TNR = TN / (FP + TN)** <br>\n",
    "ROC 곡선의 X축 기준인 **FPR**은 **FPR = FP / (FP + TN)** 이므로 **1 - TNR 또는 1 - 특이성**으로 표현된다. <br>\n",
    "\n",
    "**FPR = FP / (FP + TN) = 1 - TNR = 1 - 특이성** <br>\n",
    "\n",
    "ROC 곡선이 가운데 **직선에 가까울수록 성능이 떨어지는 것**이며, **멀어질수록 성능이 뛰어난 것**이다. <br>\n",
    "ROC 곡선은 **FPR을 0부터 1까지 변경하며, TPR의 변화값을 구한다.** <br>\n",
    "**FPR을 0부터 1까지 변경하기 위해서는 분류 결정 임계값을 변경하면 된다.** <br>\n",
    "Positive 예측값을 결정하는 확률의 기준이기 때문에 **FPR을 0으로 만들려면 임계값을 1로 지정하면 된다.** <br>\n",
    "Positive 예측 기준이 매우 높기 때문에 분류기(Classifier)가 임계값보다 높은 확률을 가진 데이터를 Positive로 예측할 수 없기 때문이다. <br>\n",
    "\n",
    "반대로 **FPR을 1로 만들기 위해서는 TN을 0으로 만들면 된다.** <br>\n",
    "**TN을 0으로 만들기 위해서는 분류 결정 임계값을 0으로 지정**하면 된다. <br>\n",
    "Positive 확률 기준이 너무 낮아 Positive로 예측한다. 이렇게 되면 아예 Negative 예측이 없기 때문에 TN은 0이 되고 FPR 값은 1이 된다. <br>\n",
    "임계값을 1부터 0까지 변화시키면서 FPR을 구하고, FPR 값의 변화에 따른 TPR 값을 구하는 것이 ROC 곡선이다. <br>\n",
    "\n",
    "사이킷런은 **ROC 곡선을 구하기 위해 roc_curve() API를 제공**한다. \n",
    "\n",
    "|입력 파라미터|반환 값|\n",
    "|:------|:---|\n",
    "|y_true : 실제 클래스 값 array(array shape = [데이터 건수]) <br> y_score : predict_proba()의 반환값 array에서 Positive column의 예측 확률이 보통 사용된다. array shape = [n_sample]|fpr : fpr 값을 array로 반환 <br> tpr : tpr 값을 array로 반환 <br> thresholds : threshold 값 array|"
   ]
  },
  {
   "cell_type": "code",
   "execution_count": 35,
   "id": "784a1eca",
   "metadata": {},
   "outputs": [
    {
     "name": "stdout",
     "output_type": "stream",
     "text": [
      "샘플 추출을 위한 임계값 배열의 index :  [ 1  6 11 16 21 26 31 36 41 46]\n",
      "샘플 index로 추출한 임계값 :  [0.94 0.73 0.62 0.52 0.44 0.28 0.15 0.14 0.13 0.12]\n",
      "샘플 임계값별 FPR :  [0.    0.008 0.025 0.076 0.127 0.254 0.576 0.61  0.746 0.847]\n",
      "샘플 임계값별 TPR :  [0.016 0.492 0.705 0.738 0.803 0.885 0.902 0.951 0.967 1.   ]\n"
     ]
    }
   ],
   "source": [
    "from sklearn.metrics import roc_curve\n",
    "import numpy as np\n",
    "\n",
    "# 레이블 값이 1일때의 예측 확률을 추출\n",
    "pred_proba_class1 = lr_clf.predict_proba(X_test)[:, 1]\n",
    "\n",
    "fprs, tprs, thresholds = roc_curve(Y_test, pred_proba_class1)\n",
    "\n",
    "# 반환된 임계값 배열에서 샘플로 데이터를 추출하되, 임계값을 5 step으로 추출\n",
    "# thresholds[0]은 max(예측 확률) + 1로 임의 설정 된다. 이를 제외하기 위해 np.arange는 1부터 시작\n",
    "thr_index = np.arange(1, thresholds.shape[0], 5)\n",
    "print('샘플 추출을 위한 임계값 배열의 index : ', thr_index)\n",
    "print('샘플 index로 추출한 임계값 : ', np.round(thresholds[thr_index], 2))\n",
    "\n",
    "# 5 step 추출된 임계값에 따른 FPR, TPR 값\n",
    "print('샘플 임계값별 FPR : ', np.round(fprs[thr_index], 3))\n",
    "print('샘플 임계값별 TPR : ', np.round(tprs[thr_index], 3))"
   ]
  },
  {
   "cell_type": "code",
   "execution_count": 39,
   "id": "bf426902",
   "metadata": {},
   "outputs": [
    {
     "data": {
      "image/png": "[encoded data removed]",
      "text/plain": [
       "<Figure size 640x480 with 1 Axes>"
      ]
     },
     "metadata": {},
     "output_type": "display_data"
    }
   ],
   "source": [
    "import matplotlib.pyplot as plt\n",
    "import matplotlib.ticker as ticker\n",
    "%matplotlib inline\n",
    "\n",
    "def roc_curve_plot(Y_test, pred_proba_c1):\n",
    "    # 임계값에 따른 FPR, TPR 값을 반환 받는다. \n",
    "    fprs, tprs, thresholds = roc_curve(Y_test, pred_proba_c1)\n",
    "    \n",
    "    # ROC 곡선을 그래프 곡선으로 그린다.\n",
    "    plt.plot(fprs, tprs, label = 'ROC')\n",
    "    \n",
    "    # 가운데 대각선 직선을 그린다.\n",
    "    plt.plot([0, 1], [0, 1], 'k--', label = 'Random')\n",
    "    \n",
    "    # FPR X축의 scale을 0.1 단위로 변경, X, Y 축 이름 설정 등\n",
    "    start, end = plt.xlim()\n",
    "    plt.xticks(np.round(np.arange(start, end, 0.1), 2))\n",
    "    plt.xlim(0, 1); plt.ylim(0, 1)\n",
    "    plt.xlabel('FPR(1 - Specificity)'); plt.ylabel('TPR(Recall)')\n",
    "    plt.legend()\n",
    "    \n",
    "roc_curve_plot(Y_test, pred_proba[:, 1])"
   ]
  },
  {
   "cell_type": "markdown",
   "id": "5e6f4a90",
   "metadata": {},
   "source": [
    "일반적으로 ROC 곡선 자체는 FPR과 TPR의 변화값을 보는데 이용하며 분류의 성능 지표로 사용되는 것은 ROC 곡선 면적에 기반한 AUC 값으로 결정한다. <br>\n",
    "AUC(Area Under Curve) 값은 ROC 곡선 밑의 면적을 구한 것으로 일반적으로 1에 가까울수록 좋은 수치이다. "
   ]
  },
  {
   "cell_type": "code",
   "execution_count": 41,
   "id": "0701f8cb",
   "metadata": {},
   "outputs": [
    {
     "name": "stdout",
     "output_type": "stream",
     "text": [
      "ROC AUC 값 : 0.8987\n"
     ]
    }
   ],
   "source": [
    "from sklearn.metrics import roc_auc_score\n",
    "\n",
    "pred_proba = lr_clf.predict_proba(X_test)[:, 1]\n",
    "roc_score = roc_auc_score(Y_test, pred_proba)\n",
    "print('ROC AUC 값 : {0:.4f}'.format(roc_score))"
   ]
  },
  {
   "cell_type": "code",
   "execution_count": 42,
   "id": "92c96173",
   "metadata": {},
   "outputs": [],
   "source": [
    "def get_clf_eval(Y_test, pred = None, pred_proba = None):\n",
    "    confusion = confusion_matrix(Y_test, pred)\n",
    "    accuracy = accuracy_score(Y_test, pred)\n",
    "    precision = precision_score(Y_test, pred)\n",
    "    recall = recall_score(Y_test, pred)\n",
    "    f1 = f1_score(Y_test, pred)\n",
    "    \n",
    "    # ROC-AUC 추가\n",
    "    roc_auc = roc_auc_score(Y_test, pred_proba)\n",
    "    print('오차 행렬')\n",
    "    print(confusion)\n",
    "    \n",
    "    # ROC-AUC print 추가\n",
    "    print('정확도 : {0:.4f}, 정밀도 : {1:.4f}, 재현율 : {2:.4f}'.format(accuracy, precision, recall, f1, roc_auc))"
   ]
  }
 ],
 "metadata": {
  "kernelspec": {
   "display_name": "Python 3 (ipykernel)",
   "language": "python",
   "name": "python3"
  },
  "language_info": {
   "codemirror_mode": {
    "name": "ipython",
    "version": 3
   },
   "file_extension": ".py",
   "mimetype": "text/x-python",
   "name": "python",
   "nbconvert_exporter": "python",
   "pygments_lexer": "ipython3",
   "version": "3.9.6"
  }
 },
 "nbformat": 4,
 "nbformat_minor": 5
}
