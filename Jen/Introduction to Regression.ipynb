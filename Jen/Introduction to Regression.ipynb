{
 "cells": [
  {
   "cell_type": "markdown",
   "id": "758e6833",
   "metadata": {},
   "source": [
    "# chapter 5. Regression"
   ]
  },
  {
   "cell_type": "markdown",
   "id": "ce716107",
   "metadata": {},
   "source": [
    "## Introduction to Regression\n",
    "\n",
    "**회귀 분석**은 **데이터 값이 평균과 같은 일정한 값으로 돌아가려는 경향을 이용한 통계학 기법**이다. <br>\n",
    "머신러닝 관점에서 보면 독립변수는 피처에 해당되며 종속 변수는 결정 값이다. <br>\n",
    "머신러닝 회귀 예측의 핵심은 주어진 피처와 결정 값 데이터 기반에서 학습을 통해 **최적의 회귀 계수를 찾아내는 것**이다. <br>\n",
    "\n",
    "회귀는 회귀 계수의 선형 / 비선형 여부, 독립 변수의 개수, 종속 변수의 개수에 따라 여러가지 유형으로 나눌 수 있다. <br>\n",
    "회귀에서 가장 중요한 것은 **회귀 계수**이다. <br>\n",
    "회귀 계수가 선형이냐 아니냐에 따라 선형 회귀와 비선형 회귀로 나눈다. <br>\n",
    "그리고 독립 변수의 개수가 몇 개인지에 따라 단일 회귀와 다중 회귀로 나뉜다. <br>\n",
    "\n",
    "|독립 변수 개수|회귀 계수의 결합|\n",
    "|:------|:------|\n",
    "|1개 - 단일 회귀|선형 - 선형 회귀|\n",
    "|여러 개 - 다중 회귀|비선형 - 비선형 회귀|"
   ]
  },
  {
   "cell_type": "markdown",
   "id": "94d19456",
   "metadata": {},
   "source": [
    "**지도 학습**은 **분류**와 **회귀** 두 가지 유형으로 나뉜다. <br>\n",
    "가장 큰 차이는 분류는 예측값이 카테고리와 같은 이산형 클래스 값이고, 회귀는 연속형 숫자 값이라는 것이다. <br>\n",
    "\n",
    "**선형 회귀**는 **실제 값과 예측값의 차이(오류의 제곱값)를 최소화하는 직선형 회귀선을 최적화하는 방식**이다. <br>\n",
    "선형 회귀 모델은 규제 방법에 따라 다시 별도의 유형으로 나뉠 수 있다. <br>\n",
    "\n",
    "- 일반 선형 회귀 : 예측값과 실제 값의 RSS(Residual Sum of Sequares)를 최소화 할 수 있도록 회귀 계수를 최적화하며, 규제를 적용하지 않은 모델이다. \n",
    "- Ridge : Ridge 회귀는 선형 회귀에 L2 규제를 추가한 회귀 모델이다. \n",
    "- Lasso : Lasso 회귀는 선형 회귀에 L1 규제를 적용한 방식이다. \n",
    "- ElasicNet : L2, L1 규제를 함께 결합한 모델이다. \n",
    "- Logistic Regression : 로지스틱 회귀는 사실 분류에 사용되는 선형 모델이다. "
   ]
  }
 ],
 "metadata": {
  "kernelspec": {
   "display_name": "Python 3 (ipykernel)",
   "language": "python",
   "name": "python3"
  },
  "language_info": {
   "codemirror_mode": {
    "name": "ipython",
    "version": 3
   },
   "file_extension": ".py",
   "mimetype": "text/x-python",
   "name": "python",
   "nbconvert_exporter": "python",
   "pygments_lexer": "ipython3",
   "version": "3.9.6"
  }
 },
 "nbformat": 4,
 "nbformat_minor": 5
}
