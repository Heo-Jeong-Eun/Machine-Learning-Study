{
 "cells": [
  {
   "cell_type": "markdown",
   "id": "3f0b087a",
   "metadata": {},
   "source": [
    "# chapter 7. Clustering"
   ]
  },
  {
   "cell_type": "markdown",
   "id": "fb582523",
   "metadata": {},
   "source": [
    "## K-Means Algorithm\n",
    "\n",
    "**K-Means**는 **군집 중심점이라는 특정한 임의의 지점을 선택해 해당 중심에 가장 가까운 포인트를 선택하는 군집화 기법**이다. <br>\n",
    "군집 중심점은 선택된 포인트의 평균 지점으로 이동하고 이동된 중심점에서 다시 가까운 포인트를 선택, 다시 중심점을 평균 지점으로 이동하는 프로세스를 반복적으로 수행한다. <br>"
   ]
  },
  {
   "cell_type": "code",
   "execution_count": null,
   "id": "234b0c21",
   "metadata": {},
   "outputs": [],
   "source": [
    "class sklearn.cluster.KMeans(n_clusters = 3, \n",
    "                             init = 'k-means++', \n",
    "                             max_iter = 300,\n",
    "                             tol = 0.0001,\n",
    "                             precomput_distances = 'auto',\n",
    "                             verboes = 0, \n",
    "                             random_state = None,\n",
    "                            copy_x = True, \n",
    "                            n_jobs = 1,\n",
    "                            algorithm = 'auto')"
   ]
  },
  {
   "cell_type": "markdown",
   "id": "586ee2ca",
   "metadata": {},
   "source": [
    "KMeans 클래스는 다음과 같은 초기화 파라미터를 가지고 있다. <br>\n",
    "KMeans 초기화 파라피터 중 가장 중요한 파라미터는 **n_cluster**이며, 군집화할 갯수, 즉 군집 중심점의 갯수를 의미한다. <br>\n",
    "init은 초기에 군집 중심점의 좌표를 설정할 방식을 말한다. <br>\n",
    "max_iter는 최대 반복 횟수이며, **이 횟수 이전에 모든 데이터의 중심점 이동이 없으면 종료한다.** <br>\n",
    "\n",
    "KMeans 객체는 군집화 수행이 완료되면 **군집화와 관련된 주요 속성**을 알 수 있다. <br>\n",
    "- labels_ : 각 데이터 포인트가 속한 군집 중심점 레이블\n",
    "- cluster_centers_ : 각 군집 중심점 좌표, 이를 이용하면 군집 중심점 좌표가 어디인지 시각화 할 수 있다. "
   ]
  },
  {
   "cell_type": "markdown",
   "id": "88f6ab15",
   "metadata": {},
   "source": [
    "### K-Means를 이용한 붓꽃 데이터셋 군집화"
   ]
  },
  {
   "cell_type": "code",
   "execution_count": 1,
   "id": "23456fa7",
   "metadata": {},
   "outputs": [
    {
     "name": "stdout",
     "output_type": "stream",
     "text": [
      "target name: ['setosa' 'versicolor' 'virginica']\n"
     ]
    },
    {
     "data": {
      "text/html": [
       "<div>\n",
       "<style scoped>\n",
       "    .dataframe tbody tr th:only-of-type {\n",
       "        vertical-align: middle;\n",
       "    }\n",
       "\n",
       "    .dataframe tbody tr th {\n",
       "        vertical-align: top;\n",
       "    }\n",
       "\n",
       "    .dataframe thead th {\n",
       "        text-align: right;\n",
       "    }\n",
       "</style>\n",
       "<table border=\"1\" class=\"dataframe\">\n",
       "  <thead>\n",
       "    <tr style=\"text-align: right;\">\n",
       "      <th></th>\n",
       "      <th>sepal_length</th>\n",
       "      <th>sepal_width</th>\n",
       "      <th>petal_length</th>\n",
       "      <th>petal_width</th>\n",
       "    </tr>\n",
       "  </thead>\n",
       "  <tbody>\n",
       "    <tr>\n",
       "      <th>0</th>\n",
       "      <td>5.1</td>\n",
       "      <td>3.5</td>\n",
       "      <td>1.4</td>\n",
       "      <td>0.2</td>\n",
       "    </tr>\n",
       "    <tr>\n",
       "      <th>1</th>\n",
       "      <td>4.9</td>\n",
       "      <td>3.0</td>\n",
       "      <td>1.4</td>\n",
       "      <td>0.2</td>\n",
       "    </tr>\n",
       "    <tr>\n",
       "      <th>2</th>\n",
       "      <td>4.7</td>\n",
       "      <td>3.2</td>\n",
       "      <td>1.3</td>\n",
       "      <td>0.2</td>\n",
       "    </tr>\n",
       "  </tbody>\n",
       "</table>\n",
       "</div>"
      ],
      "text/plain": [
       "   sepal_length  sepal_width  petal_length  petal_width\n",
       "0           5.1          3.5           1.4          0.2\n",
       "1           4.9          3.0           1.4          0.2\n",
       "2           4.7          3.2           1.3          0.2"
      ]
     },
     "execution_count": 1,
     "metadata": {},
     "output_type": "execute_result"
    }
   ],
   "source": [
    "from sklearn.preprocessing import scale\n",
    "from sklearn.datasets import load_iris\n",
    "from sklearn.cluster import KMeans\n",
    "import matplotlib.pyplot as plt\n",
    "import numpy as np\n",
    "import pandas as pd\n",
    "%matplotlib inline\n",
    "\n",
    "iris = load_iris()\n",
    "print('target name:', iris.target_names)\n",
    "\n",
    "# 보다 편리한 데이터 Handling을 위해 DataFrame으로 변환\n",
    "irisDF = pd.DataFrame(data = iris.data, columns = ['sepal_length','sepal_width','petal_length','petal_width'])\n",
    "irisDF.head(3)"
   ]
  },
  {
   "cell_type": "markdown",
   "id": "e96fb441",
   "metadata": {},
   "source": [
    "**KMeans 객체를 생성하고 군집화 수행**\n",
    "\n",
    "- labels_ 속성을 통해 각 데이터 포인트별로 할당된 군집 중심점(Centroid)확인\n",
    "- fit_predict(), fit_transform() 수행 결과 확인"
   ]
  },
  {
   "cell_type": "code",
   "execution_count": 3,
   "id": "76d6f3b7",
   "metadata": {},
   "outputs": [],
   "source": [
    "import os\n",
    "os.environ['KMP_DUPLICATE_LIB_OK'] = 'True'"
   ]
  },
  {
   "cell_type": "code",
   "execution_count": null,
   "id": "6756b11a",
   "metadata": {},
   "outputs": [],
   "source": [
    "# error ! the kernel appears to have died. it will restart automatically.\n",
    "kmeans = KMeans(n_clusters = 3, init = 'k-means++', max_iter = 300,random_state = 0)\n",
    "\n",
    "# fit()을 수행해 irisDF 데이터에 대한 군집화 수행 결과가 kmeans 객체 변수로 반환된다. \n",
    "kmeans.fit(irisDF)"
   ]
  },
  {
   "cell_type": "code",
   "execution_count": null,
   "id": "d4128069",
   "metadata": {},
   "outputs": [],
   "source": [
    "print(kmeans.labels_)"
   ]
  },
  {
   "cell_type": "code",
   "execution_count": null,
   "id": "f2a8fb67",
   "metadata": {},
   "outputs": [],
   "source": [
    "kmeans.fit_predict(irisDF)"
   ]
  },
  {
   "cell_type": "code",
   "execution_count": null,
   "id": "083a47f0",
   "metadata": {},
   "outputs": [],
   "source": [
    "kmeans.fit_transform(irisDF)"
   ]
  },
  {
   "cell_type": "markdown",
   "id": "966f4c57",
   "metadata": {},
   "source": [
    "**군집화 결과를 irisDF에 'cluster' 컬럼으로 추가하고 target 값과 결과 비교**"
   ]
  },
  {
   "cell_type": "code",
   "execution_count": null,
   "id": "ea9926d1",
   "metadata": {},
   "outputs": [],
   "source": [
    "iris.target, iris.target_names"
   ]
  },
  {
   "cell_type": "code",
   "execution_count": null,
   "id": "2f8a73e5",
   "metadata": {},
   "outputs": [],
   "source": [
    "irisDF['target'] = iris.target\n",
    "irisDF['cluster'] = kmeans.labels_\n",
    "irisDF.head(10)"
   ]
  },
  {
   "cell_type": "code",
   "execution_count": null,
   "id": "e6f5586c",
   "metadata": {},
   "outputs": [],
   "source": [
    "irisDF['target'] = iris.target\n",
    "irisDF['cluster'] = kmeans.labels_\n",
    "\n",
    "iris_result = irisDF.groupby(['target','cluster'])['sepal_length'].count()\n",
    "print(iris_result)"
   ]
  },
  {
   "cell_type": "markdown",
   "id": "336581e2",
   "metadata": {},
   "source": [
    "**2차원 평면에 데이터 포인트별로 군집화된 결과를 나타내기 위해 2차원 PCA값으로 각 데이터 차원축소** <br>\n",
    "\n",
    "붓꽃 데이터 세트의 속성이 4개이므로 2차원 평면에서 적합하지 않아 PCA를 이용해 4개의 속성을 2개로 차원축소한 뒤, X좌표, Y좌표로 개별 데이터를 표현하도록 한다. "
   ]
  },
  {
   "cell_type": "code",
   "execution_count": null,
   "id": "b6d0ea54",
   "metadata": {},
   "outputs": [],
   "source": [
    "from sklearn.decomposition import PCA\n",
    "\n",
    "pca = PCA(n_components = 2)\n",
    "pca_transformed = pca.fit_transform(iris.data)\n",
    "\n",
    "irisDF['pca_x'] = pca_transformed[:,0]\n",
    "irisDF['pca_y'] = pca_transformed[:,1]\n",
    "irisDF.head(3)"
   ]
  },
  {
   "cell_type": "code",
   "execution_count": null,
   "id": "102959ab",
   "metadata": {},
   "outputs": [],
   "source": [
    "# cluster 값이 0, 1, 2 인 경우마다 별도의 Index로 추출\n",
    "marker0_ind = irisDF[irisDF['cluster'] == 0].index\n",
    "marker1_ind = irisDF[irisDF['cluster'] == 1].index\n",
    "marker2_ind = irisDF[irisDF['cluster'] == 2].index\n",
    "\n",
    "# cluster값 0, 1, 2에 해당하는 Index로 각 cluster 레벨의 pca_x, pca_y 값 추출. o, s, ^ 로 marker 표시\n",
    "plt.scatter(x = irisDF.loc[marker0_ind,'pca_x'], y = irisDF.loc[marker0_ind,'pca_y'], marker = 'o') \n",
    "plt.scatter(x = irisDF.loc[marker1_ind,'pca_x'], y = irisDF.loc[marker1_ind,'pca_y'], marker = 's')\n",
    "plt.scatter(x = irisDF.loc[marker2_ind,'pca_x'], y = irisDF.loc[marker2_ind,'pca_y'], marker = '^')\n",
    "\n",
    "plt.xlabel('PCA 1')\n",
    "plt.ylabel('PCA 2')\n",
    "plt.title('3 Clusters Visualization by 2 PCA Components')\n",
    "plt.show()"
   ]
  },
  {
   "cell_type": "markdown",
   "id": "b2175c5c",
   "metadata": {},
   "source": [
    "### 군집화 알고리즘 테스트를 위한 데이터 생성\n",
    "\n",
    "대표적인 **군집화용 데이터 생성기**로는 **make_blobs()와 make_classification() API**가 있다. <br>\n",
    "make_blobs()는 개별 군집의 중심점과 표준 편차 제어 기능이 추가되어 있으며, make_classification()은 노이즈를 포함한 데이터를 만드는데 유용하게 사용할 수 있다."
   ]
  },
  {
   "cell_type": "code",
   "execution_count": 7,
   "id": "3fb22a00",
   "metadata": {},
   "outputs": [
    {
     "name": "stdout",
     "output_type": "stream",
     "text": [
      "(200, 2) (200,)\n",
      "[0 1 2] [67 67 66]\n"
     ]
    }
   ],
   "source": [
    "import numpy as np\n",
    "import matplotlib.pyplot as plt\n",
    "from sklearn.cluster import KMeans\n",
    "from sklearn.datasets import make_blobs\n",
    "%matplotlib inline\n",
    "\n",
    "X, y = make_blobs(n_samples = 200, n_features = 2, centers = 3, cluster_std = 0.8, random_state = 0)\n",
    "print(X.shape, y.shape)\n",
    "\n",
    "# y target 값의 분포를 확인\n",
    "unique, counts = np.unique(y, return_counts = True)\n",
    "print(unique,counts)"
   ]
  },
  {
   "cell_type": "markdown",
   "id": "cb25db1f",
   "metadata": {},
   "source": [
    "- n_samples : 생성할 총 데이터의 수, defualt = 100개\n",
    "\n",
    "- n_features : 데이터의 피처 수, 시각화를 목표로 할 경우 2개로 설정해 보통 첫 번째 피처는 x 좌표, 두 번째 피처는 y 좌표상에 표현한다.\n",
    "\n",
    "- centers : int 값, 예를 들어 3으로 설정하면 군집의 개수를 나타낸다. \n",
    "    그렇지 않고 ndarray 형태로 표현할 경우 개별 군집 중심점의 좌표를 의미\n",
    "\n",
    "- cluster_std: 생성될 군집 데이터의 표준 편차를 의미, 만일 float 값 0.8과 같은 형태로 지정하면 군집 내에서 데이터가 표준편차 0.8을 가진 값으로 만들어진다.\n",
    "    [0.8, 1,2, 0.6]과 같은 형태로 표현되면 3개의 군집에서 첫 번째 군집 내 데이터의 표준편차는 0.8, 두 번째 군집 내 데이터의 표준 편차는 1.2, 세 번째 군집 내 데이터의 표준편차는 0.6으로 만든다.\n",
    "    군집별로 서로 다른 표준 편차를 가진 데이터 세트를 만들 때 사용"
   ]
  },
  {
   "cell_type": "code",
   "execution_count": 8,
   "id": "59c77dd7",
   "metadata": {},
   "outputs": [
    {
     "data": {
      "text/html": [
       "<div>\n",
       "<style scoped>\n",
       "    .dataframe tbody tr th:only-of-type {\n",
       "        vertical-align: middle;\n",
       "    }\n",
       "\n",
       "    .dataframe tbody tr th {\n",
       "        vertical-align: top;\n",
       "    }\n",
       "\n",
       "    .dataframe thead th {\n",
       "        text-align: right;\n",
       "    }\n",
       "</style>\n",
       "<table border=\"1\" class=\"dataframe\">\n",
       "  <thead>\n",
       "    <tr style=\"text-align: right;\">\n",
       "      <th></th>\n",
       "      <th>ftr1</th>\n",
       "      <th>ftr2</th>\n",
       "      <th>target</th>\n",
       "    </tr>\n",
       "  </thead>\n",
       "  <tbody>\n",
       "    <tr>\n",
       "      <th>0</th>\n",
       "      <td>-1.692427</td>\n",
       "      <td>3.622025</td>\n",
       "      <td>2</td>\n",
       "    </tr>\n",
       "    <tr>\n",
       "      <th>1</th>\n",
       "      <td>0.697940</td>\n",
       "      <td>4.428867</td>\n",
       "      <td>0</td>\n",
       "    </tr>\n",
       "    <tr>\n",
       "      <th>2</th>\n",
       "      <td>1.100228</td>\n",
       "      <td>4.606317</td>\n",
       "      <td>0</td>\n",
       "    </tr>\n",
       "    <tr>\n",
       "      <th>3</th>\n",
       "      <td>-1.448724</td>\n",
       "      <td>3.384245</td>\n",
       "      <td>2</td>\n",
       "    </tr>\n",
       "    <tr>\n",
       "      <th>4</th>\n",
       "      <td>1.214861</td>\n",
       "      <td>5.364896</td>\n",
       "      <td>0</td>\n",
       "    </tr>\n",
       "    <tr>\n",
       "      <th>5</th>\n",
       "      <td>-0.908302</td>\n",
       "      <td>1.970778</td>\n",
       "      <td>2</td>\n",
       "    </tr>\n",
       "    <tr>\n",
       "      <th>6</th>\n",
       "      <td>2.472119</td>\n",
       "      <td>0.437033</td>\n",
       "      <td>1</td>\n",
       "    </tr>\n",
       "    <tr>\n",
       "      <th>7</th>\n",
       "      <td>1.656842</td>\n",
       "      <td>2.441289</td>\n",
       "      <td>1</td>\n",
       "    </tr>\n",
       "    <tr>\n",
       "      <th>8</th>\n",
       "      <td>1.077800</td>\n",
       "      <td>4.625379</td>\n",
       "      <td>0</td>\n",
       "    </tr>\n",
       "    <tr>\n",
       "      <th>9</th>\n",
       "      <td>-1.679427</td>\n",
       "      <td>2.602003</td>\n",
       "      <td>2</td>\n",
       "    </tr>\n",
       "  </tbody>\n",
       "</table>\n",
       "</div>"
      ],
      "text/plain": [
       "       ftr1      ftr2  target\n",
       "0 -1.692427  3.622025       2\n",
       "1  0.697940  4.428867       0\n",
       "2  1.100228  4.606317       0\n",
       "3 -1.448724  3.384245       2\n",
       "4  1.214861  5.364896       0\n",
       "5 -0.908302  1.970778       2\n",
       "6  2.472119  0.437033       1\n",
       "7  1.656842  2.441289       1\n",
       "8  1.077800  4.625379       0\n",
       "9 -1.679427  2.602003       2"
      ]
     },
     "execution_count": 8,
     "metadata": {},
     "output_type": "execute_result"
    }
   ],
   "source": [
    "import pandas as pd\n",
    "\n",
    "clusterDF = pd.DataFrame(data=X, columns=['ftr1', 'ftr2'])\n",
    "clusterDF['target'] = y\n",
    "clusterDF.head(10)"
   ]
  },
  {
   "cell_type": "markdown",
   "id": "1b3bad8e",
   "metadata": {},
   "source": [
    "**make_blob()으로 만들어진 데이터 포인트들을 시각화**"
   ]
  },
  {
   "cell_type": "code",
   "execution_count": 10,
   "id": "9817c0c1",
   "metadata": {},
   "outputs": [
    {
     "data": {
      "image/png": "[encoded data removed]",
      "text/plain": [
       "<Figure size 640x480 with 1 Axes>"
      ]
     },
     "metadata": {},
     "output_type": "display_data"
    }
   ],
   "source": [
    "target_list = np.unique(y)\n",
    "# 각 target별 scatter plot 의 marker 값들. \n",
    "markers = ['o', 's', '^', 'P','D','H','x']\n",
    "# 3개의 cluster 영역으로 구분한 데이터 셋을 생성했으므로 target_list는 [0, 1, 2]\n",
    "# target==0, target==1, target==2 로 scatter plot을 marker별로 생성\n",
    "for target in target_list:\n",
    "    target_cluster = clusterDF[clusterDF['target'] == target]\n",
    "    plt.scatter(x = target_cluster['ftr1'], y = target_cluster['ftr2'], edgecolor = 'k', marker = markers[target])\n",
    "plt.show()"
   ]
  },
  {
   "cell_type": "code",
   "execution_count": 11,
   "id": "2cd0bb17",
   "metadata": {},
   "outputs": [
    {
     "data": {
      "text/plain": [
       "<matplotlib.collections.PathCollection at 0x7feb146f9d60>"
      ]
     },
     "execution_count": 11,
     "metadata": {},
     "output_type": "execute_result"
    },
    {
     "data": {
      "image/png": "[encoded data removed]",
      "text/plain": [
       "<Figure size 640x480 with 1 Axes>"
      ]
     },
     "metadata": {},
     "output_type": "display_data"
    }
   ],
   "source": [
    "target_list = np.unique(y)\n",
    "plt.scatter(x = clusterDF['ftr1'], y = clusterDF['ftr2'], edgecolor = 'k', c = y )"
   ]
  },
  {
   "cell_type": "code",
   "execution_count": 12,
   "id": "1c273523",
   "metadata": {},
   "outputs": [
    {
     "data": {
      "text/html": [
       "<div>\n",
       "<style scoped>\n",
       "    .dataframe tbody tr th:only-of-type {\n",
       "        vertical-align: middle;\n",
       "    }\n",
       "\n",
       "    .dataframe tbody tr th {\n",
       "        vertical-align: top;\n",
       "    }\n",
       "\n",
       "    .dataframe thead th {\n",
       "        text-align: right;\n",
       "    }\n",
       "</style>\n",
       "<table border=\"1\" class=\"dataframe\">\n",
       "  <thead>\n",
       "    <tr style=\"text-align: right;\">\n",
       "      <th></th>\n",
       "      <th>ftr1</th>\n",
       "      <th>ftr2</th>\n",
       "      <th>target</th>\n",
       "    </tr>\n",
       "  </thead>\n",
       "  <tbody>\n",
       "    <tr>\n",
       "      <th>0</th>\n",
       "      <td>-1.692427</td>\n",
       "      <td>3.622025</td>\n",
       "      <td>2</td>\n",
       "    </tr>\n",
       "    <tr>\n",
       "      <th>1</th>\n",
       "      <td>0.697940</td>\n",
       "      <td>4.428867</td>\n",
       "      <td>0</td>\n",
       "    </tr>\n",
       "    <tr>\n",
       "      <th>2</th>\n",
       "      <td>1.100228</td>\n",
       "      <td>4.606317</td>\n",
       "      <td>0</td>\n",
       "    </tr>\n",
       "    <tr>\n",
       "      <th>3</th>\n",
       "      <td>-1.448724</td>\n",
       "      <td>3.384245</td>\n",
       "      <td>2</td>\n",
       "    </tr>\n",
       "    <tr>\n",
       "      <th>4</th>\n",
       "      <td>1.214861</td>\n",
       "      <td>5.364896</td>\n",
       "      <td>0</td>\n",
       "    </tr>\n",
       "    <tr>\n",
       "      <th>...</th>\n",
       "      <td>...</td>\n",
       "      <td>...</td>\n",
       "      <td>...</td>\n",
       "    </tr>\n",
       "    <tr>\n",
       "      <th>195</th>\n",
       "      <td>2.956576</td>\n",
       "      <td>0.033718</td>\n",
       "      <td>1</td>\n",
       "    </tr>\n",
       "    <tr>\n",
       "      <th>196</th>\n",
       "      <td>-2.074113</td>\n",
       "      <td>4.245523</td>\n",
       "      <td>2</td>\n",
       "    </tr>\n",
       "    <tr>\n",
       "      <th>197</th>\n",
       "      <td>2.783411</td>\n",
       "      <td>1.151438</td>\n",
       "      <td>1</td>\n",
       "    </tr>\n",
       "    <tr>\n",
       "      <th>198</th>\n",
       "      <td>1.226724</td>\n",
       "      <td>3.620511</td>\n",
       "      <td>0</td>\n",
       "    </tr>\n",
       "    <tr>\n",
       "      <th>199</th>\n",
       "      <td>1.474790</td>\n",
       "      <td>-0.209028</td>\n",
       "      <td>1</td>\n",
       "    </tr>\n",
       "  </tbody>\n",
       "</table>\n",
       "<p>200 rows × 3 columns</p>\n",
       "</div>"
      ],
      "text/plain": [
       "         ftr1      ftr2  target\n",
       "0   -1.692427  3.622025       2\n",
       "1    0.697940  4.428867       0\n",
       "2    1.100228  4.606317       0\n",
       "3   -1.448724  3.384245       2\n",
       "4    1.214861  5.364896       0\n",
       "..        ...       ...     ...\n",
       "195  2.956576  0.033718       1\n",
       "196 -2.074113  4.245523       2\n",
       "197  2.783411  1.151438       1\n",
       "198  1.226724  3.620511       0\n",
       "199  1.474790 -0.209028       1\n",
       "\n",
       "[200 rows x 3 columns]"
      ]
     },
     "execution_count": 12,
     "metadata": {},
     "output_type": "execute_result"
    }
   ],
   "source": [
    "clusterDF"
   ]
  },
  {
   "cell_type": "markdown",
   "id": "93fe7182",
   "metadata": {},
   "source": [
    "**K-Means 클러스터링을 수행하고 개별 클러스터의 중심 위치를 시각화**"
   ]
  },
  {
   "cell_type": "code",
   "execution_count": null,
   "id": "a1714db8",
   "metadata": {},
   "outputs": [],
   "source": [
    "kmeans.cluster_centers_"
   ]
  },
  {
   "cell_type": "code",
   "execution_count": null,
   "id": "1b778e61",
   "metadata": {},
   "outputs": [],
   "source": [
    "# KMeans 객체를 이용하여 X 데이터를 K-Means 클러스터링 수행 \n",
    "kmeans = KMeans(n_clusters = 3, init = 'k-means++', max_iter = 200, random_state = 0)\n",
    "cluster_labels = kmeans.fit_predict(X)\n",
    "clusterDF['kmeans_label']  = cluster_labels\n",
    "\n",
    "#cluster_centers_ 는 개별 클러스터의 중심 위치 좌표 시각화를 위해 추출\n",
    "centers = kmeans.cluster_centers_\n",
    "unique_labels = np.unique(cluster_labels)\n",
    "markers = ['o', 's', '^', 'P','D','H','x']\n",
    "\n",
    "# 군집된 label 유형별로 iteration 하면서 marker 별로 scatter plot 수행\n",
    "for label in unique_labels:\n",
    "    label_cluster = clusterDF[clusterDF['kmeans_label'] == label]\n",
    "    plt.scatter(x = label_cluster['ftr1'], y = label_cluster['ftr2'], edgecolor = 'k', \n",
    "                marker = markers[label] )\n",
    "    \n",
    "    center_x_y = centers[label]\n",
    "    \n",
    "    # 군집별 중심 위치 좌표 시각화 \n",
    "    plt.scatter(x = center_x_y[0], y = center_x_y[1], s = 200, color='white',\n",
    "                alpha=0.9, edgecolor = 'k', marker = markers[label])\n",
    "    plt.scatter(x = center_x_y[0], y = center_x_y[1], s = 70, color = 'k', edgecolor = 'k', \n",
    "                marker = '$%d$' % label)\n",
    "\n",
    "plt.show()"
   ]
  },
  {
   "cell_type": "code",
   "execution_count": null,
   "id": "928cd156",
   "metadata": {},
   "outputs": [],
   "source": [
    "target_list = np.unique(y)\n",
    "plt.scatter(x = clusterDF['ftr1'], y = clusterDF['ftr2'], edgecolor = 'k', c = y )"
   ]
  },
  {
   "cell_type": "code",
   "execution_count": null,
   "id": "da0c4fec",
   "metadata": {},
   "outputs": [],
   "source": [
    "kmeans.cluster_centers_"
   ]
  },
  {
   "cell_type": "code",
   "execution_count": null,
   "id": "ad9a364d",
   "metadata": {},
   "outputs": [],
   "source": [
    "print(clusterDF.groupby('target')['kmeans_label'].value_counts())"
   ]
  }
 ],
 "metadata": {
  "kernelspec": {
   "display_name": "Python 3 (ipykernel)",
   "language": "python",
   "name": "python3"
  },
  "language_info": {
   "codemirror_mode": {
    "name": "ipython",
    "version": 3
   },
   "file_extension": ".py",
   "mimetype": "text/x-python",
   "name": "python",
   "nbconvert_exporter": "python",
   "pygments_lexer": "ipython3",
   "version": "3.9.16"
  }
 },
 "nbformat": 4,
 "nbformat_minor": 5
}
