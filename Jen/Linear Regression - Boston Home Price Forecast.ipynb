{
 "cells": [
  {
   "cell_type": "markdown",
   "id": "eab3872f",
   "metadata": {},
   "source": [
    "# chapter 5. Regression"
   ]
  },
  {
   "cell_type": "markdown",
   "id": "5075c800",
   "metadata": {},
   "source": [
    "## Linear Regression - Boston Home Price Forecast\n",
    "\n",
    "### Linear Regression Class - Ordinary Least Square"
   ]
  },
  {
   "cell_type": "code",
   "execution_count": 1,
   "id": "af54f139",
   "metadata": {},
   "outputs": [
    {
     "ename": "SyntaxError",
     "evalue": "invalid syntax (2452083218.py, line 1)",
     "output_type": "error",
     "traceback": [
      "\u001b[0;36m  Cell \u001b[0;32mIn[1], line 1\u001b[0;36m\u001b[0m\n\u001b[0;31m    class sklearn.linear_model.LinearRegression(fit_intercept = True, normalize = False, copy_X = Ture, n_jobs = 1)\u001b[0m\n\u001b[0m                 ^\u001b[0m\n\u001b[0;31mSyntaxError\u001b[0m\u001b[0;31m:\u001b[0m invalid syntax\n"
     ]
    }
   ],
   "source": [
    "class sklearn.linear_model.LinearRegression(fit_intercept = True, normalize = False, copy_X = Ture, n_jobs = 1)"
   ]
  },
  {
   "cell_type": "code",
   "execution_count": null,
   "id": "909eb8f7",
   "metadata": {},
   "outputs": [],
   "source": []
  }
 ],
 "metadata": {
  "kernelspec": {
   "display_name": "Python 3 (ipykernel)",
   "language": "python",
   "name": "python3"
  },
  "language_info": {
   "codemirror_mode": {
    "name": "ipython",
    "version": 3
   },
   "file_extension": ".py",
   "mimetype": "text/x-python",
   "name": "python",
   "nbconvert_exporter": "python",
   "pygments_lexer": "ipython3",
   "version": "3.9.6"
  }
 },
 "nbformat": 4,
 "nbformat_minor": 5
}
