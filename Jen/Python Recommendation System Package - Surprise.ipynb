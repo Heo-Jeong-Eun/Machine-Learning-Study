{
 "cells": [
  {
   "cell_type": "markdown",
   "id": "ac61dcc2-e04e-45ce-9914-d31d7286d240",
   "metadata": {},
   "source": [
    "# chapter 9. chapter 9. Recommendation System"
   ]
  },
  {
   "cell_type": "markdown",
   "id": "37d2948b-e219-42a2-aed3-d9849386df10",
   "metadata": {},
   "source": [
    "## Python Recommendation System Package - Surprise"
   ]
  },
  {
   "cell_type": "markdown",
   "id": "dc397eb4-2f1d-4444-9fef-c4de6053a720",
   "metadata": {},
   "source": [
    "### Surprise 패키지 소개 \n",
    "\n",
    "콘텐츠 기반 필터링, 아이템 기반 필터링 그리조 잠재 요인 기반 협업 필터링은 최적화나 수행 속도 측면에서 좀 더 보완이 필요하다. <br>\n",
    "**파이썬 기반의 추천 시스템 구축을 위한 전용 패키지 중 하나인 Surprise**는 사이킷런과 유사한 API와 프레임워크를 제공한다. <br>"
   ]
  },
  {
   "cell_type": "code",
   "execution_count": 1,
   "id": "7d35db6f-ab33-4a77-9793-5100d09363e3",
   "metadata": {},
   "outputs": [
    {
     "name": "stdout",
     "output_type": "stream",
     "text": [
      "Collecting scikit-surprise\n",
      "  Downloading scikit-surprise-1.1.3.tar.gz (771 kB)\n",
      "\u001b[2K     \u001b[90m━━━━━━━━━━━━━━━━━━━━━━━━━━━━━━━━━━━━━━━\u001b[0m \u001b[32m772.0/772.0 kB\u001b[0m \u001b[31m1.4 MB/s\u001b[0m eta \u001b[36m0:00:00\u001b[0m00:01\u001b[0m00:01\u001b[0m\n",
      "\u001b[?25h  Preparing metadata (setup.py) ... \u001b[?25ldone\n",
      "\u001b[?25hRequirement already satisfied: joblib>=1.0.0 in /Users/1001l1000/opt/anaconda3/envs/J/lib/python3.8/site-packages (from scikit-surprise) (1.3.2)\n",
      "Requirement already satisfied: numpy>=1.17.3 in /Users/1001l1000/opt/anaconda3/envs/J/lib/python3.8/site-packages (from scikit-surprise) (1.24.3)\n",
      "Requirement already satisfied: scipy>=1.3.2 in /Users/1001l1000/opt/anaconda3/envs/J/lib/python3.8/site-packages (from scikit-surprise) (1.10.1)\n",
      "Building wheels for collected packages: scikit-surprise\n",
      "  Building wheel for scikit-surprise (setup.py) ... \u001b[?25ldone\n",
      "\u001b[?25h  Created wheel for scikit-surprise: filename=scikit_surprise-1.1.3-cp38-cp38-macosx_10_9_x86_64.whl size=1163527 sha256=b4ac5487661a3948e36f9a6f325d00560dc72824532fc4f565cf720589489640\n",
      "  Stored in directory: /Users/1001l1000/Library/Caches/pip/wheels/af/db/86/2c18183a80ba05da35bf0fb7417aac5cddbd93bcb1b92fd3ea\n",
      "Successfully built scikit-surprise\n",
      "Installing collected packages: scikit-surprise\n",
      "Successfully installed scikit-surprise-1.1.3\n"
     ]
    }
   ],
   "source": [
    "!pip install scikit-surprise"
   ]
  },
  {
   "cell_type": "markdown",
   "id": "75f50722-5237-454d-983c-c83c9f2dd090",
   "metadata": {},
   "source": [
    "**Surprise의 주요 장점**\n",
    "\n",
    "- 다양한 추천 알고리즘\n",
    "- Surprise 핵심 API는 사이킷런의 핵심 API와 유사한 이름으로 작성이 되어있다. "
   ]
  },
  {
   "cell_type": "markdown",
   "id": "ed246a40-0cf8-42b6-bed6-a8c304794047",
   "metadata": {},
   "source": [
    "### Surprise를 이용한 추천 시스템 구축 \n",
    "\n",
    "추천 데이터를 학습용과 테스트용 데이터 세트로 분리한 뒤 행렬 분해를 통한 잠재 요인 협업 필터링을 수행한다. "
   ]
  },
  {
   "cell_type": "code",
   "execution_count": 2,
   "id": "4786920e-ee6a-4112-91fa-724bc942d74c",
   "metadata": {},
   "outputs": [],
   "source": [
    "from surprise import SVD\n",
    "from surprise import Dataset\n",
    "from surprise import accuracy\n",
    "from surprise.model_selection import train_test_split"
   ]
  },
  {
   "cell_type": "markdown",
   "id": "394e86ca-ed76-4ceb-ad9d-9886ccbc422c",
   "metadata": {},
   "source": [
    "**Surprise에서 새로운 데이터 로딩은 Dataset Class를 이용해서만 가능**하다. <br>\n",
    "**주요 데이터가 Row Level 형태로 되어 있는 포맷의 데이터만 처리**한다. "
   ]
  },
  {
   "cell_type": "code",
   "execution_count": 3,
   "id": "eb6de792-baf4-4532-8331-6532376b483a",
   "metadata": {},
   "outputs": [
    {
     "name": "stdout",
     "output_type": "stream",
     "text": [
      "Dataset ml-100k could not be found. Do you want to download it? [Y/n] "
     ]
    },
    {
     "name": "stdin",
     "output_type": "stream",
     "text": [
      " Y\n"
     ]
    },
    {
     "name": "stdout",
     "output_type": "stream",
     "text": [
      "Trying to download dataset from https://files.grouplens.org/datasets/movielens/ml-100k.zip...\n",
      "Done! Dataset ml-100k has been saved to /Users/1001l1000/.surprise_data/ml-100k\n"
     ]
    }
   ],
   "source": [
    "data = Dataset.load_builtin('ml-100k')\n",
    "\n",
    "# 수행 시마다 동일하게 데이터를 분할하기 위해 random_state 값을 부여\n",
    "trainset, testset = train_test_split(data, test_size = .25, random_state = 0)"
   ]
  },
  {
   "cell_type": "markdown",
   "id": "4da585cc-9751-47ea-9b94-5e0f689a194a",
   "metadata": {},
   "source": [
    "과거 버전 데이터 파일의 분리 문자는 (\\t)이다. <br>\n",
    "Surprise에 사용자-아이템 평점 데이터를 적용할 떄 주의해야 할 점은 Row Level의 사용자-아이템 평점 데이터를 그대로 적용해야 한다는 것이다. <br>\n",
    "Surprise는 자체적으로 Row Level의 데이터를 Column Level의 데이터로 변경하므로 원본이 Row Level 사용자-아이템 평점 데이터를 데이터 세트로 적용해야 한다. <br>\n",
    "\n",
    "**SVD 잠재 요인 협업 필터링 수행**\n",
    "\n",
    "algo = SVD()와 같이 알고리즘 객체를 생성한 후 이 알고리즘 객체에 fit(학습 데이터 세트)를 수행해 학습 데이터 세트 기반으로 추천 알고리즘을 학습한다. "
   ]
  },
  {
   "cell_type": "code",
   "execution_count": 4,
   "id": "abeb7978-6a37-4f91-8e1f-30b209793913",
   "metadata": {},
   "outputs": [
    {
     "data": {
      "text/plain": [
       "<surprise.prediction_algorithms.matrix_factorization.SVD at 0x7fc45fdaad00>"
      ]
     },
     "execution_count": 4,
     "metadata": {},
     "output_type": "execute_result"
    }
   ],
   "source": [
    "algo = SVD(random_state = 0)\n",
    "algo.fit(trainset)"
   ]
  },
  {
   "cell_type": "markdown",
   "id": "8aa418b4-11d2-41e7-8177-8d99660a4a87",
   "metadata": {},
   "source": [
    "**학습된 추천 알고리즘을 기반으로 테스트 데이터 세트에 대해 추천을 수행**한다. <br>\n",
    "Surprise에서 추천을 예측하는 메서드는 **test()** 와 **predict()** 이다. <br>\n",
    "test()는 사용자-아이템 평점 데이터 세트 전체에 대해서 추천을 예측하는 메서드이다. 즉, 입력된 데이터 세트에 대해 추천 데이터 세트를 만들어준다. <br>\n",
    "predict()는 개별 사용자와 영화에 대한 추천 평점을 반환한다. "
   ]
  },
  {
   "cell_type": "code",
   "execution_count": 5,
   "id": "ca2a6003-22bc-438d-b3c1-8676b40a68a9",
   "metadata": {},
   "outputs": [
    {
     "name": "stdout",
     "output_type": "stream",
     "text": [
      "prediction type :  <class 'list'>  size :  25000\n",
      "prediction 결과의 최초 5개 추출\n"
     ]
    },
    {
     "data": {
      "text/plain": [
       "[Prediction(uid='120', iid='282', r_ui=4.0, est=3.5114147666251547, details={'was_impossible': False}),\n",
       " Prediction(uid='882', iid='291', r_ui=4.0, est=3.573872419581491, details={'was_impossible': False}),\n",
       " Prediction(uid='535', iid='507', r_ui=5.0, est=4.033583485472447, details={'was_impossible': False}),\n",
       " Prediction(uid='697', iid='244', r_ui=5.0, est=3.8463639495936905, details={'was_impossible': False}),\n",
       " Prediction(uid='751', iid='385', r_ui=4.0, est=3.180754247821916, details={'was_impossible': False})]"
      ]
     },
     "execution_count": 5,
     "metadata": {},
     "output_type": "execute_result"
    }
   ],
   "source": [
    "predictions = algo.test(testset)\n",
    "print('prediction type : ', type(predictions), ' size : ', len(predictions))\n",
    "print('prediction 결과의 최초 5개 추출')\n",
    "predictions[:5]"
   ]
  },
  {
   "cell_type": "markdown",
   "id": "fc88ff11-329d-4b53-b6e4-22a6c14ef9f4",
   "metadata": {},
   "source": [
    "'was_impossible'이 True이면 예측 값을 생성할 수 없는 데이터라는 의미이다. <br>"
   ]
  },
  {
   "cell_type": "code",
   "execution_count": 7,
   "id": "bb86ea80-4157-4047-a149-416648687c37",
   "metadata": {},
   "outputs": [
    {
     "data": {
      "text/plain": [
       "[('120', '282', 3.5114147666251547),\n",
       " ('882', '291', 3.573872419581491),\n",
       " ('535', '507', 4.033583485472447)]"
      ]
     },
     "execution_count": 7,
     "metadata": {},
     "output_type": "execute_result"
    }
   ],
   "source": [
    "[(pred.uid, pred.iid, pred.est) for pred in predictions[:3]]"
   ]
  },
  {
   "cell_type": "markdown",
   "id": "1bfa3a37-4287-42df-8717-b7ae08d7e46e",
   "metadata": {},
   "source": [
    "predict()는 개별 사용자의 아이템에 대한 추천 평점을 예측한다. <br>"
   ]
  },
  {
   "cell_type": "code",
   "execution_count": 8,
   "id": "746b8cf1-69b0-49a7-9eac-c49418deb691",
   "metadata": {},
   "outputs": [
    {
     "name": "stdout",
     "output_type": "stream",
     "text": [
      "user: 196        item: 302        r_ui = None   est = 4.49   {'was_impossible': False}\n"
     ]
    }
   ],
   "source": [
    "# 사용자 아이디, 아이템 아이디는 문자열로 입력해야 한다. \n",
    "uid = str(196)\n",
    "iid = str(302)\n",
    "pred = algo.predict(uid, iid)\n",
    "print(pred)"
   ]
  },
  {
   "cell_type": "markdown",
   "id": "842f5eef-e071-4a7b-82e3-e77f5818b3d1",
   "metadata": {},
   "source": [
    "**테스트 데이터 세트를 이용해 추천 예측 평점과 실제 평점과의 차이를 평가**한다. <br>\n",
    "\n",
    "accuracy 모듈은 RMSE, MSE 등의 방법으로 추천 시스템의 성능 평가 정보를 제공한다. "
   ]
  },
  {
   "cell_type": "code",
   "execution_count": 9,
   "id": "1ca250c2-b3ac-4c92-97a8-d64b8cfce733",
   "metadata": {},
   "outputs": [
    {
     "name": "stdout",
     "output_type": "stream",
     "text": [
      "RMSE: 0.9467\n"
     ]
    },
    {
     "data": {
      "text/plain": [
       "0.9466860806937948"
      ]
     },
     "execution_count": 9,
     "metadata": {},
     "output_type": "execute_result"
    }
   ],
   "source": [
    "accuracy.rmse(predictions)"
   ]
  },
  {
   "cell_type": "markdown",
   "id": "12749016-c6bc-4a3b-b32d-7d4232d1f5d6",
   "metadata": {},
   "source": [
    "### Surprise 주요 모듈 소개 \n",
    "\n",
    "**Dataset**\n",
    "\n",
    "**OS 파일 데이터를 Surprise 데이터 세트로 로딩**\n",
    "\n",
    "**판다스 DataFrame에서 Surprise 데이터 세트로 로딩**ㅡ"
   ]
  },
  {
   "cell_type": "markdown",
   "id": "b12ec72c-d6d7-4564-9d0e-a427d958286b",
   "metadata": {},
   "source": [
    "### Surprise 추천 알고리즘 클래스 "
   ]
  },
  {
   "cell_type": "markdown",
   "id": "e4615bb1-6f04-416b-a524-a6ab2a3095f7",
   "metadata": {},
   "source": [
    "### 베이스 라인 평점 "
   ]
  },
  {
   "cell_type": "markdown",
   "id": "b4c74e06-120b-4a68-9e5e-2bf7909f425e",
   "metadata": {},
   "source": [
    "### 교차 검증과 하이퍼 파라미터 튜닝 "
   ]
  },
  {
   "cell_type": "markdown",
   "id": "b073c20d-7b06-40d4-a2a9-811378f758bc",
   "metadata": {},
   "source": [
    "### Surprise를 이용한 개인화 영화 추천 시스템 구축"
   ]
  }
 ],
 "metadata": {
  "kernelspec": {
   "display_name": "Python 3 (ipykernel)",
   "language": "python",
   "name": "python3"
  },
  "language_info": {
   "codemirror_mode": {
    "name": "ipython",
    "version": 3
   },
   "file_extension": ".py",
   "mimetype": "text/x-python",
   "name": "python",
   "nbconvert_exporter": "python",
   "pygments_lexer": "ipython3",
   "version": "3.8.13"
  }
 },
 "nbformat": 4,
 "nbformat_minor": 5
}
