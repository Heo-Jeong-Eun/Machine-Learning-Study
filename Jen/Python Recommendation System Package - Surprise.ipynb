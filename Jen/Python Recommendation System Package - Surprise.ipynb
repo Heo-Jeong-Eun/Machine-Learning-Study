{
 "cells": [
  {
   "cell_type": "markdown",
   "id": "ac61dcc2-e04e-45ce-9914-d31d7286d240",
   "metadata": {},
   "source": [
    "# chapter 9. chapter 9. Recommendation System"
   ]
  },
  {
   "cell_type": "markdown",
   "id": "37d2948b-e219-42a2-aed3-d9849386df10",
   "metadata": {},
   "source": [
    "## Python Recommendation System Package - Surprise"
   ]
  },
  {
   "cell_type": "markdown",
   "id": "dc397eb4-2f1d-4444-9fef-c4de6053a720",
   "metadata": {},
   "source": [
    "### Surprise 패키지 소개 \n",
    "\n",
    "콘텐츠 기반 필터링, 아이템 기반 필터링 그리조 잠재 요인 기반 협업 필터링은 최적화나 수행 속도 측면에서 좀 더 보완이 필요하다. <br>\n",
    "**파이썬 기반의 추천 시스템 구축을 위한 전용 패키지 중 하나인 Surprise**는 사이킷런과 유사한 API와 프레임워크를 제공한다. <br>"
   ]
  },
  {
   "cell_type": "code",
   "execution_count": 12,
   "id": "7d35db6f-ab33-4a77-9793-5100d09363e3",
   "metadata": {},
   "outputs": [
    {
     "name": "stdout",
     "output_type": "stream",
     "text": [
      "Requirement already satisfied: scikit-surprise in /Users/1001l1000/opt/anaconda3/envs/J/lib/python3.8/site-packages (1.1.3)\n",
      "Requirement already satisfied: joblib>=1.0.0 in /Users/1001l1000/opt/anaconda3/envs/J/lib/python3.8/site-packages (from scikit-surprise) (1.3.2)\n",
      "Requirement already satisfied: numpy>=1.17.3 in /Users/1001l1000/opt/anaconda3/envs/J/lib/python3.8/site-packages (from scikit-surprise) (1.24.3)\n",
      "Requirement already satisfied: scipy>=1.3.2 in /Users/1001l1000/opt/anaconda3/envs/J/lib/python3.8/site-packages (from scikit-surprise) (1.10.1)\n"
     ]
    }
   ],
   "source": [
    "!pip install scikit-surprise"
   ]
  },
  {
   "cell_type": "markdown",
   "id": "75f50722-5237-454d-983c-c83c9f2dd090",
   "metadata": {},
   "source": [
    "**Surprise의 주요 장점**\n",
    "\n",
    "- 다양한 추천 알고리즘\n",
    "- Surprise 핵심 API는 사이킷런의 핵심 API와 유사한 이름으로 작성이 되어있다. "
   ]
  },
  {
   "cell_type": "markdown",
   "id": "ed246a40-0cf8-42b6-bed6-a8c304794047",
   "metadata": {},
   "source": [
    "### Surprise를 이용한 추천 시스템 구축 \n",
    "\n",
    "추천 데이터를 학습용과 테스트용 데이터 세트로 분리한 뒤 행렬 분해를 통한 잠재 요인 협업 필터링을 수행한다. "
   ]
  },
  {
   "cell_type": "code",
   "execution_count": 13,
   "id": "4786920e-ee6a-4112-91fa-724bc942d74c",
   "metadata": {},
   "outputs": [],
   "source": [
    "from surprise import SVD\n",
    "from surprise import Dataset\n",
    "from surprise import accuracy\n",
    "from surprise.model_selection import train_test_split"
   ]
  },
  {
   "cell_type": "markdown",
   "id": "394e86ca-ed76-4ceb-ad9d-9886ccbc422c",
   "metadata": {},
   "source": [
    "**Surprise에서 새로운 데이터 로딩은 Dataset Class를 이용해서만 가능**하다. <br>\n",
    "**주요 데이터가 Row Level 형태로 되어 있는 포맷의 데이터만 처리**한다. "
   ]
  },
  {
   "cell_type": "code",
   "execution_count": 14,
   "id": "eb6de792-baf4-4532-8331-6532376b483a",
   "metadata": {},
   "outputs": [],
   "source": [
    "data = Dataset.load_builtin('ml-100k')\n",
    "\n",
    "# 수행 시마다 동일하게 데이터를 분할하기 위해 random_state 값을 부여\n",
    "trainset, testset = train_test_split(data, test_size = .25, random_state = 0)"
   ]
  },
  {
   "cell_type": "markdown",
   "id": "4da585cc-9751-47ea-9b94-5e0f689a194a",
   "metadata": {},
   "source": [
    "과거 버전 데이터 파일의 분리 문자는 (\\t)이다. <br>\n",
    "Surprise에 사용자-아이템 평점 데이터를 적용할 떄 주의해야 할 점은 Row Level의 사용자-아이템 평점 데이터를 그대로 적용해야 한다는 것이다. <br>\n",
    "Surprise는 자체적으로 Row Level의 데이터를 Column Level의 데이터로 변경하므로 원본이 Row Level 사용자-아이템 평점 데이터를 데이터 세트로 적용해야 한다. <br>\n",
    "\n",
    "**SVD 잠재 요인 협업 필터링 수행**\n",
    "\n",
    "algo = SVD()와 같이 알고리즘 객체를 생성한 후 이 알고리즘 객체에 fit(학습 데이터 세트)를 수행해 학습 데이터 세트 기반으로 추천 알고리즘을 학습한다. "
   ]
  },
  {
   "cell_type": "code",
   "execution_count": 15,
   "id": "abeb7978-6a37-4f91-8e1f-30b209793913",
   "metadata": {},
   "outputs": [
    {
     "data": {
      "text/plain": [
       "<surprise.prediction_algorithms.matrix_factorization.SVD at 0x7fc4649339d0>"
      ]
     },
     "execution_count": 15,
     "metadata": {},
     "output_type": "execute_result"
    }
   ],
   "source": [
    "algo = SVD(random_state = 0)\n",
    "algo.fit(trainset)"
   ]
  },
  {
   "cell_type": "markdown",
   "id": "8aa418b4-11d2-41e7-8177-8d99660a4a87",
   "metadata": {},
   "source": [
    "**학습된 추천 알고리즘을 기반으로 테스트 데이터 세트에 대해 추천을 수행**한다. <br>\n",
    "Surprise에서 추천을 예측하는 메서드는 **test()** 와 **predict()** 이다. <br>\n",
    "test()는 사용자-아이템 평점 데이터 세트 전체에 대해서 추천을 예측하는 메서드이다. 즉, 입력된 데이터 세트에 대해 추천 데이터 세트를 만들어준다. <br>\n",
    "predict()는 개별 사용자와 영화에 대한 추천 평점을 반환한다. "
   ]
  },
  {
   "cell_type": "code",
   "execution_count": 16,
   "id": "ca2a6003-22bc-438d-b3c1-8676b40a68a9",
   "metadata": {},
   "outputs": [
    {
     "name": "stdout",
     "output_type": "stream",
     "text": [
      "prediction type :  <class 'list'>  size :  25000\n",
      "prediction 결과의 최초 5개 추출\n"
     ]
    },
    {
     "data": {
      "text/plain": [
       "[Prediction(uid='120', iid='282', r_ui=4.0, est=3.5114147666251547, details={'was_impossible': False}),\n",
       " Prediction(uid='882', iid='291', r_ui=4.0, est=3.573872419581491, details={'was_impossible': False}),\n",
       " Prediction(uid='535', iid='507', r_ui=5.0, est=4.033583485472447, details={'was_impossible': False}),\n",
       " Prediction(uid='697', iid='244', r_ui=5.0, est=3.8463639495936905, details={'was_impossible': False}),\n",
       " Prediction(uid='751', iid='385', r_ui=4.0, est=3.180754247821916, details={'was_impossible': False})]"
      ]
     },
     "execution_count": 16,
     "metadata": {},
     "output_type": "execute_result"
    }
   ],
   "source": [
    "predictions = algo.test(testset)\n",
    "print('prediction type : ', type(predictions), ' size : ', len(predictions))\n",
    "print('prediction 결과의 최초 5개 추출')\n",
    "predictions[:5]"
   ]
  },
  {
   "cell_type": "markdown",
   "id": "fc88ff11-329d-4b53-b6e4-22a6c14ef9f4",
   "metadata": {},
   "source": [
    "'was_impossible'이 True이면 예측 값을 생성할 수 없는 데이터라는 의미이다. <br>"
   ]
  },
  {
   "cell_type": "code",
   "execution_count": 17,
   "id": "bb86ea80-4157-4047-a149-416648687c37",
   "metadata": {},
   "outputs": [
    {
     "data": {
      "text/plain": [
       "[('120', '282', 3.5114147666251547),\n",
       " ('882', '291', 3.573872419581491),\n",
       " ('535', '507', 4.033583485472447)]"
      ]
     },
     "execution_count": 17,
     "metadata": {},
     "output_type": "execute_result"
    }
   ],
   "source": [
    "[(pred.uid, pred.iid, pred.est) for pred in predictions[:3]]"
   ]
  },
  {
   "cell_type": "markdown",
   "id": "1bfa3a37-4287-42df-8717-b7ae08d7e46e",
   "metadata": {},
   "source": [
    "predict()는 개별 사용자의 아이템에 대한 추천 평점을 예측한다. <br>"
   ]
  },
  {
   "cell_type": "code",
   "execution_count": 18,
   "id": "746b8cf1-69b0-49a7-9eac-c49418deb691",
   "metadata": {},
   "outputs": [
    {
     "name": "stdout",
     "output_type": "stream",
     "text": [
      "user: 196        item: 302        r_ui = None   est = 4.49   {'was_impossible': False}\n"
     ]
    }
   ],
   "source": [
    "# 사용자 아이디, 아이템 아이디는 문자열로 입력해야 한다. \n",
    "uid = str(196)\n",
    "iid = str(302)\n",
    "pred = algo.predict(uid, iid)\n",
    "print(pred)"
   ]
  },
  {
   "cell_type": "markdown",
   "id": "842f5eef-e071-4a7b-82e3-e77f5818b3d1",
   "metadata": {},
   "source": [
    "**테스트 데이터 세트를 이용해 추천 예측 평점과 실제 평점과의 차이를 평가**한다. <br>\n",
    "\n",
    "accuracy 모듈은 RMSE, MSE 등의 방법으로 추천 시스템의 성능 평가 정보를 제공한다. "
   ]
  },
  {
   "cell_type": "code",
   "execution_count": 19,
   "id": "1ca250c2-b3ac-4c92-97a8-d64b8cfce733",
   "metadata": {},
   "outputs": [
    {
     "name": "stdout",
     "output_type": "stream",
     "text": [
      "RMSE: 0.9467\n"
     ]
    },
    {
     "data": {
      "text/plain": [
       "0.9466860806937948"
      ]
     },
     "execution_count": 19,
     "metadata": {},
     "output_type": "execute_result"
    }
   ],
   "source": [
    "accuracy.rmse(predictions)"
   ]
  },
  {
   "cell_type": "markdown",
   "id": "12749016-c6bc-4a3b-b32d-7d4232d1f5d6",
   "metadata": {},
   "source": [
    "### Surprise 주요 모듈 소개 \n",
    "\n",
    "**Dataset**\n",
    "Surprise는 user_id, item_id, rating 데이터가 Row Level로 된 데이터 세트만 적용할 수 있다. 게다가 네 번째 Column부터는 아예 로딩을 수행하지 않는다. <br>\n",
    "\n",
    "**OS 파일 데이터를 Surprise 데이터 세트로 로딩**\n",
    "Dataset.load_from_file API를 이용해 지정된 디렉터리에 있는 사용자-아이템 평점 데이터를 로딩한다. <br>\n",
    "주의할 점은 로딩 되는 데이터 파일에 Column명을 가지는 Header 문자열이 있어서는 안된다는 점이다. <br>\n",
    "to_csv() 함수를 이용해 간단히 이 Column Header를 삭제할 수 있다. \n",
    "\n",
    "**csv 파일로 사용자 평점 데이터 생성**"
   ]
  },
  {
   "cell_type": "code",
   "execution_count": 23,
   "id": "abb3c84a-6792-46f3-a55b-eb4ff4deb2ca",
   "metadata": {},
   "outputs": [],
   "source": [
    "import pandas as pd\n",
    "\n",
    "ratings = pd.read_csv('./data/ml latest small/ratings.csv') \n",
    "# ratings_noh.csv 파일로 업로드시 인덱스와 헤더를 모두 제거한 새로운 파일이 생성된다. \n",
    "ratings.to_csv('./data/ml latest small/ratings_noh.csv', index = False, header = False)"
   ]
  },
  {
   "cell_type": "markdown",
   "id": "b1707021-6850-4a55-80cb-08486883963f",
   "metadata": {},
   "source": [
    "Dataset.load_from_file()을 적용하기 전에 Reader Class를 이용해 데이터 파일의 파싱 포맷을 정의해야 한다. <br>\n",
    "Reader Class의 생성자에 각 필드의 Column 이름과 Column 분리 문자 그리고 최소-최대 평점을 입력해 객체를 생성하고, load_from_file()로 생성된 Reader 객체를 참조해 데이터 파일을 파싱하면서 로딩한다. <br>\n",
    "Reader 설정이 완료되면, 이를 기반으로 데이터를 파싱하면서 Dataset을 로딩한다. \n",
    "\n",
    "**Reader Class로 파일의 포맷팅 지정하고 Dataset의 load_from_file()을 이용하여 데이터셋 로딩**"
   ]
  },
  {
   "cell_type": "code",
   "execution_count": 25,
   "id": "befff2a2-5630-4f41-b07f-86e58124d63b",
   "metadata": {},
   "outputs": [],
   "source": [
    "from surprise import Reader\n",
    "\n",
    "reader = Reader(line_format = 'user item rating timestamp', sep = ',', rating_scale = (0.5, 5))\n",
    "data = Dataset.load_from_file('./data/ml latest small/ratings_noh.csv', reader = reader)"
   ]
  },
  {
   "cell_type": "markdown",
   "id": "027dfbde-24cb-425e-9497-c5fdaa88fbbb",
   "metadata": {},
   "source": [
    "**Reader Class의 주요 생성 파라미터**\n",
    "\n",
    "- line_format(string) : Column을 순서대로 나열한다. 입력된 문자열을 공백으로 분리해 Column으로 인식한다. \n",
    "- sep(char) : Column을 분리하는 분리자이며, '\\t'이다. 판다스 DataFrame에서 입력받을 경우에는 기재할 필요가 없다.\n",
    "- rating_scale(tuple, optional) : 평점 값의 최소-최대 평점을 설정한다. 기본값은 (1, 5)이지만 ratings.csv 파일의 경우 최소 평점이 0.5 최대 평점이 5이므로 (0.5, 5)로 설정"
   ]
  },
  {
   "cell_type": "markdown",
   "id": "78f22958-1938-416b-9175-1a280befa923",
   "metadata": {},
   "source": [
    "**학습과 테스트 데이터 세트로 분할하고 SVD로 학습한 후 테스트 데이터 평점 예측 후 RSME 평가** "
   ]
  },
  {
   "cell_type": "code",
   "execution_count": 26,
   "id": "ba9b8bd5-2cd3-4ca2-be2f-a86949cd0dec",
   "metadata": {},
   "outputs": [
    {
     "name": "stdout",
     "output_type": "stream",
     "text": [
      "RMSE: 0.8682\n"
     ]
    },
    {
     "data": {
      "text/plain": [
       "0.8681952927143516"
      ]
     },
     "execution_count": 26,
     "metadata": {},
     "output_type": "execute_result"
    }
   ],
   "source": [
    "trainset, testset = train_test_split(data, test_size = .25, random_state = 0)\n",
    "\n",
    "# 수행시마다 동일한 결과 도출을 위해 random_state 설정 \n",
    "algo = SVD(n_factors = 50, random_state = 0)\n",
    "\n",
    "# 학습 데이터 세트로 학습 후 테스트 데이터 세트로 평점 예측 후 RMSE 평가\n",
    "algo.fit(trainset) \n",
    "predictions = algo.test(testset)\n",
    "accuracy.rmse(predictions)"
   ]
  },
  {
   "cell_type": "markdown",
   "id": "76a91b37-bb78-44f7-bcd0-6a3b31e5435d",
   "metadata": {},
   "source": [
    "**판다스 DataFrame에서 Surprise 데이터 세트로 로딩**"
   ]
  },
  {
   "cell_type": "code",
   "execution_count": 27,
   "id": "77f9fbfe-87f2-4b8a-9d26-c23dc08aa41f",
   "metadata": {},
   "outputs": [
    {
     "name": "stdout",
     "output_type": "stream",
     "text": [
      "RMSE: 0.8682\n"
     ]
    },
    {
     "data": {
      "text/plain": [
       "0.8681952927143516"
      ]
     },
     "execution_count": 27,
     "metadata": {},
     "output_type": "execute_result"
    }
   ],
   "source": [
    "import pandas as pd\n",
    "from surprise import Reader, Dataset\n",
    "\n",
    "ratings = pd.read_csv('./data/ml latest small/ratings.csv') \n",
    "reader = Reader(rating_scale = (0.5, 5.0))\n",
    "\n",
    "# ratings DataFrame 에서 컬럼은 사용자 아이디, 아이템 아이디, 평점 순서를 지켜야한다.  \n",
    "data = Dataset.load_from_df(ratings[['userId', 'movieId', 'rating']], reader)\n",
    "trainset, testset = train_test_split(data, test_size = .25, random_state = 0)\n",
    "\n",
    "algo = SVD(n_factors = 50, random_state = 0)\n",
    "algo.fit(trainset) \n",
    "predictions = algo.test(testset)\n",
    "accuracy.rmse(predictions)"
   ]
  },
  {
   "cell_type": "markdown",
   "id": "b12ec72c-d6d7-4564-9d0e-a427d958286b",
   "metadata": {},
   "source": [
    "### Surprise 추천 알고리즘 클래스 "
   ]
  },
  {
   "cell_type": "markdown",
   "id": "5fcece11-eb4f-4d33-8127-ff96e2524ace",
   "metadata": {},
   "source": [
    "**Surprise에서 추천 예측을 위해 자주 사용되는 추천 알고리즘 Class**\n",
    "\n",
    "- SVD : 행렬 분해를 통한 잠재 요인 협업 필터링을 위한 SVD 알고리즘\n",
    "- KNNBasic : 최근접 이웃 협업 필터링을 위한 KNN 알고리즘\n",
    "- BaselineOnly : 사용자 Bias와 아이템 Bias를 감안한 SGD 베이스라인 알고리즘\n",
    "\n",
    "**Surprise SVD 비용 함수**는 사용자 베이스라인 편향성을 감안한 평점 예측에 Regularization을 적용한 것이다. <br>\n",
    "이때 베이스라인이라는 의미는 각 개인이 평점을 부여하는 성향을 반영해 평점을 계산하는 방식을 말한다. "
   ]
  },
  {
   "cell_type": "markdown",
   "id": "e4615bb1-6f04-416b-a524-a6ab2a3095f7",
   "metadata": {},
   "source": [
    "### 베이스 라인 평점 \n",
    "\n",
    "개인의 성향을 반영해 아이템 평가에 편향성(Bias) 요소를 반영해 평점을 부과하는 것을 **Baseline Rating**이라고 한다. <br>\n",
    "보통 Baseline Rating은 **전체 평균 평점 + 사용자 편향 점수 + 아이템 편향 점수** 공식으로 계산된다. \n",
    "- 전체 평균 평점 : 모든 사용자의 아이템에 대한 평점을 평균한 값\n",
    "- 사용자 편향 점수 : 사용자별 아이템 평점 평균 값 - 전체 평균 평점\n",
    "- 아이템 편향 점수 : 아이템별 평점 평균 값 - 전체 평균 평점"
   ]
  },
  {
   "cell_type": "markdown",
   "id": "b4c74e06-120b-4a68-9e5e-2bf7909f425e",
   "metadata": {},
   "source": [
    "### 교차 검증과 하이퍼 파라미터 튜닝 \n",
    "\n",
    "Surprise는 교차 검증과 하이퍼 파라미터 튜닝을 위해 사이킷런과 유사한 cross_validate()와 GridSearchCV Class를 제공한다. <br>\n",
    "\n",
    "**cross_validate()를 이용한 교차 검증**"
   ]
  },
  {
   "cell_type": "code",
   "execution_count": 28,
   "id": "f06f695f-d008-4f1d-b5d6-304753efd8c7",
   "metadata": {},
   "outputs": [
    {
     "name": "stdout",
     "output_type": "stream",
     "text": [
      "Evaluating RMSE, MAE of algorithm SVD on 5 split(s).\n",
      "\n",
      "                  Fold 1  Fold 2  Fold 3  Fold 4  Fold 5  Mean    Std     \n",
      "RMSE (testset)    0.8735  0.8720  0.8805  0.8780  0.8637  0.8736  0.0058  \n",
      "MAE (testset)     0.6708  0.6696  0.6788  0.6763  0.6606  0.6712  0.0063  \n",
      "Fit time          1.22    1.11    1.12    1.12    1.15    1.14    0.04    \n",
      "Test time         0.47    0.15    0.26    0.14    0.14    0.23    0.13    \n"
     ]
    },
    {
     "data": {
      "text/plain": [
       "{'test_rmse': array([0.87354357, 0.87203293, 0.88045427, 0.8780446 , 0.86369724]),\n",
       " 'test_mae': array([0.67081904, 0.66958573, 0.67877315, 0.6762546 , 0.66057719]),\n",
       " 'fit_time': (1.2161409854888916,\n",
       "  1.1144540309906006,\n",
       "  1.1203410625457764,\n",
       "  1.1198368072509766,\n",
       "  1.1489109992980957),\n",
       " 'test_time': (0.4669520854949951,\n",
       "  0.15009474754333496,\n",
       "  0.2580420970916748,\n",
       "  0.13916683197021484,\n",
       "  0.13915705680847168)}"
      ]
     },
     "execution_count": 28,
     "metadata": {},
     "output_type": "execute_result"
    }
   ],
   "source": [
    "from surprise.model_selection import cross_validate \n",
    "\n",
    "# Pandas DataFrame에서 Surprise Dataset으로 데이터 로딩 \n",
    "ratings = pd.read_csv('./data/ml latest small/ratings.csv') # reading data in pandas df\n",
    "reader = Reader(rating_scale = (0.5, 5.0))\n",
    "data = Dataset.load_from_df(ratings[['userId', 'movieId', 'rating']], reader)\n",
    "\n",
    "algo = SVD(random_state = 0) \n",
    "cross_validate(algo, data, measures = ['RMSE', 'MAE'], cv = 5, verbose = True) "
   ]
  },
  {
   "cell_type": "markdown",
   "id": "88f96638-c173-4a16-aab8-a9c586c69e18",
   "metadata": {},
   "source": [
    "**GridSearchCV 이용**"
   ]
  },
  {
   "cell_type": "code",
   "execution_count": 29,
   "id": "170a82f2-9c68-4286-a7f7-8a5639df36e3",
   "metadata": {},
   "outputs": [
    {
     "name": "stdout",
     "output_type": "stream",
     "text": [
      "0.8778201806004446\n",
      "{'n_epochs': 20, 'n_factors': 50}\n"
     ]
    }
   ],
   "source": [
    "from surprise.model_selection import GridSearchCV\n",
    "\n",
    "# 최적화할 파라미터들을 딕셔너리 형태로 지정. \n",
    "param_grid = {'n_epochs': [20, 40, 60], 'n_factors': [50, 100, 200]}\n",
    "\n",
    "# CV를 3개 폴드 세트로 지정, 성능 평가는 rmse, mse 로 수행 하도록 GridSearchCV 구성\n",
    "gs = GridSearchCV(SVD, param_grid, measures = ['rmse', 'mae'], cv = 3)\n",
    "gs.fit(data)\n",
    "\n",
    "# 최고 RMSE Evaluation 점수와 그때의 하이퍼 파라미터\n",
    "print(gs.best_score['rmse'])\n",
    "print(gs.best_params['rmse'])"
   ]
  },
  {
   "cell_type": "markdown",
   "id": "b073c20d-7b06-40d4-a2a9-811378f758bc",
   "metadata": {},
   "source": [
    "### Surprise를 이용한 개인화 영화 추천 시스템 구축\n",
    "\n",
    "Surprise를 이용해 잠재 요인 협업 필터링 기반의 개인화된 영화 추천을 구현한다. <br>\n",
    "**Surprise 패키지로 학습된 추천 알고리즘을 기반으로 특정 사용자가 아직 평점을 매기지 않은 영화 중에서 개인 취향에 가장 적절한 영화를 추천**한다. \n",
    "\n",
    "**SVD 학습은 TrainSet 클래스를 이용해야 한다.**"
   ]
  },
  {
   "cell_type": "code",
   "execution_count": 30,
   "id": "284c7e39-4710-4218-971a-98c6f9c6a9c0",
   "metadata": {},
   "outputs": [
    {
     "ename": "AttributeError",
     "evalue": "'DatasetAutoFolds' object has no attribute 'n_users'",
     "output_type": "error",
     "traceback": [
      "\u001b[0;31m---------------------------------------------------------------------------\u001b[0m",
      "\u001b[0;31mAttributeError\u001b[0m                            Traceback (most recent call last)",
      "Cell \u001b[0;32mIn[30], line 4\u001b[0m\n\u001b[1;32m      2\u001b[0m data \u001b[38;5;241m=\u001b[39m Dataset\u001b[38;5;241m.\u001b[39mload_from_df(ratings[[\u001b[38;5;124m'\u001b[39m\u001b[38;5;124muserId\u001b[39m\u001b[38;5;124m'\u001b[39m, \u001b[38;5;124m'\u001b[39m\u001b[38;5;124mmovieId\u001b[39m\u001b[38;5;124m'\u001b[39m, \u001b[38;5;124m'\u001b[39m\u001b[38;5;124mrating\u001b[39m\u001b[38;5;124m'\u001b[39m]], reader)\n\u001b[1;32m      3\u001b[0m algo \u001b[38;5;241m=\u001b[39m SVD(n_factors \u001b[38;5;241m=\u001b[39m \u001b[38;5;241m50\u001b[39m, random_state \u001b[38;5;241m=\u001b[39m \u001b[38;5;241m0\u001b[39m)\n\u001b[0;32m----> 4\u001b[0m \u001b[43malgo\u001b[49m\u001b[38;5;241;43m.\u001b[39;49m\u001b[43mfit\u001b[49m\u001b[43m(\u001b[49m\u001b[43mdata\u001b[49m\u001b[43m)\u001b[49m\n",
      "File \u001b[0;32m~/opt/anaconda3/envs/J/lib/python3.8/site-packages/surprise/prediction_algorithms/matrix_factorization.pyx:155\u001b[0m, in \u001b[0;36msurprise.prediction_algorithms.matrix_factorization.SVD.fit\u001b[0;34m()\u001b[0m\n",
      "File \u001b[0;32m~/opt/anaconda3/envs/J/lib/python3.8/site-packages/surprise/prediction_algorithms/matrix_factorization.pyx:196\u001b[0m, in \u001b[0;36msurprise.prediction_algorithms.matrix_factorization.SVD.sgd\u001b[0;34m()\u001b[0m\n",
      "\u001b[0;31mAttributeError\u001b[0m: 'DatasetAutoFolds' object has no attribute 'n_users'"
     ]
    }
   ],
   "source": [
    "# 아래 코드는 train_test_split( )으로 분리되지 않는 Dataset에 fit( )을 호출하여 오류를 발생한다.\n",
    "data = Dataset.load_from_df(ratings[['userId', 'movieId', 'rating']], reader)\n",
    "algo = SVD(n_factors = 50, random_state = 0)\n",
    "algo.fit(data)"
   ]
  },
  {
   "cell_type": "markdown",
   "id": "9ccb843e-80c2-43e3-997a-08d5264af96b",
   "metadata": {},
   "source": [
    "**DatasetAutoFolds를 이용한 전체 데이터를 TrainSet Class 변환**"
   ]
  },
  {
   "cell_type": "code",
   "execution_count": 31,
   "id": "5abed0f0-859c-4a83-b1f4-47f5a8b0e205",
   "metadata": {},
   "outputs": [],
   "source": [
    "from surprise.dataset import DatasetAutoFolds\n",
    "\n",
    "reader = Reader(line_format = 'user item rating timestamp', sep = ',', rating_scale = (0.5, 5))\n",
    "# DatasetAutoFolds 클래스를 ratings_noh.csv 파일 기반으로 생성. \n",
    "data_folds = DatasetAutoFolds(ratings_file = './data/ml latest small/ratings_noh.csv', reader = reader)\n",
    "\n",
    "#전체 데이터를 학습데이터로 생성한다.  \n",
    "trainset = data_folds.build_full_trainset()"
   ]
  },
  {
   "cell_type": "code",
   "execution_count": 33,
   "id": "0c1cdb70-afa3-4980-917b-55d284fbaf00",
   "metadata": {},
   "outputs": [
    {
     "name": "stdout",
     "output_type": "stream",
     "text": [
      "사용자 아이디 9는 영화 아이디 42의 평점 X\n",
      "    movieId                   title              genres\n",
      "38       42  Dead Presidents (1995)  Action|Crime|Drama\n"
     ]
    }
   ],
   "source": [
    "# 영화에 대한 상세 속성 정보 DataFrame 로딩\n",
    "movies = pd.read_csv('./data/ml latest small/movies.csv')\n",
    "\n",
    "# userId=9의 movieId 데이터 추출하여 movieId = 42 데이터가 있는지 확인 \n",
    "movieIds = ratings[ratings['userId'] == 9]['movieId']\n",
    "if movieIds[movieIds == 42].count() == 0:\n",
    "    print('사용자 아이디 9는 영화 아이디 42의 평점 X')\n",
    "\n",
    "print(movies[movies['movieId'] == 42])"
   ]
  },
  {
   "cell_type": "code",
   "execution_count": 37,
   "id": "51b0ff9c-fd04-41c2-8222-11a43d474813",
   "metadata": {},
   "outputs": [
    {
     "name": "stdout",
     "output_type": "stream",
     "text": [
      "1.1.3\n"
     ]
    }
   ],
   "source": [
    "import surprise\n",
    "print(surprise.__version__)"
   ]
  },
  {
   "cell_type": "code",
   "execution_count": 38,
   "id": "48d0ee57-db18-4ef1-b002-f49c183abd81",
   "metadata": {},
   "outputs": [
    {
     "ename": "AttributeError",
     "evalue": "'DatasetAutoFolds' object has no attribute 'to_inner_uid'",
     "output_type": "error",
     "traceback": [
      "\u001b[0;31m---------------------------------------------------------------------------\u001b[0m",
      "\u001b[0;31mAttributeError\u001b[0m                            Traceback (most recent call last)",
      "Cell \u001b[0;32mIn[38], line 4\u001b[0m\n\u001b[1;32m      1\u001b[0m uid \u001b[38;5;241m=\u001b[39m \u001b[38;5;28mstr\u001b[39m(\u001b[38;5;241m9\u001b[39m)\n\u001b[1;32m      2\u001b[0m iid \u001b[38;5;241m=\u001b[39m \u001b[38;5;28mstr\u001b[39m(\u001b[38;5;241m42\u001b[39m)\n\u001b[0;32m----> 4\u001b[0m pred \u001b[38;5;241m=\u001b[39m \u001b[43malgo\u001b[49m\u001b[38;5;241;43m.\u001b[39;49m\u001b[43mpredict\u001b[49m\u001b[43m(\u001b[49m\u001b[43muid\u001b[49m\u001b[43m,\u001b[49m\u001b[43m \u001b[49m\u001b[43miid\u001b[49m\u001b[43m,\u001b[49m\u001b[43m \u001b[49m\u001b[43mverbose\u001b[49m\u001b[43m \u001b[49m\u001b[38;5;241;43m=\u001b[39;49m\u001b[43m \u001b[49m\u001b[38;5;28;43;01mTrue\u001b[39;49;00m\u001b[43m)\u001b[49m\n",
      "File \u001b[0;32m~/opt/anaconda3/envs/J/lib/python3.8/site-packages/surprise/prediction_algorithms/algo_base.py:92\u001b[0m, in \u001b[0;36mAlgoBase.predict\u001b[0;34m(self, uid, iid, r_ui, clip, verbose)\u001b[0m\n\u001b[1;32m     90\u001b[0m \u001b[38;5;66;03m# Convert raw ids to inner ids\u001b[39;00m\n\u001b[1;32m     91\u001b[0m \u001b[38;5;28;01mtry\u001b[39;00m:\n\u001b[0;32m---> 92\u001b[0m     iuid \u001b[38;5;241m=\u001b[39m \u001b[38;5;28;43mself\u001b[39;49m\u001b[38;5;241;43m.\u001b[39;49m\u001b[43mtrainset\u001b[49m\u001b[38;5;241;43m.\u001b[39;49m\u001b[43mto_inner_uid\u001b[49m(uid)\n\u001b[1;32m     93\u001b[0m \u001b[38;5;28;01mexcept\u001b[39;00m \u001b[38;5;167;01mValueError\u001b[39;00m:\n\u001b[1;32m     94\u001b[0m     iuid \u001b[38;5;241m=\u001b[39m \u001b[38;5;124m\"\u001b[39m\u001b[38;5;124mUKN__\u001b[39m\u001b[38;5;124m\"\u001b[39m \u001b[38;5;241m+\u001b[39m \u001b[38;5;28mstr\u001b[39m(uid)\n",
      "\u001b[0;31mAttributeError\u001b[0m: 'DatasetAutoFolds' object has no attribute 'to_inner_uid'"
     ]
    }
   ],
   "source": [
    "uid = str(9)\n",
    "iid = str(42)\n",
    "\n",
    "pred = algo.predict(uid, iid, verbose = True)"
   ]
  },
  {
   "cell_type": "code",
   "execution_count": 40,
   "id": "33111b61-7e82-4ad7-ad4c-e18b6a2eec00",
   "metadata": {},
   "outputs": [
    {
     "name": "stdout",
     "output_type": "stream",
     "text": [
      "평점 매긴 영화수: 46 추천대상 영화수: 9696 전체 영화수: 9742\n"
     ]
    }
   ],
   "source": [
    "def get_unseen_surprise(ratings, movies, userId):\n",
    "    #입력값으로 들어온 userId에 해당하는 사용자가 평점을 매긴 모든 영화를 리스트로 생성\n",
    "    seen_movies = ratings[ratings['userId'] == userId]['movieId'].tolist()\n",
    "    \n",
    "    # 모든 영화들의 movieId를 리스트로 생성\n",
    "    total_movies = movies['movieId'].tolist()\n",
    "    \n",
    "    # 모든 영화들의 movieId중 이미 평점을 매긴 영화의 movieId를 제외하여 리스트로 생성\n",
    "    unseen_movies = [movie for movie in total_movies if movie not in seen_movies]\n",
    "    print('평점 매긴 영화수:',len(seen_movies), '추천대상 영화수:', len(unseen_movies), \\\n",
    "          '전체 영화수:',len(total_movies))\n",
    "    \n",
    "    return unseen_movies\n",
    "\n",
    "unseen_movies = get_unseen_surprise(ratings, movies, 9)"
   ]
  },
  {
   "cell_type": "markdown",
   "id": "c74dc7d7-588a-450a-8024-8ab2df86050b",
   "metadata": {},
   "source": [
    "recomm_movie_by_surprise()는 추천 대상 영화 모두를 대상으로 추천 알고리즘 객체의 predict() 메서드를 호출하고 그 결과인 Prediction 객체를 리스트 객체로 저장한다. "
   ]
  },
  {
   "cell_type": "code",
   "execution_count": 41,
   "id": "6b64f493-8385-4ba8-9e49-4d2f94fed552",
   "metadata": {},
   "outputs": [
    {
     "name": "stdout",
     "output_type": "stream",
     "text": [
      "평점 매긴 영화수: 46 추천대상 영화수: 9696 전체 영화수: 9742\n"
     ]
    },
    {
     "ename": "AttributeError",
     "evalue": "'DatasetAutoFolds' object has no attribute 'to_inner_uid'",
     "output_type": "error",
     "traceback": [
      "\u001b[0;31m---------------------------------------------------------------------------\u001b[0m",
      "\u001b[0;31mAttributeError\u001b[0m                            Traceback (most recent call last)",
      "Cell \u001b[0;32mIn[41], line 25\u001b[0m\n\u001b[1;32m     22\u001b[0m     \u001b[38;5;28;01mreturn\u001b[39;00m top_movie_preds\n\u001b[1;32m     24\u001b[0m unseen_movies \u001b[38;5;241m=\u001b[39m get_unseen_surprise(ratings, movies, \u001b[38;5;241m9\u001b[39m)\n\u001b[0;32m---> 25\u001b[0m top_movie_preds \u001b[38;5;241m=\u001b[39m \u001b[43mrecomm_movie_by_surprise\u001b[49m\u001b[43m(\u001b[49m\u001b[43malgo\u001b[49m\u001b[43m,\u001b[49m\u001b[43m \u001b[49m\u001b[38;5;241;43m9\u001b[39;49m\u001b[43m,\u001b[49m\u001b[43m \u001b[49m\u001b[43munseen_movies\u001b[49m\u001b[43m,\u001b[49m\u001b[43m \u001b[49m\u001b[43mtop_n\u001b[49m\u001b[43m \u001b[49m\u001b[38;5;241;43m=\u001b[39;49m\u001b[43m \u001b[49m\u001b[38;5;241;43m10\u001b[39;49m\u001b[43m)\u001b[49m\n\u001b[1;32m     26\u001b[0m \u001b[38;5;28mprint\u001b[39m(\u001b[38;5;124m'\u001b[39m\u001b[38;5;124mTop-10 추천 영화 리스트\u001b[39m\u001b[38;5;124m'\u001b[39m)\n\u001b[1;32m     28\u001b[0m \u001b[38;5;28;01mfor\u001b[39;00m top_movie \u001b[38;5;129;01min\u001b[39;00m top_movie_preds:\n",
      "Cell \u001b[0;32mIn[41], line 3\u001b[0m, in \u001b[0;36mrecomm_movie_by_surprise\u001b[0;34m(algo, userId, unseen_movies, top_n)\u001b[0m\n\u001b[1;32m      1\u001b[0m \u001b[38;5;28;01mdef\u001b[39;00m \u001b[38;5;21mrecomm_movie_by_surprise\u001b[39m(algo, userId, unseen_movies, top_n \u001b[38;5;241m=\u001b[39m \u001b[38;5;241m10\u001b[39m):\n\u001b[1;32m      2\u001b[0m     \u001b[38;5;66;03m# 알고리즘 객체의 predict() 메서드를 평점이 없는 영화에 반복 수행한 후 결과를 list 객체로 저장\u001b[39;00m\n\u001b[0;32m----> 3\u001b[0m     predictions \u001b[38;5;241m=\u001b[39m [algo\u001b[38;5;241m.\u001b[39mpredict(\u001b[38;5;28mstr\u001b[39m(userId), \u001b[38;5;28mstr\u001b[39m(movieId)) \u001b[38;5;28;01mfor\u001b[39;00m movieId \u001b[38;5;129;01min\u001b[39;00m unseen_movies]\n\u001b[1;32m      5\u001b[0m     \u001b[38;5;66;03m# predictions list 객체는 surprise의 Predictions 객체를 원소로 가지고 있다.\u001b[39;00m\n\u001b[1;32m      6\u001b[0m     \u001b[38;5;66;03m# [Prediction(uid = '9', iid = '1', est = 3.69), Prediction(uid = '9', iid = '2', est = 2.98)...]\u001b[39;00m\n\u001b[1;32m      7\u001b[0m     \u001b[38;5;66;03m# 이를 est 값으로 정렬하기 위해서 아래의 sortkey_est 함수를 정의\u001b[39;00m\n\u001b[1;32m      8\u001b[0m     \u001b[38;5;66;03m# sortkey_est 함수는 list 객체의 sort() 함수의 키 값으로 사용되어 정렬 수행\u001b[39;00m\n\u001b[1;32m      9\u001b[0m     \u001b[38;5;28;01mdef\u001b[39;00m \u001b[38;5;21msortkey_est\u001b[39m(pred):\n",
      "Cell \u001b[0;32mIn[41], line 3\u001b[0m, in \u001b[0;36m<listcomp>\u001b[0;34m(.0)\u001b[0m\n\u001b[1;32m      1\u001b[0m \u001b[38;5;28;01mdef\u001b[39;00m \u001b[38;5;21mrecomm_movie_by_surprise\u001b[39m(algo, userId, unseen_movies, top_n \u001b[38;5;241m=\u001b[39m \u001b[38;5;241m10\u001b[39m):\n\u001b[1;32m      2\u001b[0m     \u001b[38;5;66;03m# 알고리즘 객체의 predict() 메서드를 평점이 없는 영화에 반복 수행한 후 결과를 list 객체로 저장\u001b[39;00m\n\u001b[0;32m----> 3\u001b[0m     predictions \u001b[38;5;241m=\u001b[39m [\u001b[43malgo\u001b[49m\u001b[38;5;241;43m.\u001b[39;49m\u001b[43mpredict\u001b[49m\u001b[43m(\u001b[49m\u001b[38;5;28;43mstr\u001b[39;49m\u001b[43m(\u001b[49m\u001b[43muserId\u001b[49m\u001b[43m)\u001b[49m\u001b[43m,\u001b[49m\u001b[43m \u001b[49m\u001b[38;5;28;43mstr\u001b[39;49m\u001b[43m(\u001b[49m\u001b[43mmovieId\u001b[49m\u001b[43m)\u001b[49m\u001b[43m)\u001b[49m \u001b[38;5;28;01mfor\u001b[39;00m movieId \u001b[38;5;129;01min\u001b[39;00m unseen_movies]\n\u001b[1;32m      5\u001b[0m     \u001b[38;5;66;03m# predictions list 객체는 surprise의 Predictions 객체를 원소로 가지고 있다.\u001b[39;00m\n\u001b[1;32m      6\u001b[0m     \u001b[38;5;66;03m# [Prediction(uid = '9', iid = '1', est = 3.69), Prediction(uid = '9', iid = '2', est = 2.98)...]\u001b[39;00m\n\u001b[1;32m      7\u001b[0m     \u001b[38;5;66;03m# 이를 est 값으로 정렬하기 위해서 아래의 sortkey_est 함수를 정의\u001b[39;00m\n\u001b[1;32m      8\u001b[0m     \u001b[38;5;66;03m# sortkey_est 함수는 list 객체의 sort() 함수의 키 값으로 사용되어 정렬 수행\u001b[39;00m\n\u001b[1;32m      9\u001b[0m     \u001b[38;5;28;01mdef\u001b[39;00m \u001b[38;5;21msortkey_est\u001b[39m(pred):\n",
      "File \u001b[0;32m~/opt/anaconda3/envs/J/lib/python3.8/site-packages/surprise/prediction_algorithms/algo_base.py:92\u001b[0m, in \u001b[0;36mAlgoBase.predict\u001b[0;34m(self, uid, iid, r_ui, clip, verbose)\u001b[0m\n\u001b[1;32m     90\u001b[0m \u001b[38;5;66;03m# Convert raw ids to inner ids\u001b[39;00m\n\u001b[1;32m     91\u001b[0m \u001b[38;5;28;01mtry\u001b[39;00m:\n\u001b[0;32m---> 92\u001b[0m     iuid \u001b[38;5;241m=\u001b[39m \u001b[38;5;28;43mself\u001b[39;49m\u001b[38;5;241;43m.\u001b[39;49m\u001b[43mtrainset\u001b[49m\u001b[38;5;241;43m.\u001b[39;49m\u001b[43mto_inner_uid\u001b[49m(uid)\n\u001b[1;32m     93\u001b[0m \u001b[38;5;28;01mexcept\u001b[39;00m \u001b[38;5;167;01mValueError\u001b[39;00m:\n\u001b[1;32m     94\u001b[0m     iuid \u001b[38;5;241m=\u001b[39m \u001b[38;5;124m\"\u001b[39m\u001b[38;5;124mUKN__\u001b[39m\u001b[38;5;124m\"\u001b[39m \u001b[38;5;241m+\u001b[39m \u001b[38;5;28mstr\u001b[39m(uid)\n",
      "\u001b[0;31mAttributeError\u001b[0m: 'DatasetAutoFolds' object has no attribute 'to_inner_uid'"
     ]
    }
   ],
   "source": [
    "def recomm_movie_by_surprise(algo, userId, unseen_movies, top_n = 10):\n",
    "    # 알고리즘 객체의 predict() 메서드를 평점이 없는 영화에 반복 수행한 후 결과를 list 객체로 저장\n",
    "    predictions = [algo.predict(str(userId), str(movieId)) for movieId in unseen_movies]\n",
    "    \n",
    "    # predictions list 객체는 surprise의 Predictions 객체를 원소로 가지고 있다.\n",
    "    # [Prediction(uid = '9', iid = '1', est = 3.69), Prediction(uid = '9', iid = '2', est = 2.98)...]\n",
    "    # 이를 est 값으로 정렬하기 위해서 아래의 sortkey_est 함수를 정의\n",
    "    # sortkey_est 함수는 list 객체의 sort() 함수의 키 값으로 사용되어 정렬 수행\n",
    "    def sortkey_est(pred):\n",
    "        return pred.est\n",
    "    \n",
    "    # sortkey_est( ) 반환값의 내림 차순으로 정렬 수행하고 top_n개의 최상위 값 추출\n",
    "    predictions.sort(key = sortkey_est, reverse = True)\n",
    "    top_predictions= predictions[:top_n]\n",
    "    \n",
    "    # top_n으로 추출된 영화의 정보 추출. 영화 아이디, 추천 예상 평점, 제목 추출\n",
    "    top_movie_ids = [ int(pred.iid) for pred in top_predictions]\n",
    "    top_movie_rating = [ pred.est for pred in top_predictions]\n",
    "    top_movie_titles = movies[movies.movieId.isin(top_movie_ids)]['title']\n",
    "    top_movie_preds = [ (id, title, rating) for id, title, rating in zip(top_movie_ids, top_movie_titles, top_movie_rating)]\n",
    "    \n",
    "    return top_movie_preds\n",
    "\n",
    "unseen_movies = get_unseen_surprise(ratings, movies, 9)\n",
    "top_movie_preds = recomm_movie_by_surprise(algo, 9, unseen_movies, top_n = 10)\n",
    "print('Top-10 추천 영화 리스트')\n",
    "\n",
    "for top_movie in top_movie_preds:\n",
    "    print(top_movie[1], \":\", top_movie[2])"
   ]
  }
 ],
 "metadata": {
  "kernelspec": {
   "display_name": "Python 3 (ipykernel)",
   "language": "python",
   "name": "python3"
  },
  "language_info": {
   "codemirror_mode": {
    "name": "ipython",
    "version": 3
   },
   "file_extension": ".py",
   "mimetype": "text/x-python",
   "name": "python",
   "nbconvert_exporter": "python",
   "pygments_lexer": "ipython3",
   "version": "3.8.13"
  }
 },
 "nbformat": 4,
 "nbformat_minor": 5
}
