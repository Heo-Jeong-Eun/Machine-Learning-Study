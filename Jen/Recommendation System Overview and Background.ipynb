{
 "cells": [
  {
   "cell_type": "markdown",
   "id": "73c0d60a-4521-4973-8122-a5a30451a3d0",
   "metadata": {},
   "source": [
    "# chapter 9. Recommendation System"
   ]
  },
  {
   "cell_type": "markdown",
   "id": "436ef3e7-69bc-4642-819f-95bfcda05604",
   "metadata": {},
   "source": [
    "## Recommendation System Overview and Background"
   ]
  },
  {
   "cell_type": "markdown",
   "id": "47e833ee-0b92-4087-8eab-3726669fe3f0",
   "metadata": {},
   "source": [
    "### Type of Recommendation System Overview\n",
    "\n",
    "추천 시스템은 크게 **콘텐츠 기반 필터링(Content Based Filtering)방식**과 **협업 필터링(Collaborative Filtering) 방식**으로 나뉜다. 그리고 협업 필터링 방식은 다시 **최근접 이웃 협업 필터링(Nearest Neighbor)** 과 **잠재 요인 협업 필터링(Latent Factor)** 으로 나뉜다. <br>\n",
    "\n",
    "추천 시스템은 초창기에 콘텐츠 기반 필터링이나 최근접 이웃 기반 협업 필터링을 주로 사용했지만, 넷플릭스 추천 시스템 경연 대회에서 행렬 분해 기법을 사용한 잠재 요인 협업 필터링 방식이 우승하면서 대부분의 온라인 스토어에서는 잠재 요인 협업 필터링 기반의 추천 시스템을 적용하고 있다. <br>\n",
    "최근에는 개인화 특성을 좀 더 강화하기 위해 하이브리드 형식으로 콘텐츠 기반과 협업 기반을 적절히 결합해 사용하는 경우도 늘고 있다. <br>"
   ]
  }
 ],
 "metadata": {
  "kernelspec": {
   "display_name": "Python 3 (ipykernel)",
   "language": "python",
   "name": "python3"
  },
  "language_info": {
   "codemirror_mode": {
    "name": "ipython",
    "version": 3
   },
   "file_extension": ".py",
   "mimetype": "text/x-python",
   "name": "python",
   "nbconvert_exporter": "python",
   "pygments_lexer": "ipython3",
   "version": "3.8.13"
  }
 },
 "nbformat": 4,
 "nbformat_minor": 5
}
