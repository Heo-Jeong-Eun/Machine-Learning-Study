{
 "cells": [
  {
   "cell_type": "markdown",
   "id": "3d52bd55-1184-4289-b480-06b58cc263a8",
   "metadata": {},
   "source": [
    "# chapter 8. Text Analysis"
   ]
  },
  {
   "cell_type": "markdown",
   "id": "8e9c992c-123c-42e5-8e13-0e3042ffbf7a",
   "metadata": {},
   "source": [
    "**NLP VS Text Analysis**\n",
    "\n",
    "NLP는 기계가 인간의 언어를 이해하고 해석하는데 중점을 두고 기술이 발전했으며, Text Mining이라고도 불리는 텍스트 분석은 비정형 텍스트에서 의미있는 정보를 추출하는 것에 중점을 두는 방향으로 기술이 발전해왔다. <br>\n",
    "NLP의 영역에는 언어를 해석하기 위한 기계 번역, 자동으로 질문을 해br석하고 답을 주는 질의응답 시스템 등의 영역에서 텍스트 분석과 차별점이 있다. <br>\n",
    "NLP는 텍스트 분석을 향상하게 하는 기반 기술이라고 할 수 있다. <br>\n",
    "텍스트 분석은 머신러닝, 언어 이해, 통계 등을 활용해 모델을 수립하고 정보를 추출해 비지니스 인텔리전스나 예측 분석 등의 분석 작업을 주로 수행한다. <br>\n",
    "\n",
    "- 텍스트 분류 (Text Classification) : 문서가 특정 분류 또는 카테고리에 속하는 것을 예측하는 기법을 통칭 \n",
    "- 감정 분석 (Sentiment Analysis) : 주관적인 요소를 분석하는 기법\n",
    "- 텍스트 요약 (Summarization) : 텍스트 내 중요한 주제나 중심 사상을 추출하는 기법\n",
    "- 텍스트 군집화와 유사도 측정 (Clustering) : 비슷한 유형의 문서에 대해 군집화를 수행하는 기법"
   ]
  },
  {
   "cell_type": "markdown",
   "id": "04a53134-3572-42ae-8f8e-4eef85c3313e",
   "metadata": {},
   "source": [
    "## 텍스트 분석 이해 \n",
    "\n",
    "텍스트 분석은 비정형 데이터인 텍스트를 분석하는 것이다. <br>\n",
    "텍스트를 word 기반 다수의 피처로 추출하고 이 피처에 단어 빈도수와 같은 숫자 값을 부여하면 텍스트는 단어의 조합인 벡터값으로 표현될 수 있는데, 이렇게 텍스트를 변환하는 것을 피처 벡터화 또는 피처 추출이라고 한다. <br>\n",
    "\n",
    "### 텍스트 분석 수행 프로세스 \n",
    "1. 텍스트 사전 준비 작업 : 텍스트를 피처로 만들기 전에 미리 클렌징, 대 / 소문자 변경, 특수 문자 삭제 등의 클렌징 작업, 단어 등의 토큰화 작업, 의미 없는 단어 제거 작업, 어근 추출 등의 텍스트 정규화 작업을 수행하는 것을 통칭한다.\n",
    "2. 피처 벡터화 / 추출 : 사전 준비 작업으로 가공된 텍스트에서 피처를 추출하고 여기에 벡터 값을 할당한다. 대표적인 방법으로 BOW, Word2Vec이 있으며, BOW는 대표적으로 Count 기반과 TF-DF 기반 벡터화가 있다.\n",
    "3. ML 모델 수립 및 학습 / 예측 / 평가 : 피처 벡터화된 데이터 세트에 ML 모델을 적용해 학습 / 예측 및 평가를 수행한다.\n",
    "\n",
    "### 파이썬 기반 NLP, 텍스트 분석 패키지 \n",
    "1. NLTK : 파이썬의 가장 대표적인 NLP 패키지, 방대한 데이터 세트와 서브 모듈을 가지고 있으며, NLP의 거의 모든 영역을 커버한다. 수행 속도 측면에서 아쉬운 부분이 있어 실제 대량의 데이터 기반에서는 제대로 활용되지 못한다. \n",
    "2. Gensim : 토픽 모델링 분야에서 가장 두각을 나타내는 패키지, 오래 전부터 토픽 모델링을 쉽게 구현할 수 있는 기능을 제공해왔다.\n",
    "3. SpaCy : 뛰어난 수행 성능으로 최근 가장 주목받는 NLP 패키지이다. "
   ]
  }
 ],
 "metadata": {
  "kernelspec": {
   "display_name": "Python 3 (ipykernel)",
   "language": "python",
   "name": "python3"
  },
  "language_info": {
   "codemirror_mode": {
    "name": "ipython",
    "version": 3
   },
   "file_extension": ".py",
   "mimetype": "text/x-python",
   "name": "python",
   "nbconvert_exporter": "python",
   "pygments_lexer": "ipython3",
   "version": "3.8.13"
  }
 },
 "nbformat": 4,
 "nbformat_minor": 5
}
