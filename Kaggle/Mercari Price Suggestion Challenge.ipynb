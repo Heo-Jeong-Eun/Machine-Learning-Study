{
 "cells": [
  {
   "cell_type": "markdown",
   "id": "61861ff6-9438-4d47-b350-5de36e0bcbb3",
   "metadata": {},
   "source": [
    "# <a href = 'https://www.kaggle.com/c/mercari-price-suggestion-challenge'>Mercari Price Suggestion Challenge</a>"
   ]
  },
  {
   "cell_type": "markdown",
   "id": "07593351-6671-49f5-ace2-8f2059009774",
   "metadata": {},
   "source": [
    "- train_id : 데이터 id\n",
    "- name : 제품명\n",
    "- item_condition_id : 판매자가 제공하는 제품 상태 \n",
    "- category_name : 카테고리 이름 \n",
    "- brand_name : 브랜드 이름\n",
    "- price : 제품 가격, 예측을 위한 타깃 속성\n",
    "- shipping : 배송비 무료 여부, 1이면 무료(판매자가 지불), 0이면 유료(구매자가 지불)\n",
    "- item_description : 제품에 대한 설명"
   ]
  },
  {
   "cell_type": "markdown",
   "id": "a6b5b2d4-91e5-4c28-b1d8-eb613698514e",
   "metadata": {},
   "source": [
    "### Data Preprocessing"
   ]
  },
  {
   "cell_type": "code",
   "execution_count": 5,
   "id": "2b0a7dd2-98ac-4dfc-8cf0-8c292f505209",
   "metadata": {},
   "outputs": [
    {
     "name": "stdout",
     "output_type": "stream",
     "text": [
      "(1482535, 8)\n"
     ]
    },
    {
     "data": {
      "text/html": [
       "<div>\n",
       "<style scoped>\n",
       "    .dataframe tbody tr th:only-of-type {\n",
       "        vertical-align: middle;\n",
       "    }\n",
       "\n",
       "    .dataframe tbody tr th {\n",
       "        vertical-align: top;\n",
       "    }\n",
       "\n",
       "    .dataframe thead th {\n",
       "        text-align: right;\n",
       "    }\n",
       "</style>\n",
       "<table border=\"1\" class=\"dataframe\">\n",
       "  <thead>\n",
       "    <tr style=\"text-align: right;\">\n",
       "      <th></th>\n",
       "      <th>train_id</th>\n",
       "      <th>name</th>\n",
       "      <th>item_condition_id</th>\n",
       "      <th>category_name</th>\n",
       "      <th>brand_name</th>\n",
       "      <th>price</th>\n",
       "      <th>shipping</th>\n",
       "      <th>item_description</th>\n",
       "    </tr>\n",
       "  </thead>\n",
       "  <tbody>\n",
       "    <tr>\n",
       "      <th>0</th>\n",
       "      <td>0</td>\n",
       "      <td>MLB Cincinnati Reds T Shirt Size XL</td>\n",
       "      <td>3</td>\n",
       "      <td>Men/Tops/T-shirts</td>\n",
       "      <td>NaN</td>\n",
       "      <td>10.0</td>\n",
       "      <td>1</td>\n",
       "      <td>No description yet</td>\n",
       "    </tr>\n",
       "    <tr>\n",
       "      <th>1</th>\n",
       "      <td>1</td>\n",
       "      <td>Razer BlackWidow Chroma Keyboard</td>\n",
       "      <td>3</td>\n",
       "      <td>Electronics/Computers &amp; Tablets/Components &amp; P...</td>\n",
       "      <td>Razer</td>\n",
       "      <td>52.0</td>\n",
       "      <td>0</td>\n",
       "      <td>This keyboard is in great condition and works ...</td>\n",
       "    </tr>\n",
       "    <tr>\n",
       "      <th>2</th>\n",
       "      <td>2</td>\n",
       "      <td>AVA-VIV Blouse</td>\n",
       "      <td>1</td>\n",
       "      <td>Women/Tops &amp; Blouses/Blouse</td>\n",
       "      <td>Target</td>\n",
       "      <td>10.0</td>\n",
       "      <td>1</td>\n",
       "      <td>Adorable top with a hint of lace and a key hol...</td>\n",
       "    </tr>\n",
       "  </tbody>\n",
       "</table>\n",
       "</div>"
      ],
      "text/plain": [
       "   train_id                                 name  item_condition_id  \\\n",
       "0         0  MLB Cincinnati Reds T Shirt Size XL                  3   \n",
       "1         1     Razer BlackWidow Chroma Keyboard                  3   \n",
       "2         2                       AVA-VIV Blouse                  1   \n",
       "\n",
       "                                       category_name brand_name  price  \\\n",
       "0                                  Men/Tops/T-shirts        NaN   10.0   \n",
       "1  Electronics/Computers & Tablets/Components & P...      Razer   52.0   \n",
       "2                        Women/Tops & Blouses/Blouse     Target   10.0   \n",
       "\n",
       "   shipping                                   item_description  \n",
       "0         1                                 No description yet  \n",
       "1         0  This keyboard is in great condition and works ...  \n",
       "2         1  Adorable top with a hint of lace and a key hol...  "
      ]
     },
     "execution_count": 5,
     "metadata": {},
     "output_type": "execute_result"
    }
   ],
   "source": [
    "from sklearn.linear_model import Ridge, LogisticRegression\n",
    "from sklearn.model_selection import train_test_split, cross_val_score\n",
    "from sklearn.feature_extraction.text import CountVectorizer, TfidfVectorizer\n",
    "import pandas as pd\n",
    "\n",
    "mercari_df = pd.read_csv('data/mercari_train.tsv', sep='\\t')\n",
    "print(mercari_df.shape)\n",
    "mercari_df.head(3)"
   ]
  },
  {
   "cell_type": "code",
   "execution_count": 6,
   "id": "86486e29-4953-4108-9f88-17187268f81e",
   "metadata": {},
   "outputs": [
    {
     "name": "stdout",
     "output_type": "stream",
     "text": [
      "<class 'pandas.core.frame.DataFrame'>\n",
      "RangeIndex: 1482535 entries, 0 to 1482534\n",
      "Data columns (total 8 columns):\n",
      " #   Column             Non-Null Count    Dtype  \n",
      "---  ------             --------------    -----  \n",
      " 0   train_id           1482535 non-null  int64  \n",
      " 1   name               1482535 non-null  object \n",
      " 2   item_condition_id  1482535 non-null  int64  \n",
      " 3   category_name      1476208 non-null  object \n",
      " 4   brand_name         849853 non-null   object \n",
      " 5   price              1482535 non-null  float64\n",
      " 6   shipping           1482535 non-null  int64  \n",
      " 7   item_description   1482529 non-null  object \n",
      "dtypes: float64(1), int64(3), object(4)\n",
      "memory usage: 90.5+ MB\n",
      "None\n"
     ]
    }
   ],
   "source": [
    "print(mercari_df.info())"
   ]
  },
  {
   "cell_type": "markdown",
   "id": "254a415c-8a96-4b11-8dfc-fd1f96e4728f",
   "metadata": {},
   "source": [
    "brand_name column의 경우 많은 양의 Null을 가지고 있다. 전체 1482535건 중 849853건만 Not Null이다. <br>\n",
    "brand_name은 가격에 영향을 미치는 중요한 요인으로 판단되지만, 많은 데이터가 Null이다. <br> \n",
    "Null 데이터는 이후 적절한 문자열로 치환이 필요하다. "
   ]
  },
  {
   "cell_type": "markdown",
   "id": "8cd254d3-2e58-4e0f-a25d-5d4de697f562",
   "metadata": {},
   "source": [
    "회귀에서 target 값의 정규 분포도는 매우 중요하므로 target 값인 price column의 데이터 분포도를 확인해야 한다. <br>\n",
    "왜곡돼 있을 경우 보통 log를 씌워 변환하면 대부분 정규 분포의 형태를 가지게 된다. <br>\n",
    "먼저 price column의 데이터 값 분포도를 확인한다."
   ]
  },
  {
   "cell_type": "code",
   "execution_count": 7,
   "id": "8b4c1a42-2e98-43dd-b634-f1e1c85effa2",
   "metadata": {},
   "outputs": [
    {
     "data": {
      "image/png": "[encoded data removed]",
      "text/plain": [
       "<Figure size 600x400 with 1 Axes>"
      ]
     },
     "metadata": {},
     "output_type": "display_data"
    }
   ],
   "source": [
    "import matplotlib.pyplot as plt\n",
    "import seaborn as sns\n",
    "\n",
    "y_train_df = mercari_df['price']\n",
    "plt.figure(figsize = (6, 4))\n",
    "sns.histplot(y_train_df, bins = 100)\n",
    "plt.show()"
   ]
  },
  {
   "cell_type": "markdown",
   "id": "e00696c9-cb1a-4143-8e35-9eadf1240857",
   "metadata": {},
   "source": [
    "price 값이 비교적 적은 가격을 가진 데이터 값에 왜곡돼 분포되어 있다. price column을 log 값으로 변환한 뒤 분포도를 다시 살펴보아야 한다. "
   ]
  },
  {
   "cell_type": "code",
   "execution_count": 10,
   "id": "1d24dcd9-7d0b-4ac9-bdaf-1abf24b2bc1e",
   "metadata": {},
   "outputs": [
    {
     "data": {
      "image/png": "[encoded data removed]",
      "text/plain": [
       "<Figure size 640x480 with 1 Axes>"
      ]
     },
     "metadata": {},
     "output_type": "display_data"
    }
   ],
   "source": [
    "import numpy as np\n",
    "\n",
    "y_tarin_df = np.log1p(y_train_df)\n",
    "sns.histplot(y_train_df, bins = 50)\n",
    "plt.show()"
   ]
  },
  {
   "cell_type": "markdown",
   "id": "c51b05b1-5c7c-410c-9b06-fc349d1b71b6",
   "metadata": {},
   "source": [
    "log 값으로 변환하면 price 값이 비교적 정규 분포에 가까운 데이터를 이루게 된다. <br>\n",
    "데이터 세트의 price column을 원래 값에서 log로 변환된 값으로 변경한다. "
   ]
  },
  {
   "cell_type": "code",
   "execution_count": 11,
   "id": "29bbbc9e-086b-4921-8567-4ec6dc55f7e9",
   "metadata": {},
   "outputs": [
    {
     "data": {
      "text/plain": [
       "0    2.397895\n",
       "1    3.970292\n",
       "2    2.397895\n",
       "Name: price, dtype: float64"
      ]
     },
     "execution_count": 11,
     "metadata": {},
     "output_type": "execute_result"
    }
   ],
   "source": [
    "mercari_df['price'] = np.log1p(mercari_df['price'])\n",
    "mercari_df['price'].head(3)"
   ]
  },
  {
   "cell_type": "markdown",
   "id": "d7117bbb-5f6c-4763-a60b-ea85f444c537",
   "metadata": {},
   "source": [
    "shipping과 item_condition_id 값의 유형은 다음과 같다. "
   ]
  },
  {
   "cell_type": "code",
   "execution_count": 14,
   "id": "496532b9-ace6-4f57-83fc-22352c36bd66",
   "metadata": {},
   "outputs": [
    {
     "name": "stdout",
     "output_type": "stream",
     "text": [
      "shipping 값 유형 : shipping\n",
      "0    819435\n",
      "1    663100\n",
      "Name: count, dtype: int64\n",
      "\n",
      "\n",
      "item_condition_id 값 유형 : item_condition_id\n",
      "1    640549\n",
      "3    432161\n",
      "2    375479\n",
      "4     31962\n",
      "5      2384\n",
      "Name: count, dtype: int64\n"
     ]
    }
   ],
   "source": [
    "print('shipping 값 유형 :', mercari_df['shipping'].value_counts())\n",
    "print('\\n')\n",
    "print('item_condition_id 값 유형 :', mercari_df['item_condition_id'].value_counts())"
   ]
  },
  {
   "cell_type": "markdown",
   "id": "b0d186fd-f4de-4a05-8f52-7fdb02ab711e",
   "metadata": {},
   "source": [
    "shipping column은 배송비 유무이며, 값이 비교적 균일하다. <br> \n",
    "item_condition_id는 판매자가 제공하는 제품 상태로 각 값이 의미하는 바는 kaggle에 기재되어 있지 않아 알 수 없지만 1, 2, 3 값이 주를 이루고 있다. <br>\n",
    "\n",
    "item_description column은 Null 값이 별로 없지만, 별도 설명이 없는 경우 'No discription yet' 값으로 표시되어 있다. "
   ]
  },
  {
   "cell_type": "code",
   "execution_count": 17,
   "id": "87fc390d-96f8-4fd3-94c0-4c65c7029e60",
   "metadata": {},
   "outputs": [
    {
     "data": {
      "text/plain": [
       "82489"
      ]
     },
     "execution_count": 17,
     "metadata": {},
     "output_type": "execute_result"
    }
   ],
   "source": [
    "boolean_cond = mercari_df['item_description'] == 'No description yet'\n",
    "mercari_df[boolean_cond]['item_description'].count()"
   ]
  },
  {
   "cell_type": "markdown",
   "id": "de93b220-e569-41ac-9162-94d0fc1f447a",
   "metadata": {},
   "source": [
    "'No discription yet'의 경우 Null과 마찬가지로 의미 없는 속성값이기 때문에 적절한 값으로 변경이 필요하다. "
   ]
  },
  {
   "cell_type": "markdown",
   "id": "b8fc5939-df44-4a6d-8913-2388c93839e2",
   "metadata": {},
   "source": [
    "category_name은 '/'으로 분리된 카고리를 하나의 문자열로 나타내고 있다. <br>\n",
    "category_name colum을 '/'를 기준으로 대, 중, 소분류를 효과적으로 분리해내기 위해 별도의 split_cat() 함수를 생성하고 이를 apply lambda식에 적용한다. <br>\n",
    "category_name은 약 6300개의 Null 값을 가지고 있으므로 이를 분리해야한다. <br>\n",
    "만일 category_name이 Null일 경우 split() 함수에 error가 발생하므로 이 error를 except catch하여 대, 중, 소 분류 모두 'Other Null' 값을 부여한다. <br>\n",
    "pandas의 apply lambda로 반환되는 데이터 세트가 리스트를 요소로 가지고 있는데, 이를 다시 cat_dae, cat_jung, cat_so의 df column으로 분리해야하는 것이다. #"
   ]
  },
  {
   "cell_type": "code",
   "execution_count": 18,
   "id": "8d048e38-7261-400a-be07-97116525843b",
   "metadata": {},
   "outputs": [
    {
     "name": "stdout",
     "output_type": "stream",
     "text": [
      "대분류 유형 : cat_dae\n",
      "Women                     664385\n",
      "Beauty                    207828\n",
      "Kids                      171689\n",
      "Electronics               122690\n",
      "Men                        93680\n",
      "Home                       67871\n",
      "Vintage & Collectibles     46530\n",
      "Other                      45351\n",
      "Handmade                   30842\n",
      "Sports & Outdoors          25342\n",
      "Other_Null                  6327\n",
      "Name: count, dtype: int64\n",
      "중분류 갯수 : 114\n",
      "소분류 갯수 : 871\n"
     ]
    }
   ],
   "source": [
    "# apply lambda에서 호출되는 대, 중, 소 분할 함수 생성 \n",
    "# 대, 중, 소 값을 리스트로 반환\n",
    "def split_cat(category_name):\n",
    "    try:\n",
    "        return category_name.split('/')\n",
    "    except:\n",
    "        return['Other_Null', 'Other_Null', 'Other_Null']\n",
    "\n",
    "# 위 split_cat()을 apply lambda에서 호출해 대, 중, 소 column을 mercari_df에 생성\n",
    "mercari_df['cat_dae'], mercari_df['cat_jung'], mercari_df['cat_so'] = \\\n",
    "    zip(*mercari_df['category_name'].apply(lambda x : split_cat(x)))\n",
    "\n",
    "# 대분류만 값의 유형과 건수를 살펴보고, 중, 소분류는 값의 유형이 많으므로 갯수만 print\n",
    "print('대분류 유형 :', mercari_df['cat_dae'].value_counts())\n",
    "print('중분류 갯수 :', mercari_df['cat_jung'].nunique())\n",
    "print('소분류 갯수 :', mercari_df['cat_so'].nunique())"
   ]
  },
  {
   "cell_type": "markdown",
   "id": "a4f2334a-a23b-4fb4-8892-ee3d81e525df",
   "metadata": {},
   "source": [
    "brand_name은 price 값 결정에 영향을 많이 줄 것으로 판단되지만, Null 값이 매우 많다. <br>\n",
    "이 Null 값을 다른 값으로 변경하는 것은 적절하지 않을 것으로 판단되므로 'Other_Null'로 변경한다. "
   ]
  },
  {
   "cell_type": "code",
   "execution_count": 21,
   "id": "dc83609f-9b4f-4b00-9fff-90a482181ce0",
   "metadata": {},
   "outputs": [
    {
     "data": {
      "text/plain": [
       "train_id             0\n",
       "name                 0\n",
       "item_condition_id    0\n",
       "category_name        0\n",
       "brand_name           0\n",
       "price                0\n",
       "shipping             0\n",
       "item_description     0\n",
       "cat_dae              0\n",
       "cat_jung             0\n",
       "cat_so               0\n",
       "dtype: int64"
      ]
     },
     "execution_count": 21,
     "metadata": {},
     "output_type": "execute_result"
    }
   ],
   "source": [
    "mercari_df['brand_name'] = mercari_df['brand_name'].fillna(value = 'Other_Null')\n",
    "mercari_df['category_name'] = mercari_df['category_name'].fillna(value = 'Other_Null')\n",
    "mercari_df['item_description'] = mercari_df['item_description'].fillna(value = 'Other_Null')\n",
    "\n",
    "# 각 column별로 Null 값 건수 확인, 모두 0이 나와야 한다. \n",
    "mercari_df.isnull().sum()"
   ]
  },
  {
   "cell_type": "markdown",
   "id": "bdb9fdef-2fd5-4b2d-a141-d62bf66a3d5f",
   "metadata": {},
   "source": [
    "### Feature Incoding과 Feature Vectorization"
   ]
  },
  {
   "cell_type": "code",
   "execution_count": null,
   "id": "9e01a86f-b933-45d7-9069-9b7ad694f750",
   "metadata": {},
   "outputs": [],
   "source": []
  }
 ],
 "metadata": {
  "kernelspec": {
   "display_name": "Python 3 (ipykernel)",
   "language": "python",
   "name": "python3"
  },
  "language_info": {
   "codemirror_mode": {
    "name": "ipython",
    "version": 3
   },
   "file_extension": ".py",
   "mimetype": "text/x-python",
   "name": "python",
   "nbconvert_exporter": "python",
   "pygments_lexer": "ipython3",
   "version": "3.8.13"
  }
 },
 "nbformat": 4,
 "nbformat_minor": 5
}
