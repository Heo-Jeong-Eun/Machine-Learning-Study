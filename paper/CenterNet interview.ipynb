{
 "cells": [
  {
   "cell_type": "markdown",
   "metadata": {},
   "source": [
    "1. centernet이 어떤 것인지 설명해주세요\n",
    "- 말그대로 center, 각 객체의 중심점을 찾아 하나의 객체 anchor box를 만들어서 객체를 탐지하는 one-stage detector\n",
    "\n",
    "1.0.1. 그럼 anchor box와 bounding box가 어떤 것이고, 차이점에 대해서 설명해주세요.\n",
    "\t- bbox는 object를 detect하는 예측 box를 말하고, anchor box는 미리 정해진 크기와 ratio를 바탕으로 한 box이고, 이 box를 바탕으로 bbox가 만들어짐. \n",
    "\n",
    "1.1.1. centernet이 one-stage detector라고 하셨는데, 설명해주세요\n",
    "- detector는 물체/객체를 탐지하는 알고리즘, one-stage/two-stage가 있다. one-stage : regional proposal과 classification 동시에 이뤄지고, two-stage : regional proposal과 classification과 순차적으로 이뤄짐\n",
    "\n",
    "1.1.2. 두 detector의 장점과 단점이 어떻게 되죠?\n",
    "- one-stage는 한 번에 이뤄지는 것 만큼 two-stage에 비해 빠르지만 정확도가 낮고, two-stage는 느리지만 정확도가 높다.\n",
    "\n",
    "1.1.3. centernet이 같은 one-stage detector와의 차이점을 설명해주세요\n",
    "- 크게 3가지의 차이점이 있다. 첫번째, Anchor를 결정할 때, box overlap(임계값에 따른 foreground/background 분기 처리)가 아닌 위치만으로 결정한다. 두번째, 하나의 객체에 단 하나의 Anchor만 출력되고, grouping/nms 작업이 필요없다. 세번째, 최종 아웃풋은 상대적으로 큰 해상도를 가진다. 원본 이미지의 1/4\n",
    "\n",
    "\n",
    "2. centernet이 어떤 이유로 등장한 것 같은지 설명해주세요\n",
    "- centernet 논문 전에 Cornernet이 등장하면서 bbox 형태의 식별이 아닌 keypoint 식별로도 탐지가 가능하다는 것을 보여주었고, bbox 형태의 detection이 아닌 keypoint detection은 비효율적인 post-processing이 필요없기 때문에 성능면에서 더 좋기 때문에\n",
    "\n",
    "2.1 비효율적인 post-processing는 어떤 것이 있는지 설명해주세요\n",
    "- 대표적으로 전처리 작업인 grouping과 후처리 작업인 NMS가 있다. grouping은 객체마다 여러개 생성되는 keypoint들을 묶는 작업이고, NMS는 예측한 많은 bounding box 중에서 정확한 bounding box를 선택하는 기법이다.\n",
    "\n",
    "\n",
    "3. 각 객체의 중심점을 어떤 방법으로 얻는지 설명해주세요\n",
    "- 중심점은 keypoint estimation을 이용해서 얻는데, 해당 알고리즘은 Pose Estimation에서의 Keypoints들을 예측하는 알고리즘이다. CenterNet의 keypoint는 Object의 중심점이고, CenterNet의 우선적인 목적은 network를 통해 keypoint heatmap을 얻는다.\n",
    "\n",
    "3.1 network를 통해 얻어진 다른 것들은 없나요?\n",
    "- 해당 논문에서는 Resnet-18, Resnet-101, DLA-34, Hourglass-104 모델을 사용하여 keypoints, offsets, object size를 예측한다. offsets는 이미지 remapping 시 정확도가 떨어지는 걸 조정해주는 변수이고, objects size는 해당 객체의 크기를 말한다.\n",
    "\n",
    "\n",
    "4. 얻어진 keypoint로 해당 객체의 bbox 얻어내는 과정에 대해서 설명해주세요\n",
    "- 우선 heatmap으로부터 각 Category마다 peaks들을 뽑아 내고, heatmap 에서 주변 8개 pixel보다 값이 크거나 같은 중간값들을 모두 저장하고, 값이 큰 100개의 peak들을 남겨놓는다. 뽑아낸 peaks (keypoints) 의 위치는 정수 형태인 (x, y)로 나타내어지고, 이를 통해 bounding box의 좌표를 나타낸다.\n",
    "\n",
    "\n",
    "5. 그럼 Centernet에서 말하고 싶은 것을 한마디로 표현하자면 어떤 것이라고 생각하시나요\n",
    "- 객체를 탐지하는 output이 Single Keypoint Estimation으로 부터 나왔다는 것울 강조한다."
   ]
  }
 ],
 "metadata": {
  "language_info": {
   "name": "python"
  }
 },
 "nbformat": 4,
 "nbformat_minor": 2
}
